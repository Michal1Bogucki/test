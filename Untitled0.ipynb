{
  "cells": [
    {
      "cell_type": "markdown",
      "metadata": {
        "id": "view-in-github",
        "colab_type": "text"
      },
      "source": [
        "<a href=\"https://colab.research.google.com/github/Michal1Bogucki/test/blob/master/Untitled0.ipynb\" target=\"_parent\"><img src=\"https://colab.research.google.com/assets/colab-badge.svg\" alt=\"Open In Colab\"/></a>"
      ]
    },
    {
      "cell_type": "code",
      "execution_count": null,
      "metadata": {
        "id": "I1fNAryjUy_a"
      },
      "outputs": [],
      "source": [
        "!sudo DEBIAN_FRONTEND=noninteractive apt-get install keyboard-configuration\n",
        "!sudo apt update\n",
        "!sudo apt purge *nvidia* -y\n",
        "!sudo apt install nvidia-driver-530 -y"
      ]
    },
    {
      "cell_type": "code",
      "source": [
        "!clinfo"
      ],
      "metadata": {
        "id": "X9XDvQ_Gc2cS"
      },
      "execution_count": null,
      "outputs": []
    },
    {
      "cell_type": "code",
      "execution_count": 1,
      "metadata": {
        "colab": {
          "base_uri": "https://localhost:8080/"
        },
        "id": "fkkEAAp4Bn8i",
        "outputId": "7cce3414-d62b-4624-b5b8-2648e899541f"
      },
      "outputs": [
        {
          "output_type": "stream",
          "name": "stdout",
          "text": [
            "\u001b[33mhint: Using 'master' as the name for the initial branch. This default branch name\u001b[m\n",
            "\u001b[33mhint: is subject to change. To configure the initial branch name to use in all\u001b[m\n",
            "\u001b[33mhint: of your new repositories, which will suppress this warning, call:\u001b[m\n",
            "\u001b[33mhint: \u001b[m\n",
            "\u001b[33mhint: \tgit config --global init.defaultBranch <name>\u001b[m\n",
            "\u001b[33mhint: \u001b[m\n",
            "\u001b[33mhint: Names commonly chosen instead of 'master' are 'main', 'trunk' and\u001b[m\n",
            "\u001b[33mhint: 'development'. The just-created branch can be renamed via this command:\u001b[m\n",
            "\u001b[33mhint: \u001b[m\n",
            "\u001b[33mhint: \tgit branch -m <name>\u001b[m\n",
            "Initialized empty Git repository in /content/.git/\n",
            "remote: Enumerating objects: 16392, done.\u001b[K\n",
            "remote: Counting objects: 100% (1189/1189), done.\u001b[K\n",
            "remote: Compressing objects: 100% (161/161), done.\u001b[K\n",
            "remote: Total 16392 (delta 1081), reused 1065 (delta 1025), pack-reused 15203\u001b[K\n",
            "Receiving objects: 100% (16392/16392), 18.98 MiB | 23.16 MiB/s, done.\n",
            "Resolving deltas: 100% (11652/11652), done.\n",
            "From https://github.com/geohot/tinygrad\n",
            " * [new branch]        cleanup_mlperf -> origin/cleanup_mlperf\n",
            " * [new branch]        dcgan          -> origin/dcgan\n",
            " * [new branch]        fast_triton    -> origin/fast_triton\n",
            " * [new branch]        master         -> origin/master\n",
            " * [new branch]        metalopt       -> origin/metalopt\n",
            " * [new branch]        nevergrad      -> origin/nevergrad\n",
            " * [new branch]        new_triton     -> origin/new_triton\n",
            " * [new branch]        run_commavq    -> origin/run_commavq\n",
            " * [new branch]        simple_bitcast -> origin/simple_bitcast\n",
            " * [new branch]        tensor_cores   -> origin/tensor_cores\n",
            " * [new branch]        uopsif         -> origin/uopsif\n",
            " * [new tag]           v0.4.0         -> v0.4.0\n",
            " * [new tag]           v0.5.0         -> v0.5.0\n",
            " * [new tag]           v0.6.0         -> v0.6.0\n",
            "Branch 'master' set up to track remote branch 'master' from 'origin'.\n",
            "Already on 'master'\n"
          ]
        }
      ],
      "source": [
        "\n",
        "!git init\n",
        "!git remote add origin https://github.com/geohot/tinygrad.git\n",
        "!git fetch origin\n",
        "!git checkout -b master --track origin/master\n",
        "!git reset origin/master\n"
      ]
    },
    {
      "cell_type": "code",
      "execution_count": 2,
      "metadata": {
        "colab": {
          "base_uri": "https://localhost:8080/"
        },
        "id": "6k8extjLPnNq",
        "outputId": "61ac97cf-0717-409d-9302-ece54fab401b"
      },
      "outputs": [
        {
          "output_type": "stream",
          "name": "stdout",
          "text": [
            "Obtaining file:///content\n",
            "  Preparing metadata (setup.py) ... \u001b[?25l\u001b[?25hdone\n",
            "Requirement already satisfied: numpy in /usr/local/lib/python3.10/dist-packages (from tinygrad==0.6.0) (1.23.5)\n",
            "Requirement already satisfied: requests in /usr/local/lib/python3.10/dist-packages (from tinygrad==0.6.0) (2.31.0)\n",
            "Requirement already satisfied: pillow in /usr/local/lib/python3.10/dist-packages (from tinygrad==0.6.0) (9.4.0)\n",
            "Requirement already satisfied: tqdm in /usr/local/lib/python3.10/dist-packages (from tinygrad==0.6.0) (4.66.1)\n",
            "Requirement already satisfied: networkx in /usr/local/lib/python3.10/dist-packages (from tinygrad==0.6.0) (3.1)\n",
            "Collecting pyopencl (from tinygrad==0.6.0)\n",
            "  Downloading pyopencl-2023.1.2-cp310-cp310-manylinux_2_17_x86_64.manylinux2014_x86_64.whl (941 kB)\n",
            "\u001b[2K     \u001b[90m━━━━━━━━━━━━━━━━━━━━━━━━━━━━━━━━━━━━━━━\u001b[0m \u001b[32m941.9/941.9 kB\u001b[0m \u001b[31m7.7 MB/s\u001b[0m eta \u001b[36m0:00:00\u001b[0m\n",
            "\u001b[?25hRequirement already satisfied: PyYAML in /usr/local/lib/python3.10/dist-packages (from tinygrad==0.6.0) (6.0.1)\n",
            "Collecting pytools>=2021.2.7 (from pyopencl->tinygrad==0.6.0)\n",
            "  Downloading pytools-2023.1.1-py2.py3-none-any.whl (70 kB)\n",
            "\u001b[2K     \u001b[90m━━━━━━━━━━━━━━━━━━━━━━━━━━━━━━━━━━━━━━━━\u001b[0m \u001b[32m70.6/70.6 kB\u001b[0m \u001b[31m8.6 MB/s\u001b[0m eta \u001b[36m0:00:00\u001b[0m\n",
            "\u001b[?25hRequirement already satisfied: platformdirs>=2.2.0 in /usr/local/lib/python3.10/dist-packages (from pyopencl->tinygrad==0.6.0) (3.10.0)\n",
            "Requirement already satisfied: charset-normalizer<4,>=2 in /usr/local/lib/python3.10/dist-packages (from requests->tinygrad==0.6.0) (3.2.0)\n",
            "Requirement already satisfied: idna<4,>=2.5 in /usr/local/lib/python3.10/dist-packages (from requests->tinygrad==0.6.0) (3.4)\n",
            "Requirement already satisfied: urllib3<3,>=1.21.1 in /usr/local/lib/python3.10/dist-packages (from requests->tinygrad==0.6.0) (2.0.4)\n",
            "Requirement already satisfied: certifi>=2017.4.17 in /usr/local/lib/python3.10/dist-packages (from requests->tinygrad==0.6.0) (2023.7.22)\n",
            "Requirement already satisfied: typing-extensions>=4.0 in /usr/local/lib/python3.10/dist-packages (from pytools>=2021.2.7->pyopencl->tinygrad==0.6.0) (4.7.1)\n",
            "Installing collected packages: pytools, pyopencl, tinygrad\n",
            "  Running setup.py develop for tinygrad\n",
            "Successfully installed pyopencl-2023.1.2 pytools-2023.1.1 tinygrad-0.6.0\n"
          ]
        }
      ],
      "source": [
        "%pip install -e ."
      ]
    },
    {
      "cell_type": "code",
      "execution_count": 3,
      "metadata": {
        "id": "zuCR9hdTPf0_",
        "outputId": "5f872644-cb42-4915-985a-2ca6d51ecddb",
        "colab": {
          "base_uri": "https://localhost:8080/"
        }
      },
      "outputs": [
        {
          "output_type": "stream",
          "name": "stdout",
          "text": [
            "Collecting pycuda\n",
            "  Downloading pycuda-2022.2.2.tar.gz (1.7 MB)\n",
            "\u001b[2K     \u001b[90m━━━━━━━━━━━━━━━━━━━━━━━━━━━━━━━━━━━━━━━━\u001b[0m \u001b[32m1.7/1.7 MB\u001b[0m \u001b[31m5.3 MB/s\u001b[0m eta \u001b[36m0:00:00\u001b[0m\n",
            "\u001b[?25h  Installing build dependencies ... \u001b[?25l\u001b[?25hdone\n",
            "  Getting requirements to build wheel ... \u001b[?25l\u001b[?25hdone\n",
            "  Preparing metadata (pyproject.toml) ... \u001b[?25l\u001b[?25hdone\n",
            "Requirement already satisfied: pytools>=2011.2 in /usr/local/lib/python3.10/dist-packages (from pycuda) (2023.1.1)\n",
            "Requirement already satisfied: appdirs>=1.4.0 in /usr/local/lib/python3.10/dist-packages (from pycuda) (1.4.4)\n",
            "Collecting mako (from pycuda)\n",
            "  Downloading Mako-1.2.4-py3-none-any.whl (78 kB)\n",
            "\u001b[2K     \u001b[90m━━━━━━━━━━━━━━━━━━━━━━━━━━━━━━━━━━━━━━━━\u001b[0m \u001b[32m78.7/78.7 kB\u001b[0m \u001b[31m8.7 MB/s\u001b[0m eta \u001b[36m0:00:00\u001b[0m\n",
            "\u001b[?25hRequirement already satisfied: platformdirs>=2.2.0 in /usr/local/lib/python3.10/dist-packages (from pytools>=2011.2->pycuda) (3.10.0)\n",
            "Requirement already satisfied: typing-extensions>=4.0 in /usr/local/lib/python3.10/dist-packages (from pytools>=2011.2->pycuda) (4.7.1)\n",
            "Requirement already satisfied: MarkupSafe>=0.9.2 in /usr/local/lib/python3.10/dist-packages (from mako->pycuda) (2.1.3)\n",
            "Building wheels for collected packages: pycuda\n",
            "  Building wheel for pycuda (pyproject.toml) ... \u001b[?25l\u001b[?25hcanceled\n",
            "\u001b[31mERROR: Operation cancelled by user\u001b[0m\u001b[31m\n",
            "\u001b[0m"
          ]
        }
      ],
      "source": [
        "%pip install pycuda"
      ]
    },
    {
      "cell_type": "code",
      "source": [
        "%pip install ipympl"
      ],
      "metadata": {
        "id": "LzPl_BAb_75f",
        "colab": {
          "base_uri": "https://localhost:8080/"
        },
        "outputId": "cd0d1bd7-790a-43e5-f72f-357d25961887"
      },
      "execution_count": 4,
      "outputs": [
        {
          "output_type": "stream",
          "name": "stdout",
          "text": [
            "Collecting ipympl\n",
            "  Downloading ipympl-0.9.3-py2.py3-none-any.whl (511 kB)\n",
            "\u001b[?25l     \u001b[90m━━━━━━━━━━━━━━━━━━━━━━━━━━━━━━━━━━━━━━━━\u001b[0m \u001b[32m0.0/511.6 kB\u001b[0m \u001b[31m?\u001b[0m eta \u001b[36m-:--:--\u001b[0m\r\u001b[2K     \u001b[91m━━━━━━━━\u001b[0m\u001b[91m╸\u001b[0m\u001b[90m━━━━━━━━━━━━━━━━━━━━━━━━━━━━━━\u001b[0m \u001b[32m112.6/511.6 kB\u001b[0m \u001b[31m3.3 MB/s\u001b[0m eta \u001b[36m0:00:01\u001b[0m\r\u001b[2K     \u001b[91m━━━━━━━━━━━━━━━━━━━━━━━━━━━━━━━━━━━━━━\u001b[0m\u001b[90m╺\u001b[0m \u001b[32m501.8/511.6 kB\u001b[0m \u001b[31m7.6 MB/s\u001b[0m eta \u001b[36m0:00:01\u001b[0m\r\u001b[2K     \u001b[90m━━━━━━━━━━━━━━━━━━━━━━━━━━━━━━━━━━━━━━━\u001b[0m \u001b[32m511.6/511.6 kB\u001b[0m \u001b[31m6.5 MB/s\u001b[0m eta \u001b[36m0:00:00\u001b[0m\n",
            "\u001b[?25hRequirement already satisfied: ipython<9 in /usr/local/lib/python3.10/dist-packages (from ipympl) (7.34.0)\n",
            "Requirement already satisfied: numpy in /usr/local/lib/python3.10/dist-packages (from ipympl) (1.23.5)\n",
            "Requirement already satisfied: ipython-genutils in /usr/local/lib/python3.10/dist-packages (from ipympl) (0.2.0)\n",
            "Requirement already satisfied: pillow in /usr/local/lib/python3.10/dist-packages (from ipympl) (9.4.0)\n",
            "Requirement already satisfied: traitlets<6 in /usr/local/lib/python3.10/dist-packages (from ipympl) (5.7.1)\n",
            "Requirement already satisfied: ipywidgets<9,>=7.6.0 in /usr/local/lib/python3.10/dist-packages (from ipympl) (7.7.1)\n",
            "Requirement already satisfied: matplotlib<4,>=3.4.0 in /usr/local/lib/python3.10/dist-packages (from ipympl) (3.7.1)\n",
            "Requirement already satisfied: setuptools>=18.5 in /usr/local/lib/python3.10/dist-packages (from ipython<9->ipympl) (67.7.2)\n",
            "Collecting jedi>=0.16 (from ipython<9->ipympl)\n",
            "  Downloading jedi-0.19.0-py2.py3-none-any.whl (1.6 MB)\n",
            "\u001b[2K     \u001b[90m━━━━━━━━━━━━━━━━━━━━━━━━━━━━━━━━━━━━━━━━\u001b[0m \u001b[32m1.6/1.6 MB\u001b[0m \u001b[31m15.2 MB/s\u001b[0m eta \u001b[36m0:00:00\u001b[0m\n",
            "\u001b[?25hRequirement already satisfied: decorator in /usr/local/lib/python3.10/dist-packages (from ipython<9->ipympl) (4.4.2)\n",
            "Requirement already satisfied: pickleshare in /usr/local/lib/python3.10/dist-packages (from ipython<9->ipympl) (0.7.5)\n",
            "Requirement already satisfied: prompt-toolkit!=3.0.0,!=3.0.1,<3.1.0,>=2.0.0 in /usr/local/lib/python3.10/dist-packages (from ipython<9->ipympl) (3.0.39)\n",
            "Requirement already satisfied: pygments in /usr/local/lib/python3.10/dist-packages (from ipython<9->ipympl) (2.16.1)\n",
            "Requirement already satisfied: backcall in /usr/local/lib/python3.10/dist-packages (from ipython<9->ipympl) (0.2.0)\n",
            "Requirement already satisfied: matplotlib-inline in /usr/local/lib/python3.10/dist-packages (from ipython<9->ipympl) (0.1.6)\n",
            "Requirement already satisfied: pexpect>4.3 in /usr/local/lib/python3.10/dist-packages (from ipython<9->ipympl) (4.8.0)\n",
            "Requirement already satisfied: ipykernel>=4.5.1 in /usr/local/lib/python3.10/dist-packages (from ipywidgets<9,>=7.6.0->ipympl) (5.5.6)\n",
            "Requirement already satisfied: widgetsnbextension~=3.6.0 in /usr/local/lib/python3.10/dist-packages (from ipywidgets<9,>=7.6.0->ipympl) (3.6.5)\n",
            "Requirement already satisfied: jupyterlab-widgets>=1.0.0 in /usr/local/lib/python3.10/dist-packages (from ipywidgets<9,>=7.6.0->ipympl) (3.0.8)\n",
            "Requirement already satisfied: contourpy>=1.0.1 in /usr/local/lib/python3.10/dist-packages (from matplotlib<4,>=3.4.0->ipympl) (1.1.0)\n",
            "Requirement already satisfied: cycler>=0.10 in /usr/local/lib/python3.10/dist-packages (from matplotlib<4,>=3.4.0->ipympl) (0.11.0)\n",
            "Requirement already satisfied: fonttools>=4.22.0 in /usr/local/lib/python3.10/dist-packages (from matplotlib<4,>=3.4.0->ipympl) (4.42.0)\n",
            "Requirement already satisfied: kiwisolver>=1.0.1 in /usr/local/lib/python3.10/dist-packages (from matplotlib<4,>=3.4.0->ipympl) (1.4.4)\n",
            "Requirement already satisfied: packaging>=20.0 in /usr/local/lib/python3.10/dist-packages (from matplotlib<4,>=3.4.0->ipympl) (23.1)\n",
            "Requirement already satisfied: pyparsing>=2.3.1 in /usr/local/lib/python3.10/dist-packages (from matplotlib<4,>=3.4.0->ipympl) (3.1.1)\n",
            "Requirement already satisfied: python-dateutil>=2.7 in /usr/local/lib/python3.10/dist-packages (from matplotlib<4,>=3.4.0->ipympl) (2.8.2)\n",
            "Requirement already satisfied: jupyter-client in /usr/local/lib/python3.10/dist-packages (from ipykernel>=4.5.1->ipywidgets<9,>=7.6.0->ipympl) (6.1.12)\n",
            "Requirement already satisfied: tornado>=4.2 in /usr/local/lib/python3.10/dist-packages (from ipykernel>=4.5.1->ipywidgets<9,>=7.6.0->ipympl) (6.3.2)\n",
            "Requirement already satisfied: parso<0.9.0,>=0.8.3 in /usr/local/lib/python3.10/dist-packages (from jedi>=0.16->ipython<9->ipympl) (0.8.3)\n",
            "Requirement already satisfied: ptyprocess>=0.5 in /usr/local/lib/python3.10/dist-packages (from pexpect>4.3->ipython<9->ipympl) (0.7.0)\n",
            "Requirement already satisfied: wcwidth in /usr/local/lib/python3.10/dist-packages (from prompt-toolkit!=3.0.0,!=3.0.1,<3.1.0,>=2.0.0->ipython<9->ipympl) (0.2.6)\n",
            "Requirement already satisfied: six>=1.5 in /usr/local/lib/python3.10/dist-packages (from python-dateutil>=2.7->matplotlib<4,>=3.4.0->ipympl) (1.16.0)\n",
            "Requirement already satisfied: notebook>=4.4.1 in /usr/local/lib/python3.10/dist-packages (from widgetsnbextension~=3.6.0->ipywidgets<9,>=7.6.0->ipympl) (6.5.5)\n",
            "Requirement already satisfied: jinja2 in /usr/local/lib/python3.10/dist-packages (from notebook>=4.4.1->widgetsnbextension~=3.6.0->ipywidgets<9,>=7.6.0->ipympl) (3.1.2)\n",
            "Requirement already satisfied: pyzmq<25,>=17 in /usr/local/lib/python3.10/dist-packages (from notebook>=4.4.1->widgetsnbextension~=3.6.0->ipywidgets<9,>=7.6.0->ipympl) (23.2.1)\n",
            "Requirement already satisfied: argon2-cffi in /usr/local/lib/python3.10/dist-packages (from notebook>=4.4.1->widgetsnbextension~=3.6.0->ipywidgets<9,>=7.6.0->ipympl) (23.1.0)\n",
            "Requirement already satisfied: jupyter-core>=4.6.1 in /usr/local/lib/python3.10/dist-packages (from notebook>=4.4.1->widgetsnbextension~=3.6.0->ipywidgets<9,>=7.6.0->ipympl) (5.3.1)\n",
            "Requirement already satisfied: nbformat in /usr/local/lib/python3.10/dist-packages (from notebook>=4.4.1->widgetsnbextension~=3.6.0->ipywidgets<9,>=7.6.0->ipympl) (5.9.2)\n",
            "Requirement already satisfied: nbconvert>=5 in /usr/local/lib/python3.10/dist-packages (from notebook>=4.4.1->widgetsnbextension~=3.6.0->ipywidgets<9,>=7.6.0->ipympl) (6.5.4)\n",
            "Requirement already satisfied: nest-asyncio>=1.5 in /usr/local/lib/python3.10/dist-packages (from notebook>=4.4.1->widgetsnbextension~=3.6.0->ipywidgets<9,>=7.6.0->ipympl) (1.5.7)\n",
            "Requirement already satisfied: Send2Trash>=1.8.0 in /usr/local/lib/python3.10/dist-packages (from notebook>=4.4.1->widgetsnbextension~=3.6.0->ipywidgets<9,>=7.6.0->ipympl) (1.8.2)\n",
            "Requirement already satisfied: terminado>=0.8.3 in /usr/local/lib/python3.10/dist-packages (from notebook>=4.4.1->widgetsnbextension~=3.6.0->ipywidgets<9,>=7.6.0->ipympl) (0.17.1)\n",
            "Requirement already satisfied: prometheus-client in /usr/local/lib/python3.10/dist-packages (from notebook>=4.4.1->widgetsnbextension~=3.6.0->ipywidgets<9,>=7.6.0->ipympl) (0.17.1)\n",
            "Requirement already satisfied: nbclassic>=0.4.7 in /usr/local/lib/python3.10/dist-packages (from notebook>=4.4.1->widgetsnbextension~=3.6.0->ipywidgets<9,>=7.6.0->ipympl) (1.0.0)\n",
            "Requirement already satisfied: platformdirs>=2.5 in /usr/local/lib/python3.10/dist-packages (from jupyter-core>=4.6.1->notebook>=4.4.1->widgetsnbextension~=3.6.0->ipywidgets<9,>=7.6.0->ipympl) (3.10.0)\n",
            "Requirement already satisfied: jupyter-server>=1.8 in /usr/local/lib/python3.10/dist-packages (from nbclassic>=0.4.7->notebook>=4.4.1->widgetsnbextension~=3.6.0->ipywidgets<9,>=7.6.0->ipympl) (1.24.0)\n",
            "Requirement already satisfied: notebook-shim>=0.2.3 in /usr/local/lib/python3.10/dist-packages (from nbclassic>=0.4.7->notebook>=4.4.1->widgetsnbextension~=3.6.0->ipywidgets<9,>=7.6.0->ipympl) (0.2.3)\n",
            "Requirement already satisfied: lxml in /usr/local/lib/python3.10/dist-packages (from nbconvert>=5->notebook>=4.4.1->widgetsnbextension~=3.6.0->ipywidgets<9,>=7.6.0->ipympl) (4.9.3)\n",
            "Requirement already satisfied: beautifulsoup4 in /usr/local/lib/python3.10/dist-packages (from nbconvert>=5->notebook>=4.4.1->widgetsnbextension~=3.6.0->ipywidgets<9,>=7.6.0->ipympl) (4.11.2)\n",
            "Requirement already satisfied: bleach in /usr/local/lib/python3.10/dist-packages (from nbconvert>=5->notebook>=4.4.1->widgetsnbextension~=3.6.0->ipywidgets<9,>=7.6.0->ipympl) (6.0.0)\n",
            "Requirement already satisfied: defusedxml in /usr/local/lib/python3.10/dist-packages (from nbconvert>=5->notebook>=4.4.1->widgetsnbextension~=3.6.0->ipywidgets<9,>=7.6.0->ipympl) (0.7.1)\n",
            "Requirement already satisfied: entrypoints>=0.2.2 in /usr/local/lib/python3.10/dist-packages (from nbconvert>=5->notebook>=4.4.1->widgetsnbextension~=3.6.0->ipywidgets<9,>=7.6.0->ipympl) (0.4)\n",
            "Requirement already satisfied: jupyterlab-pygments in /usr/local/lib/python3.10/dist-packages (from nbconvert>=5->notebook>=4.4.1->widgetsnbextension~=3.6.0->ipywidgets<9,>=7.6.0->ipympl) (0.2.2)\n",
            "Requirement already satisfied: MarkupSafe>=2.0 in /usr/local/lib/python3.10/dist-packages (from nbconvert>=5->notebook>=4.4.1->widgetsnbextension~=3.6.0->ipywidgets<9,>=7.6.0->ipympl) (2.1.3)\n",
            "Requirement already satisfied: mistune<2,>=0.8.1 in /usr/local/lib/python3.10/dist-packages (from nbconvert>=5->notebook>=4.4.1->widgetsnbextension~=3.6.0->ipywidgets<9,>=7.6.0->ipympl) (0.8.4)\n",
            "Requirement already satisfied: nbclient>=0.5.0 in /usr/local/lib/python3.10/dist-packages (from nbconvert>=5->notebook>=4.4.1->widgetsnbextension~=3.6.0->ipywidgets<9,>=7.6.0->ipympl) (0.8.0)\n",
            "Requirement already satisfied: pandocfilters>=1.4.1 in /usr/local/lib/python3.10/dist-packages (from nbconvert>=5->notebook>=4.4.1->widgetsnbextension~=3.6.0->ipywidgets<9,>=7.6.0->ipympl) (1.5.0)\n",
            "Requirement already satisfied: tinycss2 in /usr/local/lib/python3.10/dist-packages (from nbconvert>=5->notebook>=4.4.1->widgetsnbextension~=3.6.0->ipywidgets<9,>=7.6.0->ipympl) (1.2.1)\n",
            "Requirement already satisfied: fastjsonschema in /usr/local/lib/python3.10/dist-packages (from nbformat->notebook>=4.4.1->widgetsnbextension~=3.6.0->ipywidgets<9,>=7.6.0->ipympl) (2.18.0)\n",
            "Requirement already satisfied: jsonschema>=2.6 in /usr/local/lib/python3.10/dist-packages (from nbformat->notebook>=4.4.1->widgetsnbextension~=3.6.0->ipywidgets<9,>=7.6.0->ipympl) (4.19.0)\n",
            "Requirement already satisfied: argon2-cffi-bindings in /usr/local/lib/python3.10/dist-packages (from argon2-cffi->notebook>=4.4.1->widgetsnbextension~=3.6.0->ipywidgets<9,>=7.6.0->ipympl) (21.2.0)\n",
            "Requirement already satisfied: attrs>=22.2.0 in /usr/local/lib/python3.10/dist-packages (from jsonschema>=2.6->nbformat->notebook>=4.4.1->widgetsnbextension~=3.6.0->ipywidgets<9,>=7.6.0->ipympl) (23.1.0)\n",
            "Requirement already satisfied: jsonschema-specifications>=2023.03.6 in /usr/local/lib/python3.10/dist-packages (from jsonschema>=2.6->nbformat->notebook>=4.4.1->widgetsnbextension~=3.6.0->ipywidgets<9,>=7.6.0->ipympl) (2023.7.1)\n",
            "Requirement already satisfied: referencing>=0.28.4 in /usr/local/lib/python3.10/dist-packages (from jsonschema>=2.6->nbformat->notebook>=4.4.1->widgetsnbextension~=3.6.0->ipywidgets<9,>=7.6.0->ipympl) (0.30.2)\n",
            "Requirement already satisfied: rpds-py>=0.7.1 in /usr/local/lib/python3.10/dist-packages (from jsonschema>=2.6->nbformat->notebook>=4.4.1->widgetsnbextension~=3.6.0->ipywidgets<9,>=7.6.0->ipympl) (0.9.2)\n",
            "Requirement already satisfied: anyio<4,>=3.1.0 in /usr/local/lib/python3.10/dist-packages (from jupyter-server>=1.8->nbclassic>=0.4.7->notebook>=4.4.1->widgetsnbextension~=3.6.0->ipywidgets<9,>=7.6.0->ipympl) (3.7.1)\n",
            "Requirement already satisfied: websocket-client in /usr/local/lib/python3.10/dist-packages (from jupyter-server>=1.8->nbclassic>=0.4.7->notebook>=4.4.1->widgetsnbextension~=3.6.0->ipywidgets<9,>=7.6.0->ipympl) (1.6.1)\n",
            "Requirement already satisfied: cffi>=1.0.1 in /usr/local/lib/python3.10/dist-packages (from argon2-cffi-bindings->argon2-cffi->notebook>=4.4.1->widgetsnbextension~=3.6.0->ipywidgets<9,>=7.6.0->ipympl) (1.15.1)\n",
            "Requirement already satisfied: soupsieve>1.2 in /usr/local/lib/python3.10/dist-packages (from beautifulsoup4->nbconvert>=5->notebook>=4.4.1->widgetsnbextension~=3.6.0->ipywidgets<9,>=7.6.0->ipympl) (2.4.1)\n",
            "Requirement already satisfied: webencodings in /usr/local/lib/python3.10/dist-packages (from bleach->nbconvert>=5->notebook>=4.4.1->widgetsnbextension~=3.6.0->ipywidgets<9,>=7.6.0->ipympl) (0.5.1)\n",
            "Requirement already satisfied: idna>=2.8 in /usr/local/lib/python3.10/dist-packages (from anyio<4,>=3.1.0->jupyter-server>=1.8->nbclassic>=0.4.7->notebook>=4.4.1->widgetsnbextension~=3.6.0->ipywidgets<9,>=7.6.0->ipympl) (3.4)\n",
            "Requirement already satisfied: sniffio>=1.1 in /usr/local/lib/python3.10/dist-packages (from anyio<4,>=3.1.0->jupyter-server>=1.8->nbclassic>=0.4.7->notebook>=4.4.1->widgetsnbextension~=3.6.0->ipywidgets<9,>=7.6.0->ipympl) (1.3.0)\n",
            "Requirement already satisfied: exceptiongroup in /usr/local/lib/python3.10/dist-packages (from anyio<4,>=3.1.0->jupyter-server>=1.8->nbclassic>=0.4.7->notebook>=4.4.1->widgetsnbextension~=3.6.0->ipywidgets<9,>=7.6.0->ipympl) (1.1.3)\n",
            "Requirement already satisfied: pycparser in /usr/local/lib/python3.10/dist-packages (from cffi>=1.0.1->argon2-cffi-bindings->argon2-cffi->notebook>=4.4.1->widgetsnbextension~=3.6.0->ipywidgets<9,>=7.6.0->ipympl) (2.21)\n",
            "Installing collected packages: jedi, ipympl\n",
            "Successfully installed ipympl-0.9.3 jedi-0.19.0\n"
          ]
        }
      ]
    },
    {
      "cell_type": "code",
      "execution_count": 5,
      "metadata": {
        "id": "DLjaYXF7TQVA",
        "colab": {
          "base_uri": "https://localhost:8080/",
          "height": 719,
          "referenced_widgets": [
            "ca7e7ba854cb4a35a2a5c290afb3d42a",
            "218e8ff2e259426d9c2d3d68dd01a4cc",
            "0c8f7197516c46afa3ad477ab84e6d7d",
            "b7d5fd54cdad4eb4a26270a32c516f77",
            "b2d52b00b95a4273a21b8e764d33dde0",
            "4f3d676034664f7aafa4c9274742fa08",
            "aed52ec3fac54a578abb926e289630b3",
            "36b71a5578e94f82bcdd48dfa17f0592",
            "1762384eefb84d8894ba440512ef7750"
          ]
        },
        "outputId": "08e5a08a-d2a1-4553-ce44-2320daa21056"
      },
      "outputs": [
        {
          "output_type": "display_data",
          "data": {
            "text/plain": [
              "IntSlider(value=0)"
            ],
            "application/vnd.jupyter.widget-view+json": {
              "version_major": 2,
              "version_minor": 0,
              "model_id": "ca7e7ba854cb4a35a2a5c290afb3d42a"
            }
          },
          "metadata": {
            "application/vnd.jupyter.widget-view+json": {
              "colab": {
                "custom_widget_manager": {
                  "url": "https://ssl.gstatic.com/colaboratory-static/widgets/colab-cdn-widget-manager/b3e629b1971e1542/manager.min.js"
                }
              }
            }
          }
        },
        {
          "output_type": "display_data",
          "data": {
            "text/plain": [
              "Output()"
            ],
            "application/vnd.jupyter.widget-view+json": {
              "version_major": 2,
              "version_minor": 0,
              "model_id": "b7d5fd54cdad4eb4a26270a32c516f77"
            }
          },
          "metadata": {
            "application/vnd.jupyter.widget-view+json": {
              "colab": {
                "custom_widget_manager": {
                  "url": "https://ssl.gstatic.com/colaboratory-static/widgets/colab-cdn-widget-manager/b3e629b1971e1542/manager.min.js"
                }
              }
            }
          }
        },
        {
          "output_type": "display_data",
          "data": {
            "text/plain": [
              "Canvas(toolbar=Toolbar(toolitems=[('Home', 'Reset original view', 'home', 'home'), ('Back', 'Back to previous …"
            ],
            "image/png": "[encoded data removed]",
            "text/html": [
              "\n",
              "            <div style=\"display: inline-block;\">\n",
              "                <div class=\"jupyter-widgets widget-label\" style=\"text-align: center;\">\n",
              "                    Figure\n",
              "                </div>\n",
              "                <img src='data:image/png;base64,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' width=640.0/>\n",
              "            </div>\n",
              "        "
            ],
            "application/vnd.jupyter.widget-view+json": {
              "version_major": 2,
              "version_minor": 0,
              "model_id": "1762384eefb84d8894ba440512ef7750"
            }
          },
          "metadata": {
            "application/vnd.jupyter.widget-view+json": {
              "colab": {
                "custom_widget_manager": {
                  "url": "https://ssl.gstatic.com/colaboratory-static/widgets/colab-cdn-widget-manager/b3e629b1971e1542/manager.min.js"
                }
              }
            }
          }
        }
      ],
      "source": [
        "%matplotlib widget\n",
        "import ipywidgets as widgets\n",
        "from IPython.display import display\n",
        "from google.colab import output\n",
        "output.enable_custom_widget_manager()\n",
        "from extra.datasets import fetch_mnist\n",
        "from matplotlib import pyplot as plt\n",
        "import numpy as np\n",
        "\n",
        "\n",
        "int_range = widgets.IntSlider()\n",
        "output2 = widgets.Output()\n",
        "\n",
        "display(int_range, output2)\n",
        "\n",
        "plt.clf()\n",
        "images_real = fetch_mnist()[2]\n",
        "\n",
        "fig=plt.imshow(np.array(images_real[1]).reshape(28,28), interpolation='none', cmap='gray')\n",
        "plt.show()\n",
        "\n",
        "def on_value_change(change):\n",
        "    with output2:\n",
        "        fig.set_data(np.array(images_real[change['new']]).reshape(28,28))\n",
        "\n",
        "\n",
        "int_range.observe(on_value_change, names='value')\n",
        "\n",
        "\n",
        "\n"
      ]
    },
    {
      "cell_type": "code",
      "source": [
        "from tinygrad.jit import TinyJit\n",
        "\n",
        "import math\n",
        "from tinygrad.tensor import Tensor\n",
        "from tinygrad.nn import Linear\n",
        "image = np.array(images_real[21]).reshape(28,28);\n",
        "\n",
        "def FourFeat(x):\n",
        "\n",
        "  return [x[0],\n",
        "          math.cos(x[0]*2*math.pi),\n",
        "          math.sin(x[0]*2*math.pi),\n",
        "          math.cos(2*x[0]*2*math.pi),\n",
        "          math.sin(2*x[0]*2*math.pi),\n",
        "          x[1],\n",
        "          math.cos(x[1]*2*math.pi),\n",
        "          math.sin(x[1]*2*math.pi),\n",
        "          math.cos(2*x[1]*2*math.pi),\n",
        "          math.sin(2*x[1]*2*math.pi)]\n",
        "\n",
        "@TinyJit\n",
        "class NorNet:\n",
        "  def __init__(self):\n",
        "    self.l1 = Linear(2,9,bias=True)\n",
        "    #self.l15 = Linear(10,20,bias=False)\n",
        "    self.l2 = Linear(9,4,bias=True)\n",
        "    self.l3 = Linear(4,1,bias=True)\n",
        "    #self.l4 = Linear(20,1,bias=True)\n",
        "  def __call__(self, x):\n",
        "\n",
        "    x = self.l1(x)\n",
        "    x = x.leakyrelu()\n",
        "    x = self.l2(x)\n",
        "    x = x.leakyrelu()\n",
        "    #x = self.l15(x)\n",
        "    #x = x.mish()\n",
        "    x = self.l3(x)\n",
        "    #x = x.leakyrelu()\n",
        "    x = x.leakyrelu()\n",
        "    #x = self.l3(x)\n",
        "    #x = x.sin()\n",
        "    #x = self.l4(x)\n",
        "    #x = x.sigmoid()\n",
        "    return  x\n",
        "\n",
        "\n",
        "\n",
        "net = NorNet()\n"
      ],
      "metadata": {
        "id": "0GmPvsRARAES"
      },
      "execution_count": 260,
      "outputs": []
    },
    {
      "cell_type": "markdown",
      "source": [
        "0\t0\t| 1\n",
        "\n",
        "0\t1\t| 0\n",
        "\n",
        "1\t0\t| 0\n",
        "\n",
        "1\t1 |\t0\n",
        "\n",
        "\n",
        "intput = np.array([1,2,3,4]).reshape(4,1)\n",
        "\n",
        "expoutput =np.array([2,3,4,5]).reshape(4,1)\n"
      ],
      "metadata": {
        "id": "B7L7sDnvII85"
      }
    },
    {
      "cell_type": "code",
      "source": [
        "\n",
        "from IPython.display import clear_output\n",
        "from extra.training import sparse_categorical_crossentropy\n",
        "from tinygrad.nn.optim import SGD, LAMB\n",
        "from tinygrad.state import get_parameters\n",
        "Tensor.training = True\n",
        "opt = SGD(get_parameters(net), lr=1e-1)\n",
        "\n",
        "def mean_squared_error(y_true, y_pred):\n",
        "    #x= y_true.sub(Tensor(y_pred.astype(np.float32),requires_grad=False)).abs().mean()\n",
        "    x= y_true.sub(Tensor(y_pred.astype(np.float32))).square().mean()\n",
        "    return x\n",
        "\n",
        "grid_size=28\n",
        "\n",
        "image=(np.array(images_real[21]).reshape(28,28))[3:23,9:21]\n",
        "\n",
        "data=np.array([((x*2/28)-1, (y*2/28-1),image[x,y]/255) for x in range(image.shape[0]) for y in range(image.shape[1])])\n",
        "\n",
        "row= 15\n",
        "\n",
        "#data2train=data[np.randint(0,image.shape[0],size=5),:]\n",
        "#data2train=data2train[[1,5,10],:]\n",
        "fig=plt.imshow(image, interpolation='none', cmap='gray')\n"
      ],
      "metadata": {
        "id": "w-Cv98V-HnmQ"
      },
      "execution_count": 261,
      "outputs": []
    },
    {
      "cell_type": "code",
      "source": [
        "data2train=data[np.random.randint(0, data.shape[0],size=10),:]\n",
        "x=Tensor(data2train[:,0:2],requires_grad=False)\n",
        "yy=[(FourFeat(data2train[i,0:2])) for i in range(data2train.shape[0])]\n",
        "print(data2train)\n",
        "print(Tensor(yy).numpy())\n",
        "#FourFeat(yy)"
      ],
      "metadata": {
        "id": "bKGBAdWVnPN-",
        "outputId": "0518b8f5-90cb-491a-dd63-13a103abf565",
        "colab": {
          "base_uri": "https://localhost:8080/"
        }
      },
      "execution_count": 262,
      "outputs": [
        {
          "output_type": "stream",
          "name": "stdout",
          "text": [
            "[[-0.57142857 -0.92857143  0.83137255]\n",
            " [ 0.         -0.35714286  0.60784314]\n",
            " [-1.         -0.57142857  0.95686275]\n",
            " [-0.42857143 -0.35714286  0.        ]\n",
            " [ 0.         -0.64285714  0.        ]\n",
            " [ 0.28571429 -0.71428571  0.98823529]\n",
            " [-0.28571429 -0.64285714  0.99215686]\n",
            " [-0.71428571 -0.85714286  0.98823529]\n",
            " [ 0.         -0.5         0.        ]\n",
            " [-0.42857143 -0.78571429  0.        ]]\n",
            "[[-5.7142860e-01 -9.0096885e-01  4.3388373e-01  6.2348980e-01\n",
            "  -7.8183150e-01 -9.2857140e-01  9.0096885e-01  4.3388373e-01\n",
            "   6.2348980e-01  7.8183150e-01]\n",
            " [ 0.0000000e+00  1.0000000e+00  0.0000000e+00  1.0000000e+00\n",
            "   0.0000000e+00 -3.5714287e-01 -6.2348980e-01 -7.8183150e-01\n",
            "  -2.2252093e-01  9.7492790e-01]\n",
            " [-1.0000000e+00  1.0000000e+00  2.4492937e-16  1.0000000e+00\n",
            "   4.8985874e-16 -5.7142860e-01 -9.0096885e-01  4.3388373e-01\n",
            "   6.2348980e-01 -7.8183150e-01]\n",
            " [-4.2857143e-01 -9.0096885e-01 -4.3388373e-01  6.2348980e-01\n",
            "   7.8183150e-01 -3.5714287e-01 -6.2348980e-01 -7.8183150e-01\n",
            "  -2.2252093e-01  9.7492790e-01]\n",
            " [ 0.0000000e+00  1.0000000e+00  0.0000000e+00  1.0000000e+00\n",
            "   0.0000000e+00 -6.4285713e-01 -6.2348980e-01  7.8183150e-01\n",
            "  -2.2252093e-01 -9.7492790e-01]\n",
            " [ 2.8571430e-01 -2.2252093e-01  9.7492790e-01 -9.0096885e-01\n",
            "  -4.3388373e-01 -7.1428573e-01 -2.2252093e-01  9.7492790e-01\n",
            "  -9.0096885e-01 -4.3388373e-01]\n",
            " [-2.8571430e-01 -2.2252093e-01 -9.7492790e-01 -9.0096885e-01\n",
            "   4.3388373e-01 -6.4285713e-01 -6.2348980e-01  7.8183150e-01\n",
            "  -2.2252093e-01 -9.7492790e-01]\n",
            " [-7.1428573e-01 -2.2252093e-01  9.7492790e-01 -9.0096885e-01\n",
            "  -4.3388373e-01 -8.5714287e-01  6.2348980e-01  7.8183150e-01\n",
            "  -2.2252093e-01  9.7492790e-01]\n",
            " [ 0.0000000e+00  1.0000000e+00  0.0000000e+00  1.0000000e+00\n",
            "   0.0000000e+00 -5.0000000e-01 -1.0000000e+00 -1.2246469e-16\n",
            "   1.0000000e+00  2.4492937e-16]\n",
            " [-4.2857143e-01 -9.0096885e-01 -4.3388373e-01  6.2348980e-01\n",
            "   7.8183150e-01 -7.8571427e-01  2.2252093e-01  9.7492790e-01\n",
            "  -9.0096885e-01  4.3388373e-01]]\n"
          ]
        }
      ]
    },
    {
      "cell_type": "code",
      "source": [
        "\n",
        "data2train=data[np.random.randint(0, data.shape[0],size=50),:]\n",
        "for step in range(10000000):\n",
        "\n",
        "\n",
        "  #yy=[(FourFeat(data2train[i,0:2])) for i in range(data2train.shape[0])]\n",
        "  out = net(Tensor(data2train[:,0:2],requires_grad=False))\n",
        "\n",
        "  loss= mean_squared_error(out,data2train[:,2])\n",
        "\n",
        "  opt.zero_grad()\n",
        "  loss.backward()\n",
        "  opt.step()\n",
        "\n",
        "  if step % 10000 == 0:\n",
        "    #clear_output(wait=True)\n",
        "    row=np.random.randint(0, image.shape[0])\n",
        "    #data2train=data[row*image.shape[1]:row*image.shape[1]+image.shape[1],:]\n",
        "    print(f\"Step {step+1} | Loss: {loss.numpy()}\")\n"
      ],
      "metadata": {
        "colab": {
          "base_uri": "https://localhost:8080/",
          "height": 498
        },
        "id": "1xdrSYNbgWp-",
        "outputId": "d6b3114b-2ac2-4a50-c870-5dbe3b63c2ba"
      },
      "execution_count": 268,
      "outputs": [
        {
          "output_type": "stream",
          "name": "stdout",
          "text": [
            "Step 1 | Loss: 0.175619438290596\n",
            "Step 10001 | Loss: 0.17307952046394348\n",
            "Step 20001 | Loss: 0.1730794757604599\n"
          ]
        },
        {
          "output_type": "error",
          "ename": "KeyboardInterrupt",
          "evalue": "ignored",
          "traceback": [
            "\u001b[0;31m---------------------------------------------------------------------------\u001b[0m",
            "\u001b[0;31mKeyboardInterrupt\u001b[0m                         Traceback (most recent call last)",
            "\u001b[0;32m<ipython-input-268-030471ad4e45>\u001b[0m in \u001b[0;36m<cell line: 2>\u001b[0;34m()\u001b[0m\n\u001b[1;32m     10\u001b[0m   \u001b[0mopt\u001b[0m\u001b[0;34m.\u001b[0m\u001b[0mzero_grad\u001b[0m\u001b[0;34m(\u001b[0m\u001b[0;34m)\u001b[0m\u001b[0;34m\u001b[0m\u001b[0;34m\u001b[0m\u001b[0m\n\u001b[1;32m     11\u001b[0m   \u001b[0mloss\u001b[0m\u001b[0;34m.\u001b[0m\u001b[0mbackward\u001b[0m\u001b[0;34m(\u001b[0m\u001b[0;34m)\u001b[0m\u001b[0;34m\u001b[0m\u001b[0;34m\u001b[0m\u001b[0m\n\u001b[0;32m---> 12\u001b[0;31m   \u001b[0mopt\u001b[0m\u001b[0;34m.\u001b[0m\u001b[0mstep\u001b[0m\u001b[0;34m(\u001b[0m\u001b[0;34m)\u001b[0m\u001b[0;34m\u001b[0m\u001b[0;34m\u001b[0m\u001b[0m\n\u001b[0m\u001b[1;32m     13\u001b[0m \u001b[0;34m\u001b[0m\u001b[0m\n\u001b[1;32m     14\u001b[0m   \u001b[0;32mif\u001b[0m \u001b[0mstep\u001b[0m \u001b[0;34m%\u001b[0m \u001b[0;36m10000\u001b[0m \u001b[0;34m==\u001b[0m \u001b[0;36m0\u001b[0m\u001b[0;34m:\u001b[0m\u001b[0;34m\u001b[0m\u001b[0;34m\u001b[0m\u001b[0m\n",
            "\u001b[0;32m/content/tinygrad/nn/optim.py\u001b[0m in \u001b[0;36mstep\u001b[0;34m(self)\u001b[0m\n\u001b[1;32m     33\u001b[0m     \u001b[0;32mfor\u001b[0m \u001b[0mi\u001b[0m\u001b[0;34m,\u001b[0m \u001b[0mt\u001b[0m \u001b[0;32min\u001b[0m \u001b[0menumerate\u001b[0m\u001b[0;34m(\u001b[0m\u001b[0mself\u001b[0m\u001b[0;34m.\u001b[0m\u001b[0mparams\u001b[0m\u001b[0;34m)\u001b[0m\u001b[0;34m:\u001b[0m\u001b[0;34m\u001b[0m\u001b[0;34m\u001b[0m\u001b[0m\n\u001b[1;32m     34\u001b[0m       \u001b[0;32massert\u001b[0m \u001b[0mt\u001b[0m\u001b[0;34m.\u001b[0m\u001b[0mgrad\u001b[0m \u001b[0;32mis\u001b[0m \u001b[0;32mnot\u001b[0m \u001b[0;32mNone\u001b[0m\u001b[0;34m\u001b[0m\u001b[0;34m\u001b[0m\u001b[0m\n\u001b[0;32m---> 35\u001b[0;31m       \u001b[0mg\u001b[0m \u001b[0;34m=\u001b[0m \u001b[0mt\u001b[0m\u001b[0;34m.\u001b[0m\u001b[0mgrad\u001b[0m\u001b[0;34m.\u001b[0m\u001b[0mrealize\u001b[0m\u001b[0;34m(\u001b[0m\u001b[0;34m)\u001b[0m \u001b[0;34m+\u001b[0m \u001b[0mself\u001b[0m\u001b[0;34m.\u001b[0m\u001b[0mwd\u001b[0m \u001b[0;34m*\u001b[0m \u001b[0mt\u001b[0m\u001b[0;34m.\u001b[0m\u001b[0mdetach\u001b[0m\u001b[0;34m(\u001b[0m\u001b[0;34m)\u001b[0m\u001b[0;34m\u001b[0m\u001b[0;34m\u001b[0m\u001b[0m\n\u001b[0m\u001b[1;32m     36\u001b[0m       \u001b[0;32mif\u001b[0m \u001b[0mself\u001b[0m\u001b[0;34m.\u001b[0m\u001b[0mmomentum\u001b[0m\u001b[0;34m:\u001b[0m\u001b[0;34m\u001b[0m\u001b[0;34m\u001b[0m\u001b[0m\n\u001b[1;32m     37\u001b[0m         \u001b[0mself\u001b[0m\u001b[0;34m.\u001b[0m\u001b[0mb\u001b[0m\u001b[0;34m[\u001b[0m\u001b[0mi\u001b[0m\u001b[0;34m]\u001b[0m\u001b[0;34m.\u001b[0m\u001b[0massign\u001b[0m\u001b[0;34m(\u001b[0m\u001b[0mself\u001b[0m\u001b[0;34m.\u001b[0m\u001b[0mmomentum\u001b[0m \u001b[0;34m*\u001b[0m \u001b[0mself\u001b[0m\u001b[0;34m.\u001b[0m\u001b[0mb\u001b[0m\u001b[0;34m[\u001b[0m\u001b[0mi\u001b[0m\u001b[0;34m]\u001b[0m \u001b[0;34m+\u001b[0m \u001b[0mg\u001b[0m\u001b[0;34m)\u001b[0m\u001b[0;34m.\u001b[0m\u001b[0mrealize\u001b[0m\u001b[0;34m(\u001b[0m\u001b[0;34m)\u001b[0m  \u001b[0;31m# NOTE: self.b[i] is zero on the first run, no if required\u001b[0m\u001b[0;34m\u001b[0m\u001b[0;34m\u001b[0m\u001b[0m\n",
            "\u001b[0;32m/content/tinygrad/tensor.py\u001b[0m in \u001b[0;36mrealize\u001b[0;34m(self)\u001b[0m\n\u001b[1;32m     92\u001b[0m \u001b[0;34m\u001b[0m\u001b[0m\n\u001b[1;32m     93\u001b[0m   \u001b[0;32mdef\u001b[0m \u001b[0mrealize\u001b[0m\u001b[0;34m(\u001b[0m\u001b[0mself\u001b[0m\u001b[0;34m)\u001b[0m \u001b[0;34m->\u001b[0m \u001b[0mTensor\u001b[0m\u001b[0;34m:\u001b[0m\u001b[0;34m\u001b[0m\u001b[0;34m\u001b[0m\u001b[0m\n\u001b[0;32m---> 94\u001b[0;31m     \u001b[0mself\u001b[0m\u001b[0;34m.\u001b[0m\u001b[0mlazydata\u001b[0m\u001b[0;34m.\u001b[0m\u001b[0mrealize\u001b[0m\u001b[0;34m(\u001b[0m\u001b[0;34m)\u001b[0m\u001b[0;34m\u001b[0m\u001b[0;34m\u001b[0m\u001b[0m\n\u001b[0m\u001b[1;32m     95\u001b[0m     \u001b[0;32mreturn\u001b[0m \u001b[0mself\u001b[0m\u001b[0;34m\u001b[0m\u001b[0;34m\u001b[0m\u001b[0m\n\u001b[1;32m     96\u001b[0m \u001b[0;34m\u001b[0m\u001b[0m\n",
            "\u001b[0;32m/content/tinygrad/lazy.py\u001b[0m in \u001b[0;36mrealize\u001b[0;34m(self)\u001b[0m\n\u001b[1;32m    147\u001b[0m       \u001b[0;31m# run the ast if we still have to, and log the op\u001b[0m\u001b[0;34m\u001b[0m\u001b[0;34m\u001b[0m\u001b[0m\n\u001b[1;32m    148\u001b[0m       \u001b[0;32mif\u001b[0m \u001b[0;32mnot\u001b[0m \u001b[0mself\u001b[0m\u001b[0;34m.\u001b[0m\u001b[0mrealized\u001b[0m\u001b[0;34m:\u001b[0m\u001b[0;34m\u001b[0m\u001b[0;34m\u001b[0m\u001b[0m\n\u001b[0;32m--> 149\u001b[0;31m         \u001b[0;32mfor\u001b[0m \u001b[0mx\u001b[0m \u001b[0;32min\u001b[0m \u001b[0mself\u001b[0m\u001b[0;34m.\u001b[0m\u001b[0mop\u001b[0m\u001b[0;34m.\u001b[0m\u001b[0mbuffers\u001b[0m\u001b[0;34m:\u001b[0m \u001b[0mx\u001b[0m\u001b[0;34m.\u001b[0m\u001b[0mrealize\u001b[0m\u001b[0;34m(\u001b[0m\u001b[0;34m)\u001b[0m\u001b[0;34m\u001b[0m\u001b[0;34m\u001b[0m\u001b[0m\n\u001b[0m\u001b[1;32m    150\u001b[0m \u001b[0;34m\u001b[0m\u001b[0m\n\u001b[1;32m    151\u001b[0m         \u001b[0;31m# HACK: image shape can be wrong, hot cast it back to a normal float\u001b[0m\u001b[0;34m\u001b[0m\u001b[0;34m\u001b[0m\u001b[0m\n",
            "\u001b[0;32m/content/tinygrad/lazy.py\u001b[0m in \u001b[0;36mrealize\u001b[0;34m(self)\u001b[0m\n\u001b[1;32m    157\u001b[0m             \u001b[0mself\u001b[0m\u001b[0;34m.\u001b[0m\u001b[0mop\u001b[0m \u001b[0;34m=\u001b[0m \u001b[0mLazyOp\u001b[0m\u001b[0;34m(\u001b[0m\u001b[0mUnaryOps\u001b[0m\u001b[0;34m.\u001b[0m\u001b[0mCAST\u001b[0m\u001b[0;34m,\u001b[0m \u001b[0;34m(\u001b[0m\u001b[0mself\u001b[0m\u001b[0;34m.\u001b[0m\u001b[0mop\u001b[0m\u001b[0;34m,\u001b[0m\u001b[0;34m)\u001b[0m\u001b[0;34m,\u001b[0m \u001b[0;34m(\u001b[0m\u001b[0mdtypes\u001b[0m\u001b[0;34m.\u001b[0m\u001b[0mfloat32\u001b[0m\u001b[0;34m,\u001b[0m \u001b[0;32mFalse\u001b[0m\u001b[0;34m)\u001b[0m\u001b[0;34m)\u001b[0m\u001b[0;34m\u001b[0m\u001b[0;34m\u001b[0m\u001b[0m\n\u001b[1;32m    158\u001b[0m           \u001b[0mself\u001b[0m\u001b[0;34m.\u001b[0m\u001b[0mdtype\u001b[0m \u001b[0;34m=\u001b[0m \u001b[0mdtypes\u001b[0m\u001b[0;34m.\u001b[0m\u001b[0mfloat32\u001b[0m\u001b[0;34m\u001b[0m\u001b[0;34m\u001b[0m\u001b[0m\n\u001b[0;32m--> 159\u001b[0;31m         \u001b[0mself\u001b[0m\u001b[0;34m.\u001b[0m\u001b[0mrealized\u001b[0m \u001b[0;34m=\u001b[0m \u001b[0mDevice\u001b[0m\u001b[0;34m[\u001b[0m\u001b[0mself\u001b[0m\u001b[0;34m.\u001b[0m\u001b[0mdevice\u001b[0m\u001b[0;34m]\u001b[0m\u001b[0;34m.\u001b[0m\u001b[0mexec_ast\u001b[0m\u001b[0;34m(\u001b[0m\u001b[0mself\u001b[0m\u001b[0;34m.\u001b[0m\u001b[0mop\u001b[0m\u001b[0;34m,\u001b[0m \u001b[0moutput\u001b[0m\u001b[0;34m=\u001b[0m\u001b[0mself\u001b[0m\u001b[0;34m,\u001b[0m \u001b[0;34m**\u001b[0m\u001b[0mself\u001b[0m\u001b[0;34m.\u001b[0m\u001b[0m_device_extra_args\u001b[0m\u001b[0;34m(\u001b[0m\u001b[0;34m)\u001b[0m\u001b[0;34m)\u001b[0m\u001b[0;34m\u001b[0m\u001b[0;34m\u001b[0m\u001b[0m\n\u001b[0m\u001b[1;32m    160\u001b[0m \u001b[0;34m\u001b[0m\u001b[0m\n\u001b[1;32m    161\u001b[0m       \u001b[0;32massert\u001b[0m \u001b[0mself\u001b[0m\u001b[0;34m.\u001b[0m\u001b[0mrealized\u001b[0m \u001b[0;32mand\u001b[0m \u001b[0misinstance\u001b[0m\u001b[0;34m(\u001b[0m\u001b[0mself\u001b[0m\u001b[0;34m.\u001b[0m\u001b[0mrealized\u001b[0m\u001b[0;34m,\u001b[0m \u001b[0;34m(\u001b[0m\u001b[0mRawConst\u001b[0m\u001b[0;34m,\u001b[0m \u001b[0mDevice\u001b[0m\u001b[0;34m[\u001b[0m\u001b[0mself\u001b[0m\u001b[0;34m.\u001b[0m\u001b[0mdevice\u001b[0m\u001b[0;34m]\u001b[0m\u001b[0;34m.\u001b[0m\u001b[0mbuffer\u001b[0m\u001b[0;34m)\u001b[0m\u001b[0;34m)\u001b[0m\u001b[0;34m,\u001b[0m \u001b[0;34mf\"device mismatch on realized got {type(self.realized)} expected {self.device}\"\u001b[0m\u001b[0;34m\u001b[0m\u001b[0;34m\u001b[0m\u001b[0m\n",
            "\u001b[0;32m/content/tinygrad/ops.py\u001b[0m in \u001b[0;36mexec_ast\u001b[0;34m(self, ast, output, context, **kwargs)\u001b[0m\n\u001b[1;32m     94\u001b[0m     \u001b[0;32mif\u001b[0m \u001b[0mcontext\u001b[0m \u001b[0;32mis\u001b[0m \u001b[0;32mNone\u001b[0m\u001b[0;34m:\u001b[0m \u001b[0mcontext\u001b[0m \u001b[0;34m=\u001b[0m \u001b[0mdict\u001b[0m\u001b[0;34m(\u001b[0m\u001b[0;34m)\u001b[0m\u001b[0;34m\u001b[0m\u001b[0;34m\u001b[0m\u001b[0m\n\u001b[1;32m     95\u001b[0m     \u001b[0;32mif\u001b[0m \u001b[0;32mnot\u001b[0m \u001b[0mcreated_context\u001b[0m \u001b[0;32mand\u001b[0m \u001b[0mast\u001b[0m \u001b[0;32min\u001b[0m \u001b[0mcontext\u001b[0m\u001b[0;34m:\u001b[0m \u001b[0;32mreturn\u001b[0m \u001b[0mcontext\u001b[0m\u001b[0;34m[\u001b[0m\u001b[0mast\u001b[0m\u001b[0;34m]\u001b[0m\u001b[0;34m\u001b[0m\u001b[0;34m\u001b[0m\u001b[0m\n\u001b[0;32m---> 96\u001b[0;31m     \u001b[0msrcs\u001b[0m \u001b[0;34m=\u001b[0m \u001b[0;34m[\u001b[0m\u001b[0mself\u001b[0m\u001b[0;34m.\u001b[0m\u001b[0mexec_ast\u001b[0m\u001b[0;34m(\u001b[0m\u001b[0mcast\u001b[0m\u001b[0;34m(\u001b[0m\u001b[0mLazyOp\u001b[0m\u001b[0;34m,\u001b[0m \u001b[0mx\u001b[0m\u001b[0;34m)\u001b[0m\u001b[0;34m,\u001b[0m \u001b[0mcontext\u001b[0m\u001b[0;34m=\u001b[0m\u001b[0mcontext\u001b[0m\u001b[0;34m,\u001b[0m \u001b[0;34m**\u001b[0m\u001b[0mkwargs\u001b[0m\u001b[0;34m)\u001b[0m \u001b[0;32mif\u001b[0m \u001b[0mx\u001b[0m\u001b[0;34m.\u001b[0m\u001b[0m__class__\u001b[0m \u001b[0;32mis\u001b[0m \u001b[0mLazyOp\u001b[0m \u001b[0;32melse\u001b[0m \u001b[0mself\u001b[0m\u001b[0;34m.\u001b[0m\u001b[0mfrom_lazybuffer\u001b[0m\u001b[0;34m(\u001b[0m\u001b[0mx\u001b[0m\u001b[0;34m)\u001b[0m \u001b[0;32mfor\u001b[0m \u001b[0mx\u001b[0m \u001b[0;32min\u001b[0m \u001b[0mast\u001b[0m\u001b[0;34m.\u001b[0m\u001b[0msrc\u001b[0m\u001b[0;34m]\u001b[0m\u001b[0;34m\u001b[0m\u001b[0;34m\u001b[0m\u001b[0m\n\u001b[0m\u001b[1;32m     97\u001b[0m     \u001b[0;32mif\u001b[0m \u001b[0mDEBUG\u001b[0m \u001b[0;34m>=\u001b[0m \u001b[0;36m3\u001b[0m\u001b[0;34m:\u001b[0m \u001b[0mst\u001b[0m \u001b[0;34m=\u001b[0m \u001b[0mtime\u001b[0m\u001b[0;34m.\u001b[0m\u001b[0mperf_counter\u001b[0m\u001b[0;34m(\u001b[0m\u001b[0;34m)\u001b[0m\u001b[0;34m\u001b[0m\u001b[0;34m\u001b[0m\u001b[0m\n\u001b[1;32m     98\u001b[0m     \u001b[0mret\u001b[0m \u001b[0;34m=\u001b[0m \u001b[0mself\u001b[0m\u001b[0;34m.\u001b[0m\u001b[0mfrom_underlying\u001b[0m\u001b[0;34m(\u001b[0m\u001b[0mself\u001b[0m\u001b[0;34m.\u001b[0m\u001b[0mfxn_for_op\u001b[0m\u001b[0;34m[\u001b[0m\u001b[0mast\u001b[0m\u001b[0;34m.\u001b[0m\u001b[0mop\u001b[0m\u001b[0;34m]\u001b[0m\u001b[0;34m(\u001b[0m\u001b[0;34m*\u001b[0m\u001b[0;34m(\u001b[0m\u001b[0;34m[\u001b[0m\u001b[0mself\u001b[0m\u001b[0;34m.\u001b[0m\u001b[0mto_underlying\u001b[0m\u001b[0;34m(\u001b[0m\u001b[0mx\u001b[0m\u001b[0;34m)\u001b[0m \u001b[0;32mfor\u001b[0m \u001b[0mx\u001b[0m \u001b[0;32min\u001b[0m \u001b[0msrcs\u001b[0m\u001b[0;34m]\u001b[0m \u001b[0;34m+\u001b[0m \u001b[0;34m(\u001b[0m\u001b[0;34m[\u001b[0m\u001b[0mast\u001b[0m\u001b[0;34m.\u001b[0m\u001b[0marg\u001b[0m\u001b[0;34m]\u001b[0m \u001b[0;32mif\u001b[0m \u001b[0mast\u001b[0m\u001b[0;34m.\u001b[0m\u001b[0marg\u001b[0m \u001b[0;32mis\u001b[0m \u001b[0;32mnot\u001b[0m \u001b[0;32mNone\u001b[0m \u001b[0;32melse\u001b[0m \u001b[0;34m[\u001b[0m\u001b[0;34m]\u001b[0m\u001b[0;34m)\u001b[0m\u001b[0;34m)\u001b[0m\u001b[0;34m)\u001b[0m\u001b[0;34m)\u001b[0m\u001b[0;34m\u001b[0m\u001b[0;34m\u001b[0m\u001b[0m\n",
            "\u001b[0;32m/content/tinygrad/ops.py\u001b[0m in \u001b[0;36m<listcomp>\u001b[0;34m(.0)\u001b[0m\n\u001b[1;32m     94\u001b[0m     \u001b[0;32mif\u001b[0m \u001b[0mcontext\u001b[0m \u001b[0;32mis\u001b[0m \u001b[0;32mNone\u001b[0m\u001b[0;34m:\u001b[0m \u001b[0mcontext\u001b[0m \u001b[0;34m=\u001b[0m \u001b[0mdict\u001b[0m\u001b[0;34m(\u001b[0m\u001b[0;34m)\u001b[0m\u001b[0;34m\u001b[0m\u001b[0;34m\u001b[0m\u001b[0m\n\u001b[1;32m     95\u001b[0m     \u001b[0;32mif\u001b[0m \u001b[0;32mnot\u001b[0m \u001b[0mcreated_context\u001b[0m \u001b[0;32mand\u001b[0m \u001b[0mast\u001b[0m \u001b[0;32min\u001b[0m \u001b[0mcontext\u001b[0m\u001b[0;34m:\u001b[0m \u001b[0;32mreturn\u001b[0m \u001b[0mcontext\u001b[0m\u001b[0;34m[\u001b[0m\u001b[0mast\u001b[0m\u001b[0;34m]\u001b[0m\u001b[0;34m\u001b[0m\u001b[0;34m\u001b[0m\u001b[0m\n\u001b[0;32m---> 96\u001b[0;31m     \u001b[0msrcs\u001b[0m \u001b[0;34m=\u001b[0m \u001b[0;34m[\u001b[0m\u001b[0mself\u001b[0m\u001b[0;34m.\u001b[0m\u001b[0mexec_ast\u001b[0m\u001b[0;34m(\u001b[0m\u001b[0mcast\u001b[0m\u001b[0;34m(\u001b[0m\u001b[0mLazyOp\u001b[0m\u001b[0;34m,\u001b[0m \u001b[0mx\u001b[0m\u001b[0;34m)\u001b[0m\u001b[0;34m,\u001b[0m \u001b[0mcontext\u001b[0m\u001b[0;34m=\u001b[0m\u001b[0mcontext\u001b[0m\u001b[0;34m,\u001b[0m \u001b[0;34m**\u001b[0m\u001b[0mkwargs\u001b[0m\u001b[0;34m)\u001b[0m \u001b[0;32mif\u001b[0m \u001b[0mx\u001b[0m\u001b[0;34m.\u001b[0m\u001b[0m__class__\u001b[0m \u001b[0;32mis\u001b[0m \u001b[0mLazyOp\u001b[0m \u001b[0;32melse\u001b[0m \u001b[0mself\u001b[0m\u001b[0;34m.\u001b[0m\u001b[0mfrom_lazybuffer\u001b[0m\u001b[0;34m(\u001b[0m\u001b[0mx\u001b[0m\u001b[0;34m)\u001b[0m \u001b[0;32mfor\u001b[0m \u001b[0mx\u001b[0m \u001b[0;32min\u001b[0m \u001b[0mast\u001b[0m\u001b[0;34m.\u001b[0m\u001b[0msrc\u001b[0m\u001b[0;34m]\u001b[0m\u001b[0;34m\u001b[0m\u001b[0;34m\u001b[0m\u001b[0m\n\u001b[0m\u001b[1;32m     97\u001b[0m     \u001b[0;32mif\u001b[0m \u001b[0mDEBUG\u001b[0m \u001b[0;34m>=\u001b[0m \u001b[0;36m3\u001b[0m\u001b[0;34m:\u001b[0m \u001b[0mst\u001b[0m \u001b[0;34m=\u001b[0m \u001b[0mtime\u001b[0m\u001b[0;34m.\u001b[0m\u001b[0mperf_counter\u001b[0m\u001b[0;34m(\u001b[0m\u001b[0;34m)\u001b[0m\u001b[0;34m\u001b[0m\u001b[0;34m\u001b[0m\u001b[0m\n\u001b[1;32m     98\u001b[0m     \u001b[0mret\u001b[0m \u001b[0;34m=\u001b[0m \u001b[0mself\u001b[0m\u001b[0;34m.\u001b[0m\u001b[0mfrom_underlying\u001b[0m\u001b[0;34m(\u001b[0m\u001b[0mself\u001b[0m\u001b[0;34m.\u001b[0m\u001b[0mfxn_for_op\u001b[0m\u001b[0;34m[\u001b[0m\u001b[0mast\u001b[0m\u001b[0;34m.\u001b[0m\u001b[0mop\u001b[0m\u001b[0;34m]\u001b[0m\u001b[0;34m(\u001b[0m\u001b[0;34m*\u001b[0m\u001b[0;34m(\u001b[0m\u001b[0;34m[\u001b[0m\u001b[0mself\u001b[0m\u001b[0;34m.\u001b[0m\u001b[0mto_underlying\u001b[0m\u001b[0;34m(\u001b[0m\u001b[0mx\u001b[0m\u001b[0;34m)\u001b[0m \u001b[0;32mfor\u001b[0m \u001b[0mx\u001b[0m \u001b[0;32min\u001b[0m \u001b[0msrcs\u001b[0m\u001b[0;34m]\u001b[0m \u001b[0;34m+\u001b[0m \u001b[0;34m(\u001b[0m\u001b[0;34m[\u001b[0m\u001b[0mast\u001b[0m\u001b[0;34m.\u001b[0m\u001b[0marg\u001b[0m\u001b[0;34m]\u001b[0m \u001b[0;32mif\u001b[0m \u001b[0mast\u001b[0m\u001b[0;34m.\u001b[0m\u001b[0marg\u001b[0m \u001b[0;32mis\u001b[0m \u001b[0;32mnot\u001b[0m \u001b[0;32mNone\u001b[0m \u001b[0;32melse\u001b[0m \u001b[0;34m[\u001b[0m\u001b[0;34m]\u001b[0m\u001b[0;34m)\u001b[0m\u001b[0;34m)\u001b[0m\u001b[0;34m)\u001b[0m\u001b[0;34m)\u001b[0m\u001b[0;34m\u001b[0m\u001b[0;34m\u001b[0m\u001b[0m\n",
            "\u001b[0;32m/content/tinygrad/ops.py\u001b[0m in \u001b[0;36mexec_ast\u001b[0;34m(self, ast, output, context, **kwargs)\u001b[0m\n\u001b[1;32m     94\u001b[0m     \u001b[0;32mif\u001b[0m \u001b[0mcontext\u001b[0m \u001b[0;32mis\u001b[0m \u001b[0;32mNone\u001b[0m\u001b[0;34m:\u001b[0m \u001b[0mcontext\u001b[0m \u001b[0;34m=\u001b[0m \u001b[0mdict\u001b[0m\u001b[0;34m(\u001b[0m\u001b[0;34m)\u001b[0m\u001b[0;34m\u001b[0m\u001b[0;34m\u001b[0m\u001b[0m\n\u001b[1;32m     95\u001b[0m     \u001b[0;32mif\u001b[0m \u001b[0;32mnot\u001b[0m \u001b[0mcreated_context\u001b[0m \u001b[0;32mand\u001b[0m \u001b[0mast\u001b[0m \u001b[0;32min\u001b[0m \u001b[0mcontext\u001b[0m\u001b[0;34m:\u001b[0m \u001b[0;32mreturn\u001b[0m \u001b[0mcontext\u001b[0m\u001b[0;34m[\u001b[0m\u001b[0mast\u001b[0m\u001b[0;34m]\u001b[0m\u001b[0;34m\u001b[0m\u001b[0;34m\u001b[0m\u001b[0m\n\u001b[0;32m---> 96\u001b[0;31m     \u001b[0msrcs\u001b[0m \u001b[0;34m=\u001b[0m \u001b[0;34m[\u001b[0m\u001b[0mself\u001b[0m\u001b[0;34m.\u001b[0m\u001b[0mexec_ast\u001b[0m\u001b[0;34m(\u001b[0m\u001b[0mcast\u001b[0m\u001b[0;34m(\u001b[0m\u001b[0mLazyOp\u001b[0m\u001b[0;34m,\u001b[0m \u001b[0mx\u001b[0m\u001b[0;34m)\u001b[0m\u001b[0;34m,\u001b[0m \u001b[0mcontext\u001b[0m\u001b[0;34m=\u001b[0m\u001b[0mcontext\u001b[0m\u001b[0;34m,\u001b[0m \u001b[0;34m**\u001b[0m\u001b[0mkwargs\u001b[0m\u001b[0;34m)\u001b[0m \u001b[0;32mif\u001b[0m \u001b[0mx\u001b[0m\u001b[0;34m.\u001b[0m\u001b[0m__class__\u001b[0m \u001b[0;32mis\u001b[0m \u001b[0mLazyOp\u001b[0m \u001b[0;32melse\u001b[0m \u001b[0mself\u001b[0m\u001b[0;34m.\u001b[0m\u001b[0mfrom_lazybuffer\u001b[0m\u001b[0;34m(\u001b[0m\u001b[0mx\u001b[0m\u001b[0;34m)\u001b[0m \u001b[0;32mfor\u001b[0m \u001b[0mx\u001b[0m \u001b[0;32min\u001b[0m \u001b[0mast\u001b[0m\u001b[0;34m.\u001b[0m\u001b[0msrc\u001b[0m\u001b[0;34m]\u001b[0m\u001b[0;34m\u001b[0m\u001b[0;34m\u001b[0m\u001b[0m\n\u001b[0m\u001b[1;32m     97\u001b[0m     \u001b[0;32mif\u001b[0m \u001b[0mDEBUG\u001b[0m \u001b[0;34m>=\u001b[0m \u001b[0;36m3\u001b[0m\u001b[0;34m:\u001b[0m \u001b[0mst\u001b[0m \u001b[0;34m=\u001b[0m \u001b[0mtime\u001b[0m\u001b[0;34m.\u001b[0m\u001b[0mperf_counter\u001b[0m\u001b[0;34m(\u001b[0m\u001b[0;34m)\u001b[0m\u001b[0;34m\u001b[0m\u001b[0;34m\u001b[0m\u001b[0m\n\u001b[1;32m     98\u001b[0m     \u001b[0mret\u001b[0m \u001b[0;34m=\u001b[0m \u001b[0mself\u001b[0m\u001b[0;34m.\u001b[0m\u001b[0mfrom_underlying\u001b[0m\u001b[0;34m(\u001b[0m\u001b[0mself\u001b[0m\u001b[0;34m.\u001b[0m\u001b[0mfxn_for_op\u001b[0m\u001b[0;34m[\u001b[0m\u001b[0mast\u001b[0m\u001b[0;34m.\u001b[0m\u001b[0mop\u001b[0m\u001b[0;34m]\u001b[0m\u001b[0;34m(\u001b[0m\u001b[0;34m*\u001b[0m\u001b[0;34m(\u001b[0m\u001b[0;34m[\u001b[0m\u001b[0mself\u001b[0m\u001b[0;34m.\u001b[0m\u001b[0mto_underlying\u001b[0m\u001b[0;34m(\u001b[0m\u001b[0mx\u001b[0m\u001b[0;34m)\u001b[0m \u001b[0;32mfor\u001b[0m \u001b[0mx\u001b[0m \u001b[0;32min\u001b[0m \u001b[0msrcs\u001b[0m\u001b[0;34m]\u001b[0m \u001b[0;34m+\u001b[0m \u001b[0;34m(\u001b[0m\u001b[0;34m[\u001b[0m\u001b[0mast\u001b[0m\u001b[0;34m.\u001b[0m\u001b[0marg\u001b[0m\u001b[0;34m]\u001b[0m \u001b[0;32mif\u001b[0m \u001b[0mast\u001b[0m\u001b[0;34m.\u001b[0m\u001b[0marg\u001b[0m \u001b[0;32mis\u001b[0m \u001b[0;32mnot\u001b[0m \u001b[0;32mNone\u001b[0m \u001b[0;32melse\u001b[0m \u001b[0;34m[\u001b[0m\u001b[0;34m]\u001b[0m\u001b[0;34m)\u001b[0m\u001b[0;34m)\u001b[0m\u001b[0;34m)\u001b[0m\u001b[0;34m)\u001b[0m\u001b[0;34m\u001b[0m\u001b[0;34m\u001b[0m\u001b[0m\n",
            "\u001b[0;32m/content/tinygrad/ops.py\u001b[0m in \u001b[0;36m<listcomp>\u001b[0;34m(.0)\u001b[0m\n\u001b[1;32m     94\u001b[0m     \u001b[0;32mif\u001b[0m \u001b[0mcontext\u001b[0m \u001b[0;32mis\u001b[0m \u001b[0;32mNone\u001b[0m\u001b[0;34m:\u001b[0m \u001b[0mcontext\u001b[0m \u001b[0;34m=\u001b[0m \u001b[0mdict\u001b[0m\u001b[0;34m(\u001b[0m\u001b[0;34m)\u001b[0m\u001b[0;34m\u001b[0m\u001b[0;34m\u001b[0m\u001b[0m\n\u001b[1;32m     95\u001b[0m     \u001b[0;32mif\u001b[0m \u001b[0;32mnot\u001b[0m \u001b[0mcreated_context\u001b[0m \u001b[0;32mand\u001b[0m \u001b[0mast\u001b[0m \u001b[0;32min\u001b[0m \u001b[0mcontext\u001b[0m\u001b[0;34m:\u001b[0m \u001b[0;32mreturn\u001b[0m \u001b[0mcontext\u001b[0m\u001b[0;34m[\u001b[0m\u001b[0mast\u001b[0m\u001b[0;34m]\u001b[0m\u001b[0;34m\u001b[0m\u001b[0;34m\u001b[0m\u001b[0m\n\u001b[0;32m---> 96\u001b[0;31m     \u001b[0msrcs\u001b[0m \u001b[0;34m=\u001b[0m \u001b[0;34m[\u001b[0m\u001b[0mself\u001b[0m\u001b[0;34m.\u001b[0m\u001b[0mexec_ast\u001b[0m\u001b[0;34m(\u001b[0m\u001b[0mcast\u001b[0m\u001b[0;34m(\u001b[0m\u001b[0mLazyOp\u001b[0m\u001b[0;34m,\u001b[0m \u001b[0mx\u001b[0m\u001b[0;34m)\u001b[0m\u001b[0;34m,\u001b[0m \u001b[0mcontext\u001b[0m\u001b[0;34m=\u001b[0m\u001b[0mcontext\u001b[0m\u001b[0;34m,\u001b[0m \u001b[0;34m**\u001b[0m\u001b[0mkwargs\u001b[0m\u001b[0;34m)\u001b[0m \u001b[0;32mif\u001b[0m \u001b[0mx\u001b[0m\u001b[0;34m.\u001b[0m\u001b[0m__class__\u001b[0m \u001b[0;32mis\u001b[0m \u001b[0mLazyOp\u001b[0m \u001b[0;32melse\u001b[0m \u001b[0mself\u001b[0m\u001b[0;34m.\u001b[0m\u001b[0mfrom_lazybuffer\u001b[0m\u001b[0;34m(\u001b[0m\u001b[0mx\u001b[0m\u001b[0;34m)\u001b[0m \u001b[0;32mfor\u001b[0m \u001b[0mx\u001b[0m \u001b[0;32min\u001b[0m \u001b[0mast\u001b[0m\u001b[0;34m.\u001b[0m\u001b[0msrc\u001b[0m\u001b[0;34m]\u001b[0m\u001b[0;34m\u001b[0m\u001b[0;34m\u001b[0m\u001b[0m\n\u001b[0m\u001b[1;32m     97\u001b[0m     \u001b[0;32mif\u001b[0m \u001b[0mDEBUG\u001b[0m \u001b[0;34m>=\u001b[0m \u001b[0;36m3\u001b[0m\u001b[0;34m:\u001b[0m \u001b[0mst\u001b[0m \u001b[0;34m=\u001b[0m \u001b[0mtime\u001b[0m\u001b[0;34m.\u001b[0m\u001b[0mperf_counter\u001b[0m\u001b[0;34m(\u001b[0m\u001b[0;34m)\u001b[0m\u001b[0;34m\u001b[0m\u001b[0;34m\u001b[0m\u001b[0m\n\u001b[1;32m     98\u001b[0m     \u001b[0mret\u001b[0m \u001b[0;34m=\u001b[0m \u001b[0mself\u001b[0m\u001b[0;34m.\u001b[0m\u001b[0mfrom_underlying\u001b[0m\u001b[0;34m(\u001b[0m\u001b[0mself\u001b[0m\u001b[0;34m.\u001b[0m\u001b[0mfxn_for_op\u001b[0m\u001b[0;34m[\u001b[0m\u001b[0mast\u001b[0m\u001b[0;34m.\u001b[0m\u001b[0mop\u001b[0m\u001b[0;34m]\u001b[0m\u001b[0;34m(\u001b[0m\u001b[0;34m*\u001b[0m\u001b[0;34m(\u001b[0m\u001b[0;34m[\u001b[0m\u001b[0mself\u001b[0m\u001b[0;34m.\u001b[0m\u001b[0mto_underlying\u001b[0m\u001b[0;34m(\u001b[0m\u001b[0mx\u001b[0m\u001b[0;34m)\u001b[0m \u001b[0;32mfor\u001b[0m \u001b[0mx\u001b[0m \u001b[0;32min\u001b[0m \u001b[0msrcs\u001b[0m\u001b[0;34m]\u001b[0m \u001b[0;34m+\u001b[0m \u001b[0;34m(\u001b[0m\u001b[0;34m[\u001b[0m\u001b[0mast\u001b[0m\u001b[0;34m.\u001b[0m\u001b[0marg\u001b[0m\u001b[0;34m]\u001b[0m \u001b[0;32mif\u001b[0m \u001b[0mast\u001b[0m\u001b[0;34m.\u001b[0m\u001b[0marg\u001b[0m \u001b[0;32mis\u001b[0m \u001b[0;32mnot\u001b[0m \u001b[0;32mNone\u001b[0m \u001b[0;32melse\u001b[0m \u001b[0;34m[\u001b[0m\u001b[0;34m]\u001b[0m\u001b[0;34m)\u001b[0m\u001b[0;34m)\u001b[0m\u001b[0;34m)\u001b[0m\u001b[0;34m)\u001b[0m\u001b[0;34m\u001b[0m\u001b[0;34m\u001b[0m\u001b[0m\n",
            "\u001b[0;32m/content/tinygrad/ops.py\u001b[0m in \u001b[0;36mexec_ast\u001b[0;34m(self, ast, output, context, **kwargs)\u001b[0m\n\u001b[1;32m     99\u001b[0m     \u001b[0;32mif\u001b[0m \u001b[0moutput\u001b[0m \u001b[0;32mis\u001b[0m \u001b[0;32mnot\u001b[0m \u001b[0;32mNone\u001b[0m \u001b[0;32mand\u001b[0m \u001b[0mret\u001b[0m\u001b[0;34m.\u001b[0m\u001b[0mdtype\u001b[0m \u001b[0;34m!=\u001b[0m \u001b[0moutput\u001b[0m\u001b[0;34m.\u001b[0m\u001b[0mdtype\u001b[0m \u001b[0;32mand\u001b[0m \u001b[0mUnaryOps\u001b[0m\u001b[0;34m.\u001b[0m\u001b[0mCAST\u001b[0m \u001b[0;32min\u001b[0m \u001b[0mself\u001b[0m\u001b[0;34m.\u001b[0m\u001b[0mfxn_for_op\u001b[0m\u001b[0;34m:\u001b[0m \u001b[0mret\u001b[0m \u001b[0;34m=\u001b[0m \u001b[0mself\u001b[0m\u001b[0;34m.\u001b[0m\u001b[0mfrom_underlying\u001b[0m\u001b[0;34m(\u001b[0m\u001b[0mself\u001b[0m\u001b[0;34m.\u001b[0m\u001b[0mfxn_for_op\u001b[0m\u001b[0;34m[\u001b[0m\u001b[0mUnaryOps\u001b[0m\u001b[0;34m.\u001b[0m\u001b[0mCAST\u001b[0m\u001b[0;34m]\u001b[0m\u001b[0;34m(\u001b[0m\u001b[0mself\u001b[0m\u001b[0;34m.\u001b[0m\u001b[0mto_underlying\u001b[0m\u001b[0;34m(\u001b[0m\u001b[0mret\u001b[0m\u001b[0;34m)\u001b[0m\u001b[0;34m,\u001b[0m \u001b[0;34m(\u001b[0m\u001b[0moutput\u001b[0m\u001b[0;34m.\u001b[0m\u001b[0mdtype\u001b[0m\u001b[0;34m,\u001b[0m \u001b[0;32mFalse\u001b[0m\u001b[0;34m)\u001b[0m\u001b[0;34m)\u001b[0m\u001b[0;34m)\u001b[0m \u001b[0;31m# Do manual casting of ret if it does not match the required output dtype.\u001b[0m\u001b[0;34m\u001b[0m\u001b[0;34m\u001b[0m\u001b[0m\n\u001b[1;32m    100\u001b[0m     \u001b[0;32mif\u001b[0m \u001b[0mDEBUG\u001b[0m \u001b[0;34m>=\u001b[0m \u001b[0;36m3\u001b[0m\u001b[0;34m:\u001b[0m \u001b[0mprint\u001b[0m\u001b[0;34m(\u001b[0m\u001b[0;34mf\"*** {'exec' if created_context else '    '} {GlobalCounters.mem_used/1e9:5.2f} GB {(time.perf_counter()-st)*1e3:7.2f} ms op: {ast.op:20s} out({ret.dtype.name}): {str(ret._buf.shape) if hasattr(ret._buf, 'shape') else str(len(ret._buf)):30s} in({len(srcs)}):\"\u001b[0m\u001b[0;34m,\u001b[0m \u001b[0mlist\u001b[0m\u001b[0;34m(\u001b[0m\u001b[0mset\u001b[0m\u001b[0;34m(\u001b[0m\u001b[0mx\u001b[0m\u001b[0;34m.\u001b[0m\u001b[0m_buf\u001b[0m\u001b[0;34m.\u001b[0m\u001b[0mshape\u001b[0m \u001b[0;32mif\u001b[0m \u001b[0mhasattr\u001b[0m\u001b[0;34m(\u001b[0m\u001b[0mx\u001b[0m\u001b[0;34m.\u001b[0m\u001b[0m_buf\u001b[0m\u001b[0;34m,\u001b[0m \u001b[0;34m'shape'\u001b[0m\u001b[0;34m)\u001b[0m \u001b[0;32melse\u001b[0m \u001b[0mlen\u001b[0m\u001b[0;34m(\u001b[0m\u001b[0mx\u001b[0m\u001b[0;34m.\u001b[0m\u001b[0m_buf\u001b[0m\u001b[0;34m)\u001b[0m \u001b[0;32mfor\u001b[0m \u001b[0mx\u001b[0m \u001b[0;32min\u001b[0m \u001b[0msrcs\u001b[0m\u001b[0;34m)\u001b[0m\u001b[0;34m)\u001b[0m\u001b[0;34m,\u001b[0m \u001b[0mast\u001b[0m\u001b[0;34m.\u001b[0m\u001b[0marg\u001b[0m \u001b[0;32mif\u001b[0m \u001b[0mast\u001b[0m\u001b[0;34m.\u001b[0m\u001b[0marg\u001b[0m \u001b[0;32mis\u001b[0m \u001b[0;32mnot\u001b[0m \u001b[0;32mNone\u001b[0m \u001b[0;32melse\u001b[0m \u001b[0;34m\"\"\u001b[0m\u001b[0;34m)\u001b[0m\u001b[0;34m\u001b[0m\u001b[0;34m\u001b[0m\u001b[0m\n\u001b[0;32m--> 101\u001b[0;31m     \u001b[0;32mif\u001b[0m \u001b[0;32mnot\u001b[0m \u001b[0mcreated_context\u001b[0m\u001b[0;34m:\u001b[0m \u001b[0mcontext\u001b[0m\u001b[0;34m[\u001b[0m\u001b[0mast\u001b[0m\u001b[0;34m]\u001b[0m \u001b[0;34m=\u001b[0m \u001b[0mret\u001b[0m\u001b[0;34m\u001b[0m\u001b[0;34m\u001b[0m\u001b[0m\n\u001b[0m\u001b[1;32m    102\u001b[0m     \u001b[0;32mif\u001b[0m \u001b[0moutput\u001b[0m \u001b[0;32mis\u001b[0m \u001b[0;32mnot\u001b[0m \u001b[0;32mNone\u001b[0m \u001b[0;32mand\u001b[0m \u001b[0moutput\u001b[0m\u001b[0;34m.\u001b[0m\u001b[0moutput_buffer\u001b[0m \u001b[0;32mis\u001b[0m \u001b[0;32mnot\u001b[0m \u001b[0;32mNone\u001b[0m\u001b[0;34m:\u001b[0m\u001b[0;34m\u001b[0m\u001b[0;34m\u001b[0m\u001b[0m\n\u001b[1;32m    103\u001b[0m       \u001b[0;32massert\u001b[0m \u001b[0moutput\u001b[0m\u001b[0;34m.\u001b[0m\u001b[0moutput_buffer\u001b[0m\u001b[0;34m.\u001b[0m\u001b[0msize\u001b[0m \u001b[0;34m==\u001b[0m \u001b[0mret\u001b[0m\u001b[0;34m.\u001b[0m\u001b[0msize\u001b[0m\u001b[0;34m,\u001b[0m \u001b[0moutput\u001b[0m\u001b[0;34m.\u001b[0m\u001b[0moutput_buffer\u001b[0m\u001b[0;34m.\u001b[0m\u001b[0mdtype\u001b[0m \u001b[0;34m==\u001b[0m \u001b[0mret\u001b[0m\u001b[0;34m.\u001b[0m\u001b[0mdtype\u001b[0m\u001b[0;34m\u001b[0m\u001b[0;34m\u001b[0m\u001b[0m\n",
            "\u001b[0;32m/content/tinygrad/ops.py\u001b[0m in \u001b[0;36m__hash__\u001b[0;34m(self)\u001b[0m\n\u001b[1;32m     46\u001b[0m     \u001b[0m__value\u001b[0m \u001b[0;34m=\u001b[0m \u001b[0mcast\u001b[0m\u001b[0;34m(\u001b[0m\u001b[0mLazyOp\u001b[0m\u001b[0;34m,\u001b[0m \u001b[0m__value\u001b[0m\u001b[0;34m)\u001b[0m\u001b[0;34m\u001b[0m\u001b[0;34m\u001b[0m\u001b[0m\n\u001b[1;32m     47\u001b[0m     \u001b[0;32mreturn\u001b[0m \u001b[0mself\u001b[0m\u001b[0;34m.\u001b[0m\u001b[0mop\u001b[0m \u001b[0;34m==\u001b[0m \u001b[0m__value\u001b[0m\u001b[0;34m.\u001b[0m\u001b[0mop\u001b[0m \u001b[0;32mand\u001b[0m \u001b[0mself\u001b[0m\u001b[0;34m.\u001b[0m\u001b[0msrc\u001b[0m \u001b[0;34m==\u001b[0m \u001b[0m__value\u001b[0m\u001b[0;34m.\u001b[0m\u001b[0msrc\u001b[0m \u001b[0;32mand\u001b[0m \u001b[0mself\u001b[0m\u001b[0;34m.\u001b[0m\u001b[0marg\u001b[0m \u001b[0;34m==\u001b[0m \u001b[0m__value\u001b[0m\u001b[0;34m.\u001b[0m\u001b[0marg\u001b[0m\u001b[0;34m\u001b[0m\u001b[0;34m\u001b[0m\u001b[0m\n\u001b[0;32m---> 48\u001b[0;31m   \u001b[0;32mdef\u001b[0m \u001b[0m__hash__\u001b[0m\u001b[0;34m(\u001b[0m\u001b[0mself\u001b[0m\u001b[0;34m)\u001b[0m \u001b[0;34m->\u001b[0m \u001b[0mint\u001b[0m\u001b[0;34m:\u001b[0m \u001b[0;32mreturn\u001b[0m \u001b[0mhash\u001b[0m\u001b[0;34m(\u001b[0m\u001b[0;34m(\u001b[0m\u001b[0mself\u001b[0m\u001b[0;34m.\u001b[0m\u001b[0mop\u001b[0m\u001b[0;34m,\u001b[0m \u001b[0mself\u001b[0m\u001b[0;34m.\u001b[0m\u001b[0msrc\u001b[0m\u001b[0;34m,\u001b[0m \u001b[0mself\u001b[0m\u001b[0;34m.\u001b[0m\u001b[0marg\u001b[0m\u001b[0;34m)\u001b[0m\u001b[0;34m)\u001b[0m\u001b[0;34m\u001b[0m\u001b[0;34m\u001b[0m\u001b[0m\n\u001b[0m\u001b[1;32m     49\u001b[0m   \u001b[0;34m@\u001b[0m\u001b[0mproperty\u001b[0m\u001b[0;34m\u001b[0m\u001b[0;34m\u001b[0m\u001b[0m\n\u001b[1;32m     50\u001b[0m   \u001b[0;32mdef\u001b[0m \u001b[0mkey\u001b[0m\u001b[0;34m(\u001b[0m\u001b[0mself\u001b[0m\u001b[0;34m)\u001b[0m\u001b[0;34m:\u001b[0m \u001b[0;32mreturn\u001b[0m \u001b[0;34m(\u001b[0m\u001b[0mself\u001b[0m\u001b[0;34m.\u001b[0m\u001b[0mop\u001b[0m\u001b[0;34m,\u001b[0m \u001b[0mtuple\u001b[0m\u001b[0;34m(\u001b[0m\u001b[0mmap\u001b[0m\u001b[0;34m(\u001b[0m\u001b[0;32mlambda\u001b[0m \u001b[0mx\u001b[0m\u001b[0;34m:\u001b[0m \u001b[0mgetattr\u001b[0m\u001b[0;34m(\u001b[0m\u001b[0mx\u001b[0m\u001b[0;34m,\u001b[0m \u001b[0;34m\"key\"\u001b[0m\u001b[0;34m,\u001b[0m \u001b[0mx\u001b[0m\u001b[0;34m)\u001b[0m\u001b[0;34m,\u001b[0m \u001b[0mself\u001b[0m\u001b[0;34m.\u001b[0m\u001b[0msrc\u001b[0m\u001b[0;34m)\u001b[0m\u001b[0;34m)\u001b[0m\u001b[0;34m,\u001b[0m \u001b[0mgetattr\u001b[0m\u001b[0;34m(\u001b[0m\u001b[0mself\u001b[0m\u001b[0;34m.\u001b[0m\u001b[0marg\u001b[0m\u001b[0;34m,\u001b[0m \u001b[0;34m\"key\"\u001b[0m\u001b[0;34m,\u001b[0m \u001b[0mself\u001b[0m\u001b[0;34m.\u001b[0m\u001b[0marg\u001b[0m\u001b[0;34m)\u001b[0m\u001b[0;34m)\u001b[0m\u001b[0;34m\u001b[0m\u001b[0;34m\u001b[0m\u001b[0m\n",
            "\u001b[0;32m/content/tinygrad/ops.py\u001b[0m in \u001b[0;36m__hash__\u001b[0;34m(self)\u001b[0m\n\u001b[1;32m     46\u001b[0m     \u001b[0m__value\u001b[0m \u001b[0;34m=\u001b[0m \u001b[0mcast\u001b[0m\u001b[0;34m(\u001b[0m\u001b[0mLazyOp\u001b[0m\u001b[0;34m,\u001b[0m \u001b[0m__value\u001b[0m\u001b[0;34m)\u001b[0m\u001b[0;34m\u001b[0m\u001b[0;34m\u001b[0m\u001b[0m\n\u001b[1;32m     47\u001b[0m     \u001b[0;32mreturn\u001b[0m \u001b[0mself\u001b[0m\u001b[0;34m.\u001b[0m\u001b[0mop\u001b[0m \u001b[0;34m==\u001b[0m \u001b[0m__value\u001b[0m\u001b[0;34m.\u001b[0m\u001b[0mop\u001b[0m \u001b[0;32mand\u001b[0m \u001b[0mself\u001b[0m\u001b[0;34m.\u001b[0m\u001b[0msrc\u001b[0m \u001b[0;34m==\u001b[0m \u001b[0m__value\u001b[0m\u001b[0;34m.\u001b[0m\u001b[0msrc\u001b[0m \u001b[0;32mand\u001b[0m \u001b[0mself\u001b[0m\u001b[0;34m.\u001b[0m\u001b[0marg\u001b[0m \u001b[0;34m==\u001b[0m \u001b[0m__value\u001b[0m\u001b[0;34m.\u001b[0m\u001b[0marg\u001b[0m\u001b[0;34m\u001b[0m\u001b[0;34m\u001b[0m\u001b[0m\n\u001b[0;32m---> 48\u001b[0;31m   \u001b[0;32mdef\u001b[0m \u001b[0m__hash__\u001b[0m\u001b[0;34m(\u001b[0m\u001b[0mself\u001b[0m\u001b[0;34m)\u001b[0m \u001b[0;34m->\u001b[0m \u001b[0mint\u001b[0m\u001b[0;34m:\u001b[0m \u001b[0;32mreturn\u001b[0m \u001b[0mhash\u001b[0m\u001b[0;34m(\u001b[0m\u001b[0;34m(\u001b[0m\u001b[0mself\u001b[0m\u001b[0;34m.\u001b[0m\u001b[0mop\u001b[0m\u001b[0;34m,\u001b[0m \u001b[0mself\u001b[0m\u001b[0;34m.\u001b[0m\u001b[0msrc\u001b[0m\u001b[0;34m,\u001b[0m \u001b[0mself\u001b[0m\u001b[0;34m.\u001b[0m\u001b[0marg\u001b[0m\u001b[0;34m)\u001b[0m\u001b[0;34m)\u001b[0m\u001b[0;34m\u001b[0m\u001b[0;34m\u001b[0m\u001b[0m\n\u001b[0m\u001b[1;32m     49\u001b[0m   \u001b[0;34m@\u001b[0m\u001b[0mproperty\u001b[0m\u001b[0;34m\u001b[0m\u001b[0;34m\u001b[0m\u001b[0m\n\u001b[1;32m     50\u001b[0m   \u001b[0;32mdef\u001b[0m \u001b[0mkey\u001b[0m\u001b[0;34m(\u001b[0m\u001b[0mself\u001b[0m\u001b[0;34m)\u001b[0m\u001b[0;34m:\u001b[0m \u001b[0;32mreturn\u001b[0m \u001b[0;34m(\u001b[0m\u001b[0mself\u001b[0m\u001b[0;34m.\u001b[0m\u001b[0mop\u001b[0m\u001b[0;34m,\u001b[0m \u001b[0mtuple\u001b[0m\u001b[0;34m(\u001b[0m\u001b[0mmap\u001b[0m\u001b[0;34m(\u001b[0m\u001b[0;32mlambda\u001b[0m \u001b[0mx\u001b[0m\u001b[0;34m:\u001b[0m \u001b[0mgetattr\u001b[0m\u001b[0;34m(\u001b[0m\u001b[0mx\u001b[0m\u001b[0;34m,\u001b[0m \u001b[0;34m\"key\"\u001b[0m\u001b[0;34m,\u001b[0m \u001b[0mx\u001b[0m\u001b[0;34m)\u001b[0m\u001b[0;34m,\u001b[0m \u001b[0mself\u001b[0m\u001b[0;34m.\u001b[0m\u001b[0msrc\u001b[0m\u001b[0;34m)\u001b[0m\u001b[0;34m)\u001b[0m\u001b[0;34m,\u001b[0m \u001b[0mgetattr\u001b[0m\u001b[0;34m(\u001b[0m\u001b[0mself\u001b[0m\u001b[0;34m.\u001b[0m\u001b[0marg\u001b[0m\u001b[0;34m,\u001b[0m \u001b[0;34m\"key\"\u001b[0m\u001b[0;34m,\u001b[0m \u001b[0mself\u001b[0m\u001b[0;34m.\u001b[0m\u001b[0marg\u001b[0m\u001b[0;34m)\u001b[0m\u001b[0;34m)\u001b[0m\u001b[0;34m\u001b[0m\u001b[0;34m\u001b[0m\u001b[0m\n",
            "\u001b[0;31mKeyboardInterrupt\u001b[0m: "
          ]
        }
      ]
    },
    {
      "cell_type": "code",
      "source": [
        "yy=[(FourFeat(data[i,0:2])) for i in range(data.shape[0])]\n",
        "yy=data[:,0:2]\n",
        "out=net(Tensor(yy,requires_grad=False))\n",
        "#print(Tensor(yy,requires_grad=False).shape)\n",
        "loss= mean_squared_error(out,data[:,2])\n",
        "out = out.numpy().reshape(image.shape)\n",
        "\n",
        "print(loss.numpy())\n",
        "fig=plt.imshow(out, interpolation='none', cmap='gray')\n",
        "plt.show()"
      ],
      "metadata": {
        "id": "BPUew8fQfN46",
        "outputId": "b46cd5a6-cb7d-4083-f31e-88a409445f5c",
        "colab": {
          "base_uri": "https://localhost:8080/",
          "height": 705,
          "referenced_widgets": [
            "1762384eefb84d8894ba440512ef7750",
            "4f3d676034664f7aafa4c9274742fa08",
            "36b71a5578e94f82bcdd48dfa17f0592",
            "aed52ec3fac54a578abb926e289630b3"
          ]
        }
      },
      "execution_count": 269,
      "outputs": [
        {
          "output_type": "stream",
          "name": "stdout",
          "text": [
            "0.17106508\n"
          ]
        },
        {
          "output_type": "display_data",
          "data": {
            "text/plain": [
              "Canvas(toolbar=Toolbar(toolitems=[('Home', 'Reset original view', 'home', 'home'), ('Back', 'Back to previous …"
            ],
            "image/png": "[encoded data removed]",
            "text/html": [
              "\n",
              "            <div style=\"display: inline-block;\">\n",
              "                <div class=\"jupyter-widgets widget-label\" style=\"text-align: center;\">\n",
              "                    Figure 1\n",
              "                </div>\n",
              "                <img src='data:image/png;base64,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' width=617.0/>\n",
              "            </div>\n",
              "        "
            ],
            "application/vnd.jupyter.widget-view+json": {
              "version_major": 2,
              "version_minor": 0,
              "model_id": "1762384eefb84d8894ba440512ef7750"
            }
          },
          "metadata": {
            "application/vnd.jupyter.widget-view+json": {
              "colab": {
                "custom_widget_manager": {
                  "url": "https://ssl.gstatic.com/colaboratory-static/widgets/colab-cdn-widget-manager/b3e629b1971e1542/manager.min.js"
                }
              }
            }
          }
        }
      ]
    },
    {
      "cell_type": "code",
      "source": [
        "print(data[:,:])\n"
      ],
      "metadata": {
        "id": "kzpvxdVYl-r6"
      },
      "execution_count": null,
      "outputs": []
    },
    {
      "cell_type": "code",
      "source": [
        "intput = np.array( [[0,\t0],\n",
        "[0,\t1\t],\n",
        "[1,\t0\t],\n",
        "[1,\t1\t]])\n",
        "\n",
        "expoutput = np.array([1,0,0,0]).reshape(4,1)"
      ],
      "metadata": {
        "id": "ZfNUSgvWPIjH"
      },
      "execution_count": null,
      "outputs": []
    },
    {
      "cell_type": "code",
      "source": [
        "#!/usr/bin/env python3\n",
        "import numpy as np\n",
        "from PIL import Image\n",
        "\n",
        "from tinygrad.state import get_parameters\n",
        "from tinygrad.nn import optim\n",
        "from tinygrad.helpers import getenv\n",
        "from extra.training import train, evaluate\n",
        "from models.resnet import ResNet\n",
        "from extra.datasets import fetch_mnist\n",
        "\n",
        "\n",
        "class ComposeTransforms:\n",
        "  def __init__(self, trans):\n",
        "    self.trans = trans\n",
        "\n",
        "  def __call__(self, x):\n",
        "    for t in self.trans:\n",
        "      x = t(x)\n",
        "    return x\n",
        "\n",
        "if __name__ == \"__main__\":\n",
        "  X_train, Y_train, X_test, Y_test = fetch_mnist()\n",
        "  X_train = X_train.reshape(-1, 28, 28).astype(np.uint8)\n",
        "  X_test = X_test.reshape(-1, 28, 28).astype(np.uint8)\n",
        "  classes = 10\n",
        "\n",
        "  TRANSFER = getenv('TRANSFER')\n",
        "  model = ResNet(getenv('NUM', 18), num_classes=classes)\n",
        "  if TRANSFER:\n",
        "    model.load_from_pretrained()\n",
        "\n",
        "  lr = 5e-3\n",
        "  transform = ComposeTransforms([\n",
        "    lambda x: [Image.fromarray(xx, mode='L').resize((64, 64)) for xx in x],\n",
        "    lambda x: np.stack([np.asarray(xx) for xx in x], 0),\n",
        "    lambda x: x / 255.0,\n",
        "    lambda x: np.tile(np.expand_dims(x, 1), (1, 3, 1, 1)).astype(np.float32),\n",
        "  ])\n",
        "  for _ in range(5):\n",
        "    optimizer = optim.SGD(get_parameters(model), lr=lr, momentum=0.9)\n",
        "    train(model, X_train, Y_train, optimizer, 100, BS=32, transform=transform)\n",
        "    evaluate(model, X_test, Y_test, num_classes=classes, transform=transform)\n",
        "    lr /= 1.2\n",
        "    print(f'reducing lr to {lr:.7f}')\n"
      ],
      "metadata": {
        "id": "XCZcPhDweiCZ",
        "outputId": "83569fa4-b725-412f-b9fa-9e9c0402b463",
        "colab": {
          "base_uri": "https://localhost:8080/"
        }
      },
      "execution_count": null,
      "outputs": [
        {
          "output_type": "stream",
          "name": "stderr",
          "text": [
            "loss 0.14 accuracy 0.94:  93%|█████████▎| 93/100 [10:03<00:42,  6.02s/it]"
          ]
        }
      ]
    },
    {
      "cell_type": "code",
      "source": [
        "! GRAPH=1"
      ],
      "metadata": {
        "id": "e5zSVQSlKKnQ"
      },
      "execution_count": null,
      "outputs": []
    },
    {
      "cell_type": "markdown",
      "source": [],
      "metadata": {
        "id": "J63u3pK-Mgtw"
      }
    },
    {
      "cell_type": "markdown",
      "source": [],
      "metadata": {
        "id": "pt70Xi-_-50W"
      }
    },
    {
      "cell_type": "markdown",
      "source": [],
      "metadata": {
        "id": "RsgBG_FHBsmf"
      }
    },
    {
      "cell_type": "markdown",
      "source": [],
      "metadata": {
        "id": "Uwvam9P7_RYm"
      }
    },
    {
      "cell_type": "markdown",
      "source": [
        "!GPU=1 CUDA=1 python3 examples/mnist_gan.py\n",
        "21\n",
        "image = np.array(images_real[1]).reshape(28,28);\n",
        "\n",
        "for a in range(28):\n",
        "  print(int(28*((a)/28)))\n",
        "\n"
      ],
      "metadata": {
        "id": "ONW8tV5_8-8G"
      }
    },
    {
      "cell_type": "markdown",
      "metadata": {
        "id": "KDBmdYmGCmbx"
      },
      "source": [
        "# New Section"
      ]
    }
  ],
  "metadata": {
    "colab": {
      "provenance": [],
      "authorship_tag": "ABX9TyOd+dp12Smw42RtE2W58vVb",
      "include_colab_link": true
    },
    "kernelspec": {
      "display_name": "Python 3",
      "name": "python3"
    },
    "language_info": {
      "name": "python"
    },
    "widgets": {
      "application/vnd.jupyter.widget-state+json": {
        "ca7e7ba854cb4a35a2a5c290afb3d42a": {
          "model_module": "@jupyter-widgets/controls",
          "model_name": "IntSliderModel",
          "model_module_version": "1.5.0",
          "state": {
            "_dom_classes": [],
            "_model_module": "@jupyter-widgets/controls",
            "_model_module_version": "1.5.0",
            "_model_name": "IntSliderModel",
            "_view_count": null,
            "_view_module": "@jupyter-widgets/controls",
            "_view_module_version": "1.5.0",
            "_view_name": "IntSliderView",
            "continuous_update": true,
            "description": "",
            "description_tooltip": null,
            "disabled": false,
            "layout": "IPY_MODEL_218e8ff2e259426d9c2d3d68dd01a4cc",
            "max": 100,
            "min": 0,
            "orientation": "horizontal",
            "readout": true,
            "readout_format": "d",
            "step": 1,
            "style": "IPY_MODEL_0c8f7197516c46afa3ad477ab84e6d7d",
            "value": 0
          }
        },
        "218e8ff2e259426d9c2d3d68dd01a4cc": {
          "model_module": "@jupyter-widgets/base",
          "model_name": "LayoutModel",
          "model_module_version": "1.2.0",
          "state": {
            "_model_module": "@jupyter-widgets/base",
            "_model_module_version": "1.2.0",
            "_model_name": "LayoutModel",
            "_view_count": null,
            "_view_module": "@jupyter-widgets/base",
            "_view_module_version": "1.2.0",
            "_view_name": "LayoutView",
            "align_content": null,
            "align_items": null,
            "align_self": null,
            "border": null,
            "bottom": null,
            "display": null,
            "flex": null,
            "flex_flow": null,
            "grid_area": null,
            "grid_auto_columns": null,
            "grid_auto_flow": null,
            "grid_auto_rows": null,
            "grid_column": null,
            "grid_gap": null,
            "grid_row": null,
            "grid_template_areas": null,
            "grid_template_columns": null,
            "grid_template_rows": null,
            "height": null,
            "justify_content": null,
            "justify_items": null,
            "left": null,
            "margin": null,
            "max_height": null,
            "max_width": null,
            "min_height": null,
            "min_width": null,
            "object_fit": null,
            "object_position": null,
            "order": null,
            "overflow": null,
            "overflow_x": null,
            "overflow_y": null,
            "padding": null,
            "right": null,
            "top": null,
            "visibility": null,
            "width": null
          }
        },
        "0c8f7197516c46afa3ad477ab84e6d7d": {
          "model_module": "@jupyter-widgets/controls",
          "model_name": "SliderStyleModel",
          "model_module_version": "1.5.0",
          "state": {
            "_model_module": "@jupyter-widgets/controls",
            "_model_module_version": "1.5.0",
            "_model_name": "SliderStyleModel",
            "_view_count": null,
            "_view_module": "@jupyter-widgets/base",
            "_view_module_version": "1.2.0",
            "_view_name": "StyleView",
            "description_width": "",
            "handle_color": null
          }
        },
        "b7d5fd54cdad4eb4a26270a32c516f77": {
          "model_module": "@jupyter-widgets/output",
          "model_name": "OutputModel",
          "model_module_version": "1.0.0",
          "state": {
            "_dom_classes": [],
            "_model_module": "@jupyter-widgets/output",
            "_model_module_version": "1.0.0",
            "_model_name": "OutputModel",
            "_view_count": null,
            "_view_module": "@jupyter-widgets/output",
            "_view_module_version": "1.0.0",
            "_view_name": "OutputView",
            "layout": "IPY_MODEL_b2d52b00b95a4273a21b8e764d33dde0",
            "msg_id": "",
            "outputs": []
          }
        },
        "b2d52b00b95a4273a21b8e764d33dde0": {
          "model_module": "@jupyter-widgets/base",
          "model_name": "LayoutModel",
          "model_module_version": "1.2.0",
          "state": {
            "_model_module": "@jupyter-widgets/base",
            "_model_module_version": "1.2.0",
            "_model_name": "LayoutModel",
            "_view_count": null,
            "_view_module": "@jupyter-widgets/base",
            "_view_module_version": "1.2.0",
            "_view_name": "LayoutView",
            "align_content": null,
            "align_items": null,
            "align_self": null,
            "border": null,
            "bottom": null,
            "display": null,
            "flex": null,
            "flex_flow": null,
            "grid_area": null,
            "grid_auto_columns": null,
            "grid_auto_flow": null,
            "grid_auto_rows": null,
            "grid_column": null,
            "grid_gap": null,
            "grid_row": null,
            "grid_template_areas": null,
            "grid_template_columns": null,
            "grid_template_rows": null,
            "height": null,
            "justify_content": null,
            "justify_items": null,
            "left": null,
            "margin": null,
            "max_height": null,
            "max_width": null,
            "min_height": null,
            "min_width": null,
            "object_fit": null,
            "object_position": null,
            "order": null,
            "overflow": null,
            "overflow_x": null,
            "overflow_y": null,
            "padding": null,
            "right": null,
            "top": null,
            "visibility": null,
            "width": null
          }
        },
        "4f3d676034664f7aafa4c9274742fa08": {
          "model_module": "@jupyter-widgets/base",
          "model_name": "LayoutModel",
          "model_module_version": "1.2.0",
          "state": {
            "_model_module": "@jupyter-widgets/base",
            "_model_module_version": "1.2.0",
            "_model_name": "LayoutModel",
            "_view_count": null,
            "_view_module": "@jupyter-widgets/base",
            "_view_module_version": "1.2.0",
            "_view_name": "LayoutView",
            "align_content": null,
            "align_items": null,
            "align_self": null,
            "border": null,
            "bottom": null,
            "display": null,
            "flex": null,
            "flex_flow": null,
            "grid_area": null,
            "grid_auto_columns": null,
            "grid_auto_flow": null,
            "grid_auto_rows": null,
            "grid_column": null,
            "grid_gap": null,
            "grid_row": null,
            "grid_template_areas": null,
            "grid_template_columns": null,
            "grid_template_rows": null,
            "height": null,
            "justify_content": null,
            "justify_items": null,
            "left": null,
            "margin": null,
            "max_height": null,
            "max_width": null,
            "min_height": null,
            "min_width": null,
            "object_fit": null,
            "object_position": null,
            "order": null,
            "overflow": null,
            "overflow_x": null,
            "overflow_y": null,
            "padding": null,
            "right": null,
            "top": null,
            "visibility": null,
            "width": null
          }
        },
        "aed52ec3fac54a578abb926e289630b3": {
          "model_module": "@jupyter-widgets/base",
          "model_name": "LayoutModel",
          "model_module_version": "1.2.0",
          "state": {
            "_model_module": "@jupyter-widgets/base",
            "_model_module_version": "1.2.0",
            "_model_name": "LayoutModel",
            "_view_count": null,
            "_view_module": "@jupyter-widgets/base",
            "_view_module_version": "1.2.0",
            "_view_name": "LayoutView",
            "align_content": null,
            "align_items": null,
            "align_self": null,
            "border": null,
            "bottom": null,
            "display": null,
            "flex": null,
            "flex_flow": null,
            "grid_area": null,
            "grid_auto_columns": null,
            "grid_auto_flow": null,
            "grid_auto_rows": null,
            "grid_column": null,
            "grid_gap": null,
            "grid_row": null,
            "grid_template_areas": null,
            "grid_template_columns": null,
            "grid_template_rows": null,
            "height": null,
            "justify_content": null,
            "justify_items": null,
            "left": null,
            "margin": null,
            "max_height": null,
            "max_width": null,
            "min_height": null,
            "min_width": null,
            "object_fit": null,
            "object_position": null,
            "order": null,
            "overflow": null,
            "overflow_x": null,
            "overflow_y": null,
            "padding": null,
            "right": null,
            "top": null,
            "visibility": null,
            "width": null
          }
        },
        "36b71a5578e94f82bcdd48dfa17f0592": {
          "model_module": "jupyter-matplotlib",
          "model_name": "ToolbarModel",
          "model_module_version": "^0.11",
          "state": {
            "_current_action": "",
            "_dom_classes": [],
            "_model_module": "jupyter-matplotlib",
            "_model_module_version": "^0.11",
            "_model_name": "ToolbarModel",
            "_view_count": null,
            "_view_module": "jupyter-matplotlib",
            "_view_module_version": "^0.11",
            "_view_name": "ToolbarView",
            "button_style": "",
            "collapsed": true,
            "layout": "IPY_MODEL_aed52ec3fac54a578abb926e289630b3",
            "orientation": "vertical",
            "toolitems": [
              [
                "Home",
                "Reset original view",
                "home",
                "home"
              ],
              [
                "Back",
                "Back to previous view",
                "arrow-left",
                "back"
              ],
              [
                "Forward",
                "Forward to next view",
                "arrow-right",
                "forward"
              ],
              [
                "Pan",
                "Left button pans, Right button zooms\nx/y fixes axis, CTRL fixes aspect",
                "arrows",
                "pan"
              ],
              [
                "Zoom",
                "Zoom to rectangle\nx/y fixes axis",
                "square-o",
                "zoom"
              ],
              [
                "Download",
                "Download plot",
                "floppy-o",
                "save_figure"
              ]
            ]
          }
        },
        "1762384eefb84d8894ba440512ef7750": {
          "model_module": "jupyter-matplotlib",
          "model_name": "MPLCanvasModel",
          "model_module_version": "^0.11",
          "state": {
            "_cursor": "default",
            "_data_url": "data:image/png;base64,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",
            "_dom_classes": [],
            "_figure_label": "Figure 1",
            "_image_mode": "diff",
            "_message": "",
            "_model_module": "jupyter-matplotlib",
            "_model_module_version": "^0.11",
            "_model_name": "MPLCanvasModel",
            "_rubberband_height": 0,
            "_rubberband_width": 0,
            "_rubberband_x": 0,
            "_rubberband_y": 0,
            "_size": [
              617,
              598
            ],
            "_view_count": null,
            "_view_module": "jupyter-matplotlib",
            "_view_module_version": "^0.11",
            "_view_name": "MPLCanvasView",
            "capture_scroll": false,
            "footer_visible": true,
            "header_visible": true,
            "layout": "IPY_MODEL_4f3d676034664f7aafa4c9274742fa08",
            "pan_zoom_throttle": 33,
            "resizable": true,
            "toolbar": "IPY_MODEL_36b71a5578e94f82bcdd48dfa17f0592",
            "toolbar_position": "left",
            "toolbar_visible": "fade-in-fade-out"
          }
        }
      }
    }
  },
  "nbformat": 4,
  "nbformat_minor": 0
}