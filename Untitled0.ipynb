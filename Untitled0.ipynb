{
  "cells": [
    {
      "cell_type": "markdown",
      "metadata": {
        "id": "view-in-github",
        "colab_type": "text"
      },
      "source": [
        "<a href=\"https://colab.research.google.com/github/Michal1Bogucki/test/blob/master/Untitled0.ipynb\" target=\"_parent\"><img src=\"https://colab.research.google.com/assets/colab-badge.svg\" alt=\"Open In Colab\"/></a>"
      ]
    },
    {
      "cell_type": "code",
      "execution_count": null,
      "metadata": {
        "id": "I1fNAryjUy_a"
      },
      "outputs": [],
      "source": [
        "!sudo DEBIAN_FRONTEND=noninteractive apt-get install keyboard-configuration\n",
        "!sudo apt update\n",
        "!sudo apt purge *nvidia* -y\n",
        "!sudo apt install nvidia-driver-530 -y"
      ]
    },
    {
      "cell_type": "code",
      "source": [
        "!clinfo"
      ],
      "metadata": {
        "id": "X9XDvQ_Gc2cS"
      },
      "execution_count": null,
      "outputs": []
    },
    {
      "cell_type": "code",
      "execution_count": 1,
      "metadata": {
        "colab": {
          "base_uri": "https://localhost:8080/"
        },
        "id": "fkkEAAp4Bn8i",
        "outputId": "c0a64a9e-7bb2-41a5-d4a7-b5a36912fb28"
      },
      "outputs": [
        {
          "output_type": "stream",
          "name": "stdout",
          "text": [
            "\u001b[33mhint: Using 'master' as the name for the initial branch. This default branch name\u001b[m\n",
            "\u001b[33mhint: is subject to change. To configure the initial branch name to use in all\u001b[m\n",
            "\u001b[33mhint: of your new repositories, which will suppress this warning, call:\u001b[m\n",
            "\u001b[33mhint: \u001b[m\n",
            "\u001b[33mhint: \tgit config --global init.defaultBranch <name>\u001b[m\n",
            "\u001b[33mhint: \u001b[m\n",
            "\u001b[33mhint: Names commonly chosen instead of 'master' are 'main', 'trunk' and\u001b[m\n",
            "\u001b[33mhint: 'development'. The just-created branch can be renamed via this command:\u001b[m\n",
            "\u001b[33mhint: \u001b[m\n",
            "\u001b[33mhint: \tgit branch -m <name>\u001b[m\n",
            "Initialized empty Git repository in /content/.git/\n",
            "remote: Enumerating objects: 16294, done.\u001b[K\n",
            "remote: Counting objects: 100% (16294/16294), done.\u001b[K\n",
            "remote: Compressing objects: 100% (4352/4352), done.\u001b[K\n",
            "remote: Total 16294 (delta 11595), reused 16181 (delta 11546), pack-reused 0\u001b[K\n",
            "Receiving objects: 100% (16294/16294), 18.92 MiB | 25.29 MiB/s, done.\n",
            "Resolving deltas: 100% (11595/11595), done.\n",
            "From https://github.com/geohot/tinygrad\n",
            " * [new branch]      cleanup_mlperf -> origin/cleanup_mlperf\n",
            " * [new branch]      dcgan          -> origin/dcgan\n",
            " * [new branch]      f16matmul      -> origin/f16matmul\n",
            " * [new branch]      fast_triton    -> origin/fast_triton\n",
            " * [new branch]      master         -> origin/master\n",
            " * [new branch]      metalopt       -> origin/metalopt\n",
            " * [new branch]      nevergrad      -> origin/nevergrad\n",
            " * [new branch]      new_triton     -> origin/new_triton\n",
            " * [new branch]      run_commavq    -> origin/run_commavq\n",
            " * [new branch]      simple_bitcast -> origin/simple_bitcast\n",
            " * [new branch]      tensor_cores   -> origin/tensor_cores\n",
            " * [new branch]      uopsif         -> origin/uopsif\n",
            " * [new tag]         v0.4.0         -> v0.4.0\n",
            " * [new tag]         v0.5.0         -> v0.5.0\n",
            " * [new tag]         v0.6.0         -> v0.6.0\n",
            "Branch 'master' set up to track remote branch 'master' from 'origin'.\n",
            "Already on 'master'\n"
          ]
        }
      ],
      "source": [
        "\n",
        "!git init\n",
        "!git remote add origin https://github.com/geohot/tinygrad.git\n",
        "!git fetch origin\n",
        "!git checkout -b master --track origin/master\n",
        "!git reset origin/master\n"
      ]
    },
    {
      "cell_type": "code",
      "execution_count": 2,
      "metadata": {
        "colab": {
          "base_uri": "https://localhost:8080/"
        },
        "id": "6k8extjLPnNq",
        "outputId": "bcf6b278-8531-4cbc-e40e-4b513bac2c74"
      },
      "outputs": [
        {
          "output_type": "stream",
          "name": "stdout",
          "text": [
            "Obtaining file:///content\n",
            "  Preparing metadata (setup.py) ... \u001b[?25l\u001b[?25hdone\n",
            "Requirement already satisfied: numpy in /usr/local/lib/python3.10/dist-packages (from tinygrad==0.6.0) (1.23.5)\n",
            "Requirement already satisfied: requests in /usr/local/lib/python3.10/dist-packages (from tinygrad==0.6.0) (2.31.0)\n",
            "Requirement already satisfied: pillow in /usr/local/lib/python3.10/dist-packages (from tinygrad==0.6.0) (9.4.0)\n",
            "Requirement already satisfied: tqdm in /usr/local/lib/python3.10/dist-packages (from tinygrad==0.6.0) (4.66.1)\n",
            "Requirement already satisfied: networkx in /usr/local/lib/python3.10/dist-packages (from tinygrad==0.6.0) (3.1)\n",
            "Collecting pyopencl (from tinygrad==0.6.0)\n",
            "  Downloading pyopencl-2023.1.2-cp310-cp310-manylinux_2_17_x86_64.manylinux2014_x86_64.whl (941 kB)\n",
            "\u001b[2K     \u001b[90m━━━━━━━━━━━━━━━━━━━━━━━━━━━━━━━━━━━━━━━\u001b[0m \u001b[32m941.9/941.9 kB\u001b[0m \u001b[31m5.5 MB/s\u001b[0m eta \u001b[36m0:00:00\u001b[0m\n",
            "\u001b[?25hRequirement already satisfied: PyYAML in /usr/local/lib/python3.10/dist-packages (from tinygrad==0.6.0) (6.0.1)\n",
            "Collecting pytools>=2021.2.7 (from pyopencl->tinygrad==0.6.0)\n",
            "  Downloading pytools-2023.1.1-py2.py3-none-any.whl (70 kB)\n",
            "\u001b[2K     \u001b[90m━━━━━━━━━━━━━━━━━━━━━━━━━━━━━━━━━━━━━━━━\u001b[0m \u001b[32m70.6/70.6 kB\u001b[0m \u001b[31m7.4 MB/s\u001b[0m eta \u001b[36m0:00:00\u001b[0m\n",
            "\u001b[?25hRequirement already satisfied: platformdirs>=2.2.0 in /usr/local/lib/python3.10/dist-packages (from pyopencl->tinygrad==0.6.0) (3.10.0)\n",
            "Requirement already satisfied: charset-normalizer<4,>=2 in /usr/local/lib/python3.10/dist-packages (from requests->tinygrad==0.6.0) (3.2.0)\n",
            "Requirement already satisfied: idna<4,>=2.5 in /usr/local/lib/python3.10/dist-packages (from requests->tinygrad==0.6.0) (3.4)\n",
            "Requirement already satisfied: urllib3<3,>=1.21.1 in /usr/local/lib/python3.10/dist-packages (from requests->tinygrad==0.6.0) (2.0.4)\n",
            "Requirement already satisfied: certifi>=2017.4.17 in /usr/local/lib/python3.10/dist-packages (from requests->tinygrad==0.6.0) (2023.7.22)\n",
            "Requirement already satisfied: typing-extensions>=4.0 in /usr/local/lib/python3.10/dist-packages (from pytools>=2021.2.7->pyopencl->tinygrad==0.6.0) (4.7.1)\n",
            "Installing collected packages: pytools, pyopencl, tinygrad\n",
            "  Running setup.py develop for tinygrad\n",
            "Successfully installed pyopencl-2023.1.2 pytools-2023.1.1 tinygrad-0.6.0\n"
          ]
        }
      ],
      "source": [
        "%pip install -e ."
      ]
    },
    {
      "cell_type": "code",
      "execution_count": null,
      "metadata": {
        "id": "zuCR9hdTPf0_"
      },
      "outputs": [],
      "source": [
        "%pip install pycuda"
      ]
    },
    {
      "cell_type": "code",
      "source": [
        "%pip install ipympl"
      ],
      "metadata": {
        "id": "LzPl_BAb_75f",
        "colab": {
          "base_uri": "https://localhost:8080/"
        },
        "outputId": "799feca0-d2d8-443f-f1e4-11fa384a235d"
      },
      "execution_count": 3,
      "outputs": [
        {
          "output_type": "stream",
          "name": "stdout",
          "text": [
            "Collecting ipympl\n",
            "  Downloading ipympl-0.9.3-py2.py3-none-any.whl (511 kB)\n",
            "\u001b[2K     \u001b[90m━━━━━━━━━━━━━━━━━━━━━━━━━━━━━━━━━━━━━━━\u001b[0m \u001b[32m511.6/511.6 kB\u001b[0m \u001b[31m4.2 MB/s\u001b[0m eta \u001b[36m0:00:00\u001b[0m\n",
            "\u001b[?25hRequirement already satisfied: ipython<9 in /usr/local/lib/python3.10/dist-packages (from ipympl) (7.34.0)\n",
            "Requirement already satisfied: numpy in /usr/local/lib/python3.10/dist-packages (from ipympl) (1.23.5)\n",
            "Requirement already satisfied: ipython-genutils in /usr/local/lib/python3.10/dist-packages (from ipympl) (0.2.0)\n",
            "Requirement already satisfied: pillow in /usr/local/lib/python3.10/dist-packages (from ipympl) (9.4.0)\n",
            "Requirement already satisfied: traitlets<6 in /usr/local/lib/python3.10/dist-packages (from ipympl) (5.7.1)\n",
            "Requirement already satisfied: ipywidgets<9,>=7.6.0 in /usr/local/lib/python3.10/dist-packages (from ipympl) (7.7.1)\n",
            "Requirement already satisfied: matplotlib<4,>=3.4.0 in /usr/local/lib/python3.10/dist-packages (from ipympl) (3.7.1)\n",
            "Requirement already satisfied: setuptools>=18.5 in /usr/local/lib/python3.10/dist-packages (from ipython<9->ipympl) (67.7.2)\n",
            "Collecting jedi>=0.16 (from ipython<9->ipympl)\n",
            "  Downloading jedi-0.19.0-py2.py3-none-any.whl (1.6 MB)\n",
            "\u001b[2K     \u001b[90m━━━━━━━━━━━━━━━━━━━━━━━━━━━━━━━━━━━━━━━━\u001b[0m \u001b[32m1.6/1.6 MB\u001b[0m \u001b[31m11.7 MB/s\u001b[0m eta \u001b[36m0:00:00\u001b[0m\n",
            "\u001b[?25hRequirement already satisfied: decorator in /usr/local/lib/python3.10/dist-packages (from ipython<9->ipympl) (4.4.2)\n",
            "Requirement already satisfied: pickleshare in /usr/local/lib/python3.10/dist-packages (from ipython<9->ipympl) (0.7.5)\n",
            "Requirement already satisfied: prompt-toolkit!=3.0.0,!=3.0.1,<3.1.0,>=2.0.0 in /usr/local/lib/python3.10/dist-packages (from ipython<9->ipympl) (3.0.39)\n",
            "Requirement already satisfied: pygments in /usr/local/lib/python3.10/dist-packages (from ipython<9->ipympl) (2.16.1)\n",
            "Requirement already satisfied: backcall in /usr/local/lib/python3.10/dist-packages (from ipython<9->ipympl) (0.2.0)\n",
            "Requirement already satisfied: matplotlib-inline in /usr/local/lib/python3.10/dist-packages (from ipython<9->ipympl) (0.1.6)\n",
            "Requirement already satisfied: pexpect>4.3 in /usr/local/lib/python3.10/dist-packages (from ipython<9->ipympl) (4.8.0)\n",
            "Requirement already satisfied: ipykernel>=4.5.1 in /usr/local/lib/python3.10/dist-packages (from ipywidgets<9,>=7.6.0->ipympl) (5.5.6)\n",
            "Requirement already satisfied: widgetsnbextension~=3.6.0 in /usr/local/lib/python3.10/dist-packages (from ipywidgets<9,>=7.6.0->ipympl) (3.6.5)\n",
            "Requirement already satisfied: jupyterlab-widgets>=1.0.0 in /usr/local/lib/python3.10/dist-packages (from ipywidgets<9,>=7.6.0->ipympl) (3.0.8)\n",
            "Requirement already satisfied: contourpy>=1.0.1 in /usr/local/lib/python3.10/dist-packages (from matplotlib<4,>=3.4.0->ipympl) (1.1.0)\n",
            "Requirement already satisfied: cycler>=0.10 in /usr/local/lib/python3.10/dist-packages (from matplotlib<4,>=3.4.0->ipympl) (0.11.0)\n",
            "Requirement already satisfied: fonttools>=4.22.0 in /usr/local/lib/python3.10/dist-packages (from matplotlib<4,>=3.4.0->ipympl) (4.42.0)\n",
            "Requirement already satisfied: kiwisolver>=1.0.1 in /usr/local/lib/python3.10/dist-packages (from matplotlib<4,>=3.4.0->ipympl) (1.4.4)\n",
            "Requirement already satisfied: packaging>=20.0 in /usr/local/lib/python3.10/dist-packages (from matplotlib<4,>=3.4.0->ipympl) (23.1)\n",
            "Requirement already satisfied: pyparsing>=2.3.1 in /usr/local/lib/python3.10/dist-packages (from matplotlib<4,>=3.4.0->ipympl) (3.1.1)\n",
            "Requirement already satisfied: python-dateutil>=2.7 in /usr/local/lib/python3.10/dist-packages (from matplotlib<4,>=3.4.0->ipympl) (2.8.2)\n",
            "Requirement already satisfied: jupyter-client in /usr/local/lib/python3.10/dist-packages (from ipykernel>=4.5.1->ipywidgets<9,>=7.6.0->ipympl) (6.1.12)\n",
            "Requirement already satisfied: tornado>=4.2 in /usr/local/lib/python3.10/dist-packages (from ipykernel>=4.5.1->ipywidgets<9,>=7.6.0->ipympl) (6.3.2)\n",
            "Requirement already satisfied: parso<0.9.0,>=0.8.3 in /usr/local/lib/python3.10/dist-packages (from jedi>=0.16->ipython<9->ipympl) (0.8.3)\n",
            "Requirement already satisfied: ptyprocess>=0.5 in /usr/local/lib/python3.10/dist-packages (from pexpect>4.3->ipython<9->ipympl) (0.7.0)\n",
            "Requirement already satisfied: wcwidth in /usr/local/lib/python3.10/dist-packages (from prompt-toolkit!=3.0.0,!=3.0.1,<3.1.0,>=2.0.0->ipython<9->ipympl) (0.2.6)\n",
            "Requirement already satisfied: six>=1.5 in /usr/local/lib/python3.10/dist-packages (from python-dateutil>=2.7->matplotlib<4,>=3.4.0->ipympl) (1.16.0)\n",
            "Requirement already satisfied: notebook>=4.4.1 in /usr/local/lib/python3.10/dist-packages (from widgetsnbextension~=3.6.0->ipywidgets<9,>=7.6.0->ipympl) (6.5.5)\n",
            "Requirement already satisfied: jinja2 in /usr/local/lib/python3.10/dist-packages (from notebook>=4.4.1->widgetsnbextension~=3.6.0->ipywidgets<9,>=7.6.0->ipympl) (3.1.2)\n",
            "Requirement already satisfied: pyzmq<25,>=17 in /usr/local/lib/python3.10/dist-packages (from notebook>=4.4.1->widgetsnbextension~=3.6.0->ipywidgets<9,>=7.6.0->ipympl) (23.2.1)\n",
            "Requirement already satisfied: argon2-cffi in /usr/local/lib/python3.10/dist-packages (from notebook>=4.4.1->widgetsnbextension~=3.6.0->ipywidgets<9,>=7.6.0->ipympl) (23.1.0)\n",
            "Requirement already satisfied: jupyter-core>=4.6.1 in /usr/local/lib/python3.10/dist-packages (from notebook>=4.4.1->widgetsnbextension~=3.6.0->ipywidgets<9,>=7.6.0->ipympl) (5.3.1)\n",
            "Requirement already satisfied: nbformat in /usr/local/lib/python3.10/dist-packages (from notebook>=4.4.1->widgetsnbextension~=3.6.0->ipywidgets<9,>=7.6.0->ipympl) (5.9.2)\n",
            "Requirement already satisfied: nbconvert>=5 in /usr/local/lib/python3.10/dist-packages (from notebook>=4.4.1->widgetsnbextension~=3.6.0->ipywidgets<9,>=7.6.0->ipympl) (6.5.4)\n",
            "Requirement already satisfied: nest-asyncio>=1.5 in /usr/local/lib/python3.10/dist-packages (from notebook>=4.4.1->widgetsnbextension~=3.6.0->ipywidgets<9,>=7.6.0->ipympl) (1.5.7)\n",
            "Requirement already satisfied: Send2Trash>=1.8.0 in /usr/local/lib/python3.10/dist-packages (from notebook>=4.4.1->widgetsnbextension~=3.6.0->ipywidgets<9,>=7.6.0->ipympl) (1.8.2)\n",
            "Requirement already satisfied: terminado>=0.8.3 in /usr/local/lib/python3.10/dist-packages (from notebook>=4.4.1->widgetsnbextension~=3.6.0->ipywidgets<9,>=7.6.0->ipympl) (0.17.1)\n",
            "Requirement already satisfied: prometheus-client in /usr/local/lib/python3.10/dist-packages (from notebook>=4.4.1->widgetsnbextension~=3.6.0->ipywidgets<9,>=7.6.0->ipympl) (0.17.1)\n",
            "Requirement already satisfied: nbclassic>=0.4.7 in /usr/local/lib/python3.10/dist-packages (from notebook>=4.4.1->widgetsnbextension~=3.6.0->ipywidgets<9,>=7.6.0->ipympl) (1.0.0)\n",
            "Requirement already satisfied: platformdirs>=2.5 in /usr/local/lib/python3.10/dist-packages (from jupyter-core>=4.6.1->notebook>=4.4.1->widgetsnbextension~=3.6.0->ipywidgets<9,>=7.6.0->ipympl) (3.10.0)\n",
            "Requirement already satisfied: jupyter-server>=1.8 in /usr/local/lib/python3.10/dist-packages (from nbclassic>=0.4.7->notebook>=4.4.1->widgetsnbextension~=3.6.0->ipywidgets<9,>=7.6.0->ipympl) (1.24.0)\n",
            "Requirement already satisfied: notebook-shim>=0.2.3 in /usr/local/lib/python3.10/dist-packages (from nbclassic>=0.4.7->notebook>=4.4.1->widgetsnbextension~=3.6.0->ipywidgets<9,>=7.6.0->ipympl) (0.2.3)\n",
            "Requirement already satisfied: lxml in /usr/local/lib/python3.10/dist-packages (from nbconvert>=5->notebook>=4.4.1->widgetsnbextension~=3.6.0->ipywidgets<9,>=7.6.0->ipympl) (4.9.3)\n",
            "Requirement already satisfied: beautifulsoup4 in /usr/local/lib/python3.10/dist-packages (from nbconvert>=5->notebook>=4.4.1->widgetsnbextension~=3.6.0->ipywidgets<9,>=7.6.0->ipympl) (4.11.2)\n",
            "Requirement already satisfied: bleach in /usr/local/lib/python3.10/dist-packages (from nbconvert>=5->notebook>=4.4.1->widgetsnbextension~=3.6.0->ipywidgets<9,>=7.6.0->ipympl) (6.0.0)\n",
            "Requirement already satisfied: defusedxml in /usr/local/lib/python3.10/dist-packages (from nbconvert>=5->notebook>=4.4.1->widgetsnbextension~=3.6.0->ipywidgets<9,>=7.6.0->ipympl) (0.7.1)\n",
            "Requirement already satisfied: entrypoints>=0.2.2 in /usr/local/lib/python3.10/dist-packages (from nbconvert>=5->notebook>=4.4.1->widgetsnbextension~=3.6.0->ipywidgets<9,>=7.6.0->ipympl) (0.4)\n",
            "Requirement already satisfied: jupyterlab-pygments in /usr/local/lib/python3.10/dist-packages (from nbconvert>=5->notebook>=4.4.1->widgetsnbextension~=3.6.0->ipywidgets<9,>=7.6.0->ipympl) (0.2.2)\n",
            "Requirement already satisfied: MarkupSafe>=2.0 in /usr/local/lib/python3.10/dist-packages (from nbconvert>=5->notebook>=4.4.1->widgetsnbextension~=3.6.0->ipywidgets<9,>=7.6.0->ipympl) (2.1.3)\n",
            "Requirement already satisfied: mistune<2,>=0.8.1 in /usr/local/lib/python3.10/dist-packages (from nbconvert>=5->notebook>=4.4.1->widgetsnbextension~=3.6.0->ipywidgets<9,>=7.6.0->ipympl) (0.8.4)\n",
            "Requirement already satisfied: nbclient>=0.5.0 in /usr/local/lib/python3.10/dist-packages (from nbconvert>=5->notebook>=4.4.1->widgetsnbextension~=3.6.0->ipywidgets<9,>=7.6.0->ipympl) (0.8.0)\n",
            "Requirement already satisfied: pandocfilters>=1.4.1 in /usr/local/lib/python3.10/dist-packages (from nbconvert>=5->notebook>=4.4.1->widgetsnbextension~=3.6.0->ipywidgets<9,>=7.6.0->ipympl) (1.5.0)\n",
            "Requirement already satisfied: tinycss2 in /usr/local/lib/python3.10/dist-packages (from nbconvert>=5->notebook>=4.4.1->widgetsnbextension~=3.6.0->ipywidgets<9,>=7.6.0->ipympl) (1.2.1)\n",
            "Requirement already satisfied: fastjsonschema in /usr/local/lib/python3.10/dist-packages (from nbformat->notebook>=4.4.1->widgetsnbextension~=3.6.0->ipywidgets<9,>=7.6.0->ipympl) (2.18.0)\n",
            "Requirement already satisfied: jsonschema>=2.6 in /usr/local/lib/python3.10/dist-packages (from nbformat->notebook>=4.4.1->widgetsnbextension~=3.6.0->ipywidgets<9,>=7.6.0->ipympl) (4.19.0)\n",
            "Requirement already satisfied: argon2-cffi-bindings in /usr/local/lib/python3.10/dist-packages (from argon2-cffi->notebook>=4.4.1->widgetsnbextension~=3.6.0->ipywidgets<9,>=7.6.0->ipympl) (21.2.0)\n",
            "Requirement already satisfied: attrs>=22.2.0 in /usr/local/lib/python3.10/dist-packages (from jsonschema>=2.6->nbformat->notebook>=4.4.1->widgetsnbextension~=3.6.0->ipywidgets<9,>=7.6.0->ipympl) (23.1.0)\n",
            "Requirement already satisfied: jsonschema-specifications>=2023.03.6 in /usr/local/lib/python3.10/dist-packages (from jsonschema>=2.6->nbformat->notebook>=4.4.1->widgetsnbextension~=3.6.0->ipywidgets<9,>=7.6.0->ipympl) (2023.7.1)\n",
            "Requirement already satisfied: referencing>=0.28.4 in /usr/local/lib/python3.10/dist-packages (from jsonschema>=2.6->nbformat->notebook>=4.4.1->widgetsnbextension~=3.6.0->ipywidgets<9,>=7.6.0->ipympl) (0.30.2)\n",
            "Requirement already satisfied: rpds-py>=0.7.1 in /usr/local/lib/python3.10/dist-packages (from jsonschema>=2.6->nbformat->notebook>=4.4.1->widgetsnbextension~=3.6.0->ipywidgets<9,>=7.6.0->ipympl) (0.9.2)\n",
            "Requirement already satisfied: anyio<4,>=3.1.0 in /usr/local/lib/python3.10/dist-packages (from jupyter-server>=1.8->nbclassic>=0.4.7->notebook>=4.4.1->widgetsnbextension~=3.6.0->ipywidgets<9,>=7.6.0->ipympl) (3.7.1)\n",
            "Requirement already satisfied: websocket-client in /usr/local/lib/python3.10/dist-packages (from jupyter-server>=1.8->nbclassic>=0.4.7->notebook>=4.4.1->widgetsnbextension~=3.6.0->ipywidgets<9,>=7.6.0->ipympl) (1.6.1)\n",
            "Requirement already satisfied: cffi>=1.0.1 in /usr/local/lib/python3.10/dist-packages (from argon2-cffi-bindings->argon2-cffi->notebook>=4.4.1->widgetsnbextension~=3.6.0->ipywidgets<9,>=7.6.0->ipympl) (1.15.1)\n",
            "Requirement already satisfied: soupsieve>1.2 in /usr/local/lib/python3.10/dist-packages (from beautifulsoup4->nbconvert>=5->notebook>=4.4.1->widgetsnbextension~=3.6.0->ipywidgets<9,>=7.6.0->ipympl) (2.4.1)\n",
            "Requirement already satisfied: webencodings in /usr/local/lib/python3.10/dist-packages (from bleach->nbconvert>=5->notebook>=4.4.1->widgetsnbextension~=3.6.0->ipywidgets<9,>=7.6.0->ipympl) (0.5.1)\n",
            "Requirement already satisfied: idna>=2.8 in /usr/local/lib/python3.10/dist-packages (from anyio<4,>=3.1.0->jupyter-server>=1.8->nbclassic>=0.4.7->notebook>=4.4.1->widgetsnbextension~=3.6.0->ipywidgets<9,>=7.6.0->ipympl) (3.4)\n",
            "Requirement already satisfied: sniffio>=1.1 in /usr/local/lib/python3.10/dist-packages (from anyio<4,>=3.1.0->jupyter-server>=1.8->nbclassic>=0.4.7->notebook>=4.4.1->widgetsnbextension~=3.6.0->ipywidgets<9,>=7.6.0->ipympl) (1.3.0)\n",
            "Requirement already satisfied: exceptiongroup in /usr/local/lib/python3.10/dist-packages (from anyio<4,>=3.1.0->jupyter-server>=1.8->nbclassic>=0.4.7->notebook>=4.4.1->widgetsnbextension~=3.6.0->ipywidgets<9,>=7.6.0->ipympl) (1.1.3)\n",
            "Requirement already satisfied: pycparser in /usr/local/lib/python3.10/dist-packages (from cffi>=1.0.1->argon2-cffi-bindings->argon2-cffi->notebook>=4.4.1->widgetsnbextension~=3.6.0->ipywidgets<9,>=7.6.0->ipympl) (2.21)\n",
            "Installing collected packages: jedi, ipympl\n",
            "Successfully installed ipympl-0.9.3 jedi-0.19.0\n"
          ]
        }
      ]
    },
    {
      "cell_type": "code",
      "execution_count": 4,
      "metadata": {
        "id": "DLjaYXF7TQVA",
        "colab": {
          "base_uri": "https://localhost:8080/",
          "height": 547,
          "referenced_widgets": [
            "0cabfa281cf347d1bc25d7d3266a2dda",
            "693f4e3c038747b2a1457ca0712cd2eb",
            "09f87f4cfaab4c2a819631a047a4ce21",
            "7c144671b0944198ac415130b1134c11",
            "e6a0d7bcfa4b455f9f4653975e055154",
            "750472eefbce41d29a738a37974a651e",
            "e79f8780dcbd44ea86cfdb83906a6299",
            "4c2545c971604cf78147921bc156cfc0",
            "864937a0270c49778d26520f779522de"
          ]
        },
        "outputId": "2613c742-4069-4841-f22b-6c0a83c42642"
      },
      "outputs": [
        {
          "output_type": "display_data",
          "data": {
            "text/plain": [
              "IntSlider(value=0)"
            ],
            "application/vnd.jupyter.widget-view+json": {
              "version_major": 2,
              "version_minor": 0,
              "model_id": "0cabfa281cf347d1bc25d7d3266a2dda"
            }
          },
          "metadata": {
            "application/vnd.jupyter.widget-view+json": {
              "colab": {
                "custom_widget_manager": {
                  "url": "https://ssl.gstatic.com/colaboratory-static/widgets/colab-cdn-widget-manager/b3e629b1971e1542/manager.min.js"
                }
              }
            }
          }
        },
        {
          "output_type": "display_data",
          "data": {
            "text/plain": [
              "Output()"
            ],
            "application/vnd.jupyter.widget-view+json": {
              "version_major": 2,
              "version_minor": 0,
              "model_id": "e6a0d7bcfa4b455f9f4653975e055154"
            }
          },
          "metadata": {
            "application/vnd.jupyter.widget-view+json": {
              "colab": {
                "custom_widget_manager": {
                  "url": "https://ssl.gstatic.com/colaboratory-static/widgets/colab-cdn-widget-manager/b3e629b1971e1542/manager.min.js"
                }
              }
            }
          }
        },
        {
          "output_type": "display_data",
          "data": {
            "text/plain": [
              "Canvas(toolbar=Toolbar(toolitems=[('Home', 'Reset original view', 'home', 'home'), ('Back', 'Back to previous …"
            ],
            "image/png": "[encoded data removed]",
            "text/html": [
              "\n",
              "            <div style=\"display: inline-block;\">\n",
              "                <div class=\"jupyter-widgets widget-label\" style=\"text-align: center;\">\n",
              "                    Figure\n",
              "                </div>\n",
              "                <img src='data:image/png;base64,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' width=640.0/>\n",
              "            </div>\n",
              "        "
            ],
            "application/vnd.jupyter.widget-view+json": {
              "version_major": 2,
              "version_minor": 0,
              "model_id": "864937a0270c49778d26520f779522de"
            }
          },
          "metadata": {
            "application/vnd.jupyter.widget-view+json": {
              "colab": {
                "custom_widget_manager": {
                  "url": "https://ssl.gstatic.com/colaboratory-static/widgets/colab-cdn-widget-manager/b3e629b1971e1542/manager.min.js"
                }
              }
            }
          }
        }
      ],
      "source": [
        "%matplotlib widget\n",
        "import ipywidgets as widgets\n",
        "from IPython.display import display\n",
        "from google.colab import output\n",
        "output.enable_custom_widget_manager()\n",
        "from extra.datasets import fetch_mnist\n",
        "from matplotlib import pyplot as plt\n",
        "import numpy as np\n",
        "\n",
        "\n",
        "int_range = widgets.IntSlider()\n",
        "output2 = widgets.Output()\n",
        "\n",
        "display(int_range, output2)\n",
        "\n",
        "plt.clf()\n",
        "images_real = fetch_mnist()[2]\n",
        "\n",
        "fig=plt.imshow(np.array(images_real[1]).reshape(28,28), interpolation='none', cmap='gray')\n",
        "plt.show()\n",
        "\n",
        "def on_value_change(change):\n",
        "    with output2:\n",
        "        fig.set_data(np.array(images_real[change['new']]).reshape(28,28))\n",
        "\n",
        "\n",
        "int_range.observe(on_value_change, names='value')\n",
        "\n",
        "\n",
        "\n"
      ]
    },
    {
      "cell_type": "code",
      "source": [
        "from tinygrad.jit import TinyJit\n",
        "\n",
        "\n",
        "from tinygrad.tensor import Tensor\n",
        "from tinygrad.nn import Linear\n",
        "image = np.array(images_real[21]).reshape(28,28);\n",
        "\n",
        "@TinyJit\n",
        "class NorNet:\n",
        "  def __init__(self):\n",
        "    self.l1 = Linear(1,20,bias=True)\n",
        "    #self.l15 = Linear(10,20,bias=False)\n",
        "    self.l2 = Linear(20,1,bias=True)\n",
        "    #self.l3 = Linear(20,10,bias=False)\n",
        "    #self.l3 = Linear(20,1,bias=True)\n",
        "  def __call__(self, x):\n",
        "    x = self.l1(x)\n",
        "    x = x.celu()\n",
        "    x = self.l2(x)\n",
        "    #x = x.leakyrelu()\n",
        "    #x = self.l15(x)\n",
        "    x = x.mish()\n",
        "    #x = self.l3(x)\n",
        "    #x = x.leakyrelu()\n",
        "    #x = x.leakyrelu()\n",
        "    #x = self.l3(x)\n",
        "    #x = x.sin()\n",
        "    #x = self.l4(x)\n",
        "    #x = x.leakyrelu()\n",
        "    return  x\n",
        "\n",
        "\n",
        "net = NorNet()\n",
        "\n",
        "\n"
      ],
      "metadata": {
        "id": "0GmPvsRARAES"
      },
      "execution_count": 312,
      "outputs": []
    },
    {
      "cell_type": "markdown",
      "source": [
        "0\t0\t| 1\n",
        "\n",
        "0\t1\t| 0\n",
        "\n",
        "1\t0\t| 0\n",
        "\n",
        "1\t1 |\t0\n",
        "\n",
        "\n",
        "intput = np.array([1,2,3,4]).reshape(4,1)\n",
        "\n",
        "expoutput =np.array([2,3,4,5]).reshape(4,1)\n"
      ],
      "metadata": {
        "id": "B7L7sDnvII85"
      }
    },
    {
      "cell_type": "code",
      "source": [
        "\n",
        "from IPython.display import clear_output\n",
        "from extra.training import sparse_categorical_crossentropy\n",
        "from tinygrad.nn.optim import SGD, LAMB\n",
        "from tinygrad.state import get_parameters\n",
        "Tensor.training = True\n",
        "opt = SGD(get_parameters(net), lr=3e-4)\n",
        "\n",
        "def mean_squared_error(y_true, y_pred):\n",
        "    x= y_true.sub(Tensor(y_pred.astype(np.float32))).abs().mean()\n",
        "    #x= y_true.sub(Tensor(y_pred.astype(np.float32))).square().mean()\n",
        "    return x\n",
        "\n",
        "grid_size=28\n",
        "\n",
        "image=(np.array(images_real[21]).reshape(28,28))[3:23,9:21]\n",
        "\n",
        "data=np.array([(x, y,image[x,y]) for x in range(image.shape[0]) for y in range(image.shape[1])])\n",
        "\n",
        "row= 15\n",
        "\n",
        "data2train=data[row*image.shape[1]:row*image.shape[1]+image.shape[1],:]\n",
        "#data2train=data2train[[1,5,10],:]\n",
        "fig=plt.imshow(image, interpolation='none', cmap='gray')\n"
      ],
      "metadata": {
        "id": "w-Cv98V-HnmQ"
      },
      "execution_count": 313,
      "outputs": []
    },
    {
      "cell_type": "code",
      "source": [
        "for step in range(1000000):\n",
        "  data2train_=data2train[np.random.randint(0, image.shape[1],size=2),:]\n",
        "  out = net(Tensor(data2train[:,1:2],requires_grad=False))\n",
        "\n",
        "  loss= mean_squared_error(out,data2train_[:,2])\n",
        "\n",
        "  opt.zero_grad()\n",
        "  loss.backward()\n",
        "  opt.step()\n",
        "\n",
        "  if step % 100 == 0:\n",
        "    clear_output(wait=True)\n",
        "    row=np.random.randint(0, image.shape[0])\n",
        "    #data2train=data[row*image.shape[1]:row*image.shape[1]+image.shape[1],:]\n",
        "    print(f\"Step {step+1} | Loss: {loss.numpy()}\")\n"
      ],
      "metadata": {
        "colab": {
          "base_uri": "https://localhost:8080/",
          "height": 426
        },
        "id": "1xdrSYNbgWp-",
        "outputId": "101bf56c-4a49-4f8c-ae57-6a57cefbb2ba"
      },
      "execution_count": 317,
      "outputs": [
        {
          "output_type": "stream",
          "name": "stdout",
          "text": [
            "Step 2501 | Loss: nan\n"
          ]
        },
        {
          "output_type": "error",
          "ename": "KeyboardInterrupt",
          "evalue": "ignored",
          "traceback": [
            "\u001b[0;31m---------------------------------------------------------------------------\u001b[0m",
            "\u001b[0;31mKeyboardInterrupt\u001b[0m                         Traceback (most recent call last)",
            "\u001b[0;32m<ipython-input-317-61266ea6cb04>\u001b[0m in \u001b[0;36m<cell line: 1>\u001b[0;34m()\u001b[0m\n\u001b[1;32m      6\u001b[0m \u001b[0;34m\u001b[0m\u001b[0m\n\u001b[1;32m      7\u001b[0m   \u001b[0mopt\u001b[0m\u001b[0;34m.\u001b[0m\u001b[0mzero_grad\u001b[0m\u001b[0;34m(\u001b[0m\u001b[0;34m)\u001b[0m\u001b[0;34m\u001b[0m\u001b[0;34m\u001b[0m\u001b[0m\n\u001b[0;32m----> 8\u001b[0;31m   \u001b[0mloss\u001b[0m\u001b[0;34m.\u001b[0m\u001b[0mbackward\u001b[0m\u001b[0;34m(\u001b[0m\u001b[0;34m)\u001b[0m\u001b[0;34m\u001b[0m\u001b[0;34m\u001b[0m\u001b[0m\n\u001b[0m\u001b[1;32m      9\u001b[0m   \u001b[0mopt\u001b[0m\u001b[0;34m.\u001b[0m\u001b[0mstep\u001b[0m\u001b[0;34m(\u001b[0m\u001b[0;34m)\u001b[0m\u001b[0;34m\u001b[0m\u001b[0;34m\u001b[0m\u001b[0m\n\u001b[1;32m     10\u001b[0m \u001b[0;34m\u001b[0m\u001b[0m\n",
            "\u001b[0;32m/content/tinygrad/tensor.py\u001b[0m in \u001b[0;36mbackward\u001b[0;34m(self)\u001b[0m\n\u001b[1;32m    227\u001b[0m         \u001b[0;32mcontinue\u001b[0m\u001b[0;34m\u001b[0m\u001b[0;34m\u001b[0m\u001b[0m\n\u001b[1;32m    228\u001b[0m       \u001b[0;32massert\u001b[0m \u001b[0;34m(\u001b[0m\u001b[0mt0\u001b[0m\u001b[0;34m.\u001b[0m\u001b[0mgrad\u001b[0m \u001b[0;32mis\u001b[0m \u001b[0;32mnot\u001b[0m \u001b[0;32mNone\u001b[0m\u001b[0;34m)\u001b[0m\u001b[0;34m\u001b[0m\u001b[0;34m\u001b[0m\u001b[0m\n\u001b[0;32m--> 229\u001b[0;31m       \u001b[0mgrads\u001b[0m \u001b[0;34m=\u001b[0m \u001b[0mt0\u001b[0m\u001b[0;34m.\u001b[0m\u001b[0m_ctx\u001b[0m\u001b[0;34m.\u001b[0m\u001b[0mbackward\u001b[0m\u001b[0;34m(\u001b[0m\u001b[0mt0\u001b[0m\u001b[0;34m.\u001b[0m\u001b[0mgrad\u001b[0m\u001b[0;34m.\u001b[0m\u001b[0mlazydata\u001b[0m\u001b[0;34m)\u001b[0m\u001b[0;34m\u001b[0m\u001b[0;34m\u001b[0m\u001b[0m\n\u001b[0m\u001b[1;32m    230\u001b[0m       grads = [Tensor(g, device=self.device, requires_grad=False) if g is not None else None\n\u001b[1;32m    231\u001b[0m         for g in ([grads] if len(t0._ctx.parents) == 1 else grads)]\n",
            "\u001b[0;32m/content/tinygrad/mlops.py\u001b[0m in \u001b[0;36mbackward\u001b[0;34m(self, grad_output)\u001b[0m\n\u001b[1;32m    129\u001b[0m \u001b[0;34m\u001b[0m\u001b[0m\n\u001b[1;32m    130\u001b[0m   \u001b[0;32mdef\u001b[0m \u001b[0mbackward\u001b[0m\u001b[0;34m(\u001b[0m\u001b[0mself\u001b[0m\u001b[0;34m,\u001b[0m \u001b[0mgrad_output\u001b[0m\u001b[0;34m:\u001b[0m\u001b[0mLazyBuffer\u001b[0m\u001b[0;34m)\u001b[0m \u001b[0;34m->\u001b[0m \u001b[0mTuple\u001b[0m\u001b[0;34m[\u001b[0m\u001b[0mOptional\u001b[0m\u001b[0;34m[\u001b[0m\u001b[0mLazyBuffer\u001b[0m\u001b[0;34m]\u001b[0m\u001b[0;34m,\u001b[0m \u001b[0mOptional\u001b[0m\u001b[0;34m[\u001b[0m\u001b[0mLazyBuffer\u001b[0m\u001b[0;34m]\u001b[0m\u001b[0;34m]\u001b[0m\u001b[0;34m:\u001b[0m\u001b[0;34m\u001b[0m\u001b[0;34m\u001b[0m\u001b[0m\n\u001b[0;32m--> 131\u001b[0;31m     \u001b[0;32mreturn\u001b[0m \u001b[0mself\u001b[0m\u001b[0;34m.\u001b[0m\u001b[0my\u001b[0m \u001b[0;34m*\u001b[0m \u001b[0mgrad_output\u001b[0m \u001b[0;32mif\u001b[0m \u001b[0mself\u001b[0m\u001b[0;34m.\u001b[0m\u001b[0mneeds_input_grad\u001b[0m\u001b[0;34m[\u001b[0m\u001b[0;36m0\u001b[0m\u001b[0;34m]\u001b[0m \u001b[0;32melse\u001b[0m \u001b[0;32mNone\u001b[0m\u001b[0;34m,\u001b[0m\u001b[0;31m \u001b[0m\u001b[0;31m\\\u001b[0m\u001b[0;34m\u001b[0m\u001b[0;34m\u001b[0m\u001b[0m\n\u001b[0m\u001b[1;32m    132\u001b[0m            \u001b[0mself\u001b[0m\u001b[0;34m.\u001b[0m\u001b[0mx\u001b[0m \u001b[0;34m*\u001b[0m \u001b[0mgrad_output\u001b[0m \u001b[0;32mif\u001b[0m \u001b[0mself\u001b[0m\u001b[0;34m.\u001b[0m\u001b[0mneeds_input_grad\u001b[0m\u001b[0;34m[\u001b[0m\u001b[0;36m1\u001b[0m\u001b[0;34m]\u001b[0m \u001b[0;32melse\u001b[0m \u001b[0;32mNone\u001b[0m\u001b[0;34m\u001b[0m\u001b[0;34m\u001b[0m\u001b[0m\n\u001b[1;32m    133\u001b[0m \u001b[0;34m\u001b[0m\u001b[0m\n",
            "\u001b[0;32m/content/tinygrad/lazy.py\u001b[0m in \u001b[0;36m__mul__\u001b[0;34m(self, y)\u001b[0m\n\u001b[1;32m    202\u001b[0m   \u001b[0;32mdef\u001b[0m \u001b[0m__add__\u001b[0m\u001b[0;34m(\u001b[0m\u001b[0mself\u001b[0m\u001b[0;34m,\u001b[0m \u001b[0my\u001b[0m\u001b[0;34m:\u001b[0m\u001b[0mUnion\u001b[0m\u001b[0;34m[\u001b[0m\u001b[0mLazyBuffer\u001b[0m\u001b[0;34m,\u001b[0m \u001b[0mfloat\u001b[0m\u001b[0;34m,\u001b[0m \u001b[0mint\u001b[0m\u001b[0;34m]\u001b[0m\u001b[0;34m)\u001b[0m \u001b[0;34m->\u001b[0m \u001b[0mLazyBuffer\u001b[0m\u001b[0;34m:\u001b[0m \u001b[0;32mreturn\u001b[0m \u001b[0melementwise_op\u001b[0m\u001b[0;34m(\u001b[0m\u001b[0mBinaryOps\u001b[0m\u001b[0;34m.\u001b[0m\u001b[0mADD\u001b[0m\u001b[0;34m,\u001b[0m \u001b[0mself\u001b[0m\u001b[0;34m,\u001b[0m \u001b[0my\u001b[0m\u001b[0;34m)\u001b[0m\u001b[0;34m\u001b[0m\u001b[0;34m\u001b[0m\u001b[0m\n\u001b[1;32m    203\u001b[0m   \u001b[0;32mdef\u001b[0m \u001b[0m__radd__\u001b[0m\u001b[0;34m(\u001b[0m\u001b[0mself\u001b[0m\u001b[0;34m,\u001b[0m \u001b[0my\u001b[0m\u001b[0;34m:\u001b[0m\u001b[0mUnion\u001b[0m\u001b[0;34m[\u001b[0m\u001b[0mLazyBuffer\u001b[0m\u001b[0;34m,\u001b[0m \u001b[0mfloat\u001b[0m\u001b[0;34m,\u001b[0m \u001b[0mint\u001b[0m\u001b[0;34m]\u001b[0m\u001b[0;34m)\u001b[0m \u001b[0;34m->\u001b[0m \u001b[0mLazyBuffer\u001b[0m\u001b[0;34m:\u001b[0m \u001b[0;32mreturn\u001b[0m \u001b[0melementwise_op\u001b[0m\u001b[0;34m(\u001b[0m\u001b[0mBinaryOps\u001b[0m\u001b[0;34m.\u001b[0m\u001b[0mADD\u001b[0m\u001b[0;34m,\u001b[0m \u001b[0my\u001b[0m\u001b[0;34m,\u001b[0m \u001b[0mself\u001b[0m\u001b[0;34m)\u001b[0m\u001b[0;34m\u001b[0m\u001b[0;34m\u001b[0m\u001b[0m\n\u001b[0;32m--> 204\u001b[0;31m   \u001b[0;32mdef\u001b[0m \u001b[0m__mul__\u001b[0m\u001b[0;34m(\u001b[0m\u001b[0mself\u001b[0m\u001b[0;34m,\u001b[0m \u001b[0my\u001b[0m\u001b[0;34m:\u001b[0m\u001b[0mUnion\u001b[0m\u001b[0;34m[\u001b[0m\u001b[0mLazyBuffer\u001b[0m\u001b[0;34m,\u001b[0m \u001b[0mfloat\u001b[0m\u001b[0;34m,\u001b[0m \u001b[0mint\u001b[0m\u001b[0;34m]\u001b[0m\u001b[0;34m)\u001b[0m \u001b[0;34m->\u001b[0m \u001b[0mLazyBuffer\u001b[0m\u001b[0;34m:\u001b[0m \u001b[0;32mreturn\u001b[0m \u001b[0melementwise_op\u001b[0m\u001b[0;34m(\u001b[0m\u001b[0mBinaryOps\u001b[0m\u001b[0;34m.\u001b[0m\u001b[0mMUL\u001b[0m\u001b[0;34m,\u001b[0m \u001b[0mself\u001b[0m\u001b[0;34m,\u001b[0m \u001b[0my\u001b[0m\u001b[0;34m)\u001b[0m\u001b[0;34m\u001b[0m\u001b[0;34m\u001b[0m\u001b[0m\n\u001b[0m\u001b[1;32m    205\u001b[0m   \u001b[0;32mdef\u001b[0m \u001b[0m__rmul__\u001b[0m\u001b[0;34m(\u001b[0m\u001b[0mself\u001b[0m\u001b[0;34m,\u001b[0m \u001b[0my\u001b[0m\u001b[0;34m:\u001b[0m\u001b[0mUnion\u001b[0m\u001b[0;34m[\u001b[0m\u001b[0mLazyBuffer\u001b[0m\u001b[0;34m,\u001b[0m \u001b[0mfloat\u001b[0m\u001b[0;34m,\u001b[0m \u001b[0mint\u001b[0m\u001b[0;34m]\u001b[0m\u001b[0;34m)\u001b[0m \u001b[0;34m->\u001b[0m \u001b[0mLazyBuffer\u001b[0m\u001b[0;34m:\u001b[0m \u001b[0;32mreturn\u001b[0m \u001b[0melementwise_op\u001b[0m\u001b[0;34m(\u001b[0m\u001b[0mBinaryOps\u001b[0m\u001b[0;34m.\u001b[0m\u001b[0mMUL\u001b[0m\u001b[0;34m,\u001b[0m \u001b[0my\u001b[0m\u001b[0;34m,\u001b[0m \u001b[0mself\u001b[0m\u001b[0;34m)\u001b[0m\u001b[0;34m\u001b[0m\u001b[0;34m\u001b[0m\u001b[0m\n\u001b[1;32m    206\u001b[0m   \u001b[0;32mdef\u001b[0m \u001b[0m__truediv__\u001b[0m\u001b[0;34m(\u001b[0m\u001b[0mself\u001b[0m\u001b[0;34m,\u001b[0m \u001b[0my\u001b[0m\u001b[0;34m:\u001b[0m\u001b[0mUnion\u001b[0m\u001b[0;34m[\u001b[0m\u001b[0mLazyBuffer\u001b[0m\u001b[0;34m,\u001b[0m \u001b[0mfloat\u001b[0m\u001b[0;34m,\u001b[0m \u001b[0mint\u001b[0m\u001b[0;34m]\u001b[0m\u001b[0;34m)\u001b[0m \u001b[0;34m->\u001b[0m \u001b[0mLazyBuffer\u001b[0m\u001b[0;34m:\u001b[0m \u001b[0;32mreturn\u001b[0m \u001b[0melementwise_op\u001b[0m\u001b[0;34m(\u001b[0m\u001b[0mBinaryOps\u001b[0m\u001b[0;34m.\u001b[0m\u001b[0mDIV\u001b[0m\u001b[0;34m,\u001b[0m \u001b[0mself\u001b[0m\u001b[0;34m,\u001b[0m \u001b[0my\u001b[0m\u001b[0;34m)\u001b[0m\u001b[0;34m\u001b[0m\u001b[0;34m\u001b[0m\u001b[0m\n",
            "\u001b[0;32m/content/tinygrad/lazy.py\u001b[0m in \u001b[0;36melementwise_op\u001b[0;34m(op, arg, *_srcs)\u001b[0m\n\u001b[1;32m    324\u001b[0m \u001b[0;34m\u001b[0m\u001b[0m\n\u001b[1;32m    325\u001b[0m   \u001b[0;31m# if we are separated from other binary ops by movement ops, we push those movement ops above those binaryops\u001b[0m\u001b[0;34m\u001b[0m\u001b[0;34m\u001b[0m\u001b[0m\n\u001b[0;32m--> 326\u001b[0;31m   \u001b[0;32mif\u001b[0m \u001b[0mSHUFFLE_MOVEMENT_OPS\u001b[0m\u001b[0;34m:\u001b[0m \u001b[0msrcs\u001b[0m \u001b[0;34m=\u001b[0m \u001b[0m_push_movement_ops\u001b[0m\u001b[0;34m(\u001b[0m\u001b[0msrcs\u001b[0m\u001b[0;34m)\u001b[0m\u001b[0;34m\u001b[0m\u001b[0;34m\u001b[0m\u001b[0m\n\u001b[0m\u001b[1;32m    327\u001b[0m \u001b[0;34m\u001b[0m\u001b[0m\n\u001b[1;32m    328\u001b[0m   \u001b[0;31m# get outputs now\u001b[0m\u001b[0;34m\u001b[0m\u001b[0;34m\u001b[0m\u001b[0m\n",
            "\u001b[0;32m/content/tinygrad/lazy.py\u001b[0m in \u001b[0;36m_push_movement_ops\u001b[0;34m(srcs)\u001b[0m\n\u001b[1;32m    312\u001b[0m     \u001b[0;31m# NOTE: can't push pads past anything where f(0, 0) != 0 or f(0) != 0\u001b[0m\u001b[0;34m\u001b[0m\u001b[0;34m\u001b[0m\u001b[0m\n\u001b[1;32m    313\u001b[0m     \u001b[0munsafe_pad_ops\u001b[0m \u001b[0;34m=\u001b[0m \u001b[0;34m{\u001b[0m\u001b[0mBinaryOps\u001b[0m\u001b[0;34m.\u001b[0m\u001b[0mDIV\u001b[0m\u001b[0;34m,\u001b[0m \u001b[0mBinaryOps\u001b[0m\u001b[0;34m.\u001b[0m\u001b[0mCMPLT\u001b[0m\u001b[0;34m,\u001b[0m \u001b[0mUnaryOps\u001b[0m\u001b[0;34m.\u001b[0m\u001b[0mLOG2\u001b[0m\u001b[0;34m,\u001b[0m \u001b[0mUnaryOps\u001b[0m\u001b[0;34m.\u001b[0m\u001b[0mEXP2\u001b[0m\u001b[0;34m,\u001b[0m \u001b[0mUnaryOps\u001b[0m\u001b[0;34m.\u001b[0m\u001b[0mRECIP\u001b[0m\u001b[0;34m}\u001b[0m\u001b[0;34m\u001b[0m\u001b[0;34m\u001b[0m\u001b[0m\n\u001b[0;32m--> 314\u001b[0;31m     \u001b[0;32mif\u001b[0m \u001b[0;32mnot\u001b[0m \u001b[0mbx\u001b[0m\u001b[0;34m.\u001b[0m\u001b[0mrealized\u001b[0m \u001b[0;32mand\u001b[0m \u001b[0mbx\u001b[0m\u001b[0;34m.\u001b[0m\u001b[0moptype\u001b[0m \u001b[0;34m==\u001b[0m \u001b[0mBinaryOps\u001b[0m \u001b[0;32mand\u001b[0m \u001b[0mlen\u001b[0m\u001b[0;34m(\u001b[0m\u001b[0mbx\u001b[0m\u001b[0;34m.\u001b[0m\u001b[0mchildren\u001b[0m\u001b[0;34m)\u001b[0m \u001b[0;34m<=\u001b[0m \u001b[0;36m1\u001b[0m \u001b[0;32mand\u001b[0m \u001b[0mlen\u001b[0m\u001b[0;34m(\u001b[0m\u001b[0mmops\u001b[0m\u001b[0;34m)\u001b[0m \u001b[0;32mand\u001b[0m \u001b[0;34m(\u001b[0m\u001b[0mall\u001b[0m\u001b[0;34m(\u001b[0m\u001b[0mx\u001b[0m\u001b[0;34m[\u001b[0m\u001b[0;36m0\u001b[0m\u001b[0;34m]\u001b[0m \u001b[0;34m!=\u001b[0m \u001b[0mMovementOps\u001b[0m\u001b[0;34m.\u001b[0m\u001b[0mPAD\u001b[0m \u001b[0;32mfor\u001b[0m \u001b[0mx\u001b[0m \u001b[0;32min\u001b[0m \u001b[0mmops\u001b[0m\u001b[0;34m)\u001b[0m \u001b[0;32mor\u001b[0m \u001b[0mall\u001b[0m\u001b[0;34m(\u001b[0m\u001b[0mx\u001b[0m\u001b[0;34m.\u001b[0m\u001b[0mop\u001b[0m \u001b[0;32mnot\u001b[0m \u001b[0;32min\u001b[0m \u001b[0munsafe_pad_ops\u001b[0m \u001b[0;32mfor\u001b[0m \u001b[0mx\u001b[0m \u001b[0;32min\u001b[0m \u001b[0mbx\u001b[0m\u001b[0;34m.\u001b[0m\u001b[0mop\u001b[0m\u001b[0;34m.\u001b[0m\u001b[0mget_lazyops\u001b[0m\u001b[0;34m(\u001b[0m\u001b[0;34m)\u001b[0m\u001b[0;34m)\u001b[0m\u001b[0;34m)\u001b[0m\u001b[0;34m:\u001b[0m\u001b[0;34m\u001b[0m\u001b[0;34m\u001b[0m\u001b[0m\n\u001b[0m\u001b[1;32m    315\u001b[0m       \u001b[0mnew_srcs\u001b[0m\u001b[0;34m.\u001b[0m\u001b[0mappend\u001b[0m\u001b[0;34m(\u001b[0m\u001b[0mbx\u001b[0m\u001b[0;34m.\u001b[0m\u001b[0mop\u001b[0m\u001b[0;34m.\u001b[0m\u001b[0mreplace_with_movement_ops\u001b[0m\u001b[0;34m(\u001b[0m\u001b[0mmops\u001b[0m\u001b[0;34m[\u001b[0m\u001b[0;34m:\u001b[0m\u001b[0;34m:\u001b[0m\u001b[0;34m-\u001b[0m\u001b[0;36m1\u001b[0m\u001b[0;34m]\u001b[0m\u001b[0;34m)\u001b[0m\u001b[0;34m)\u001b[0m\u001b[0;34m\u001b[0m\u001b[0;34m\u001b[0m\u001b[0m\n\u001b[1;32m    316\u001b[0m     \u001b[0;32melse\u001b[0m\u001b[0;34m:\u001b[0m\u001b[0;34m\u001b[0m\u001b[0;34m\u001b[0m\u001b[0m\n",
            "\u001b[0;31mKeyboardInterrupt\u001b[0m: "
          ]
        }
      ]
    },
    {
      "cell_type": "code",
      "source": [
        "out=net(Tensor(data[:,1:2],requires_grad=False)).numpy()#.reshape(image.shape)\n",
        "print(out)\n",
        "fig=plt.imshow(out, interpolation='none', cmap='gray')\n",
        "plt.show()"
      ],
      "metadata": {
        "id": "BPUew8fQfN46",
        "outputId": "4c17ad0d-78cf-435e-b883-a3c03ef6992b",
        "colab": {
          "base_uri": "https://localhost:8080/",
          "height": 1000,
          "referenced_widgets": [
            "864937a0270c49778d26520f779522de",
            "750472eefbce41d29a738a37974a651e",
            "4c2545c971604cf78147921bc156cfc0",
            "e79f8780dcbd44ea86cfdb83906a6299"
          ]
        }
      },
      "execution_count": 318,
      "outputs": [
        {
          "output_type": "stream",
          "name": "stdout",
          "text": [
            "[[nan]\n",
            " [nan]\n",
            " [nan]\n",
            " [nan]\n",
            " [nan]\n",
            " [nan]\n",
            " [nan]\n",
            " [nan]\n",
            " [nan]\n",
            " [nan]\n",
            " [nan]\n",
            " [nan]\n",
            " [nan]\n",
            " [nan]\n",
            " [nan]\n",
            " [nan]\n",
            " [nan]\n",
            " [nan]\n",
            " [nan]\n",
            " [nan]\n",
            " [nan]\n",
            " [nan]\n",
            " [nan]\n",
            " [nan]\n",
            " [nan]\n",
            " [nan]\n",
            " [nan]\n",
            " [nan]\n",
            " [nan]\n",
            " [nan]\n",
            " [nan]\n",
            " [nan]\n",
            " [nan]\n",
            " [nan]\n",
            " [nan]\n",
            " [nan]\n",
            " [nan]\n",
            " [nan]\n",
            " [nan]\n",
            " [nan]\n",
            " [nan]\n",
            " [nan]\n",
            " [nan]\n",
            " [nan]\n",
            " [nan]\n",
            " [nan]\n",
            " [nan]\n",
            " [nan]\n",
            " [nan]\n",
            " [nan]\n",
            " [nan]\n",
            " [nan]\n",
            " [nan]\n",
            " [nan]\n",
            " [nan]\n",
            " [nan]\n",
            " [nan]\n",
            " [nan]\n",
            " [nan]\n",
            " [nan]\n",
            " [nan]\n",
            " [nan]\n",
            " [nan]\n",
            " [nan]\n",
            " [nan]\n",
            " [nan]\n",
            " [nan]\n",
            " [nan]\n",
            " [nan]\n",
            " [nan]\n",
            " [nan]\n",
            " [nan]\n",
            " [nan]\n",
            " [nan]\n",
            " [nan]\n",
            " [nan]\n",
            " [nan]\n",
            " [nan]\n",
            " [nan]\n",
            " [nan]\n",
            " [nan]\n",
            " [nan]\n",
            " [nan]\n",
            " [nan]\n",
            " [nan]\n",
            " [nan]\n",
            " [nan]\n",
            " [nan]\n",
            " [nan]\n",
            " [nan]\n",
            " [nan]\n",
            " [nan]\n",
            " [nan]\n",
            " [nan]\n",
            " [nan]\n",
            " [nan]\n",
            " [nan]\n",
            " [nan]\n",
            " [nan]\n",
            " [nan]\n",
            " [nan]\n",
            " [nan]\n",
            " [nan]\n",
            " [nan]\n",
            " [nan]\n",
            " [nan]\n",
            " [nan]\n",
            " [nan]\n",
            " [nan]\n",
            " [nan]\n",
            " [nan]\n",
            " [nan]\n",
            " [nan]\n",
            " [nan]\n",
            " [nan]\n",
            " [nan]\n",
            " [nan]\n",
            " [nan]\n",
            " [nan]\n",
            " [nan]\n",
            " [nan]\n",
            " [nan]\n",
            " [nan]\n",
            " [nan]\n",
            " [nan]\n",
            " [nan]\n",
            " [nan]\n",
            " [nan]\n",
            " [nan]\n",
            " [nan]\n",
            " [nan]\n",
            " [nan]\n",
            " [nan]\n",
            " [nan]\n",
            " [nan]\n",
            " [nan]\n",
            " [nan]\n",
            " [nan]\n",
            " [nan]\n",
            " [nan]\n",
            " [nan]\n",
            " [nan]\n",
            " [nan]\n",
            " [nan]\n",
            " [nan]\n",
            " [nan]\n",
            " [nan]\n",
            " [nan]\n",
            " [nan]\n",
            " [nan]\n",
            " [nan]\n",
            " [nan]\n",
            " [nan]\n",
            " [nan]\n",
            " [nan]\n",
            " [nan]\n",
            " [nan]\n",
            " [nan]\n",
            " [nan]\n",
            " [nan]\n",
            " [nan]\n",
            " [nan]\n",
            " [nan]\n",
            " [nan]\n",
            " [nan]\n",
            " [nan]\n",
            " [nan]\n",
            " [nan]\n",
            " [nan]\n",
            " [nan]\n",
            " [nan]\n",
            " [nan]\n",
            " [nan]\n",
            " [nan]\n",
            " [nan]\n",
            " [nan]\n",
            " [nan]\n",
            " [nan]\n",
            " [nan]\n",
            " [nan]\n",
            " [nan]\n",
            " [nan]\n",
            " [nan]\n",
            " [nan]\n",
            " [nan]\n",
            " [nan]\n",
            " [nan]\n",
            " [nan]\n",
            " [nan]\n",
            " [nan]\n",
            " [nan]\n",
            " [nan]\n",
            " [nan]\n",
            " [nan]\n",
            " [nan]\n",
            " [nan]\n",
            " [nan]\n",
            " [nan]\n",
            " [nan]\n",
            " [nan]\n",
            " [nan]\n",
            " [nan]\n",
            " [nan]\n",
            " [nan]\n",
            " [nan]\n",
            " [nan]\n",
            " [nan]\n",
            " [nan]\n",
            " [nan]\n",
            " [nan]\n",
            " [nan]\n",
            " [nan]\n",
            " [nan]\n",
            " [nan]\n",
            " [nan]\n",
            " [nan]\n",
            " [nan]\n",
            " [nan]\n",
            " [nan]\n",
            " [nan]\n",
            " [nan]\n",
            " [nan]\n",
            " [nan]\n",
            " [nan]\n",
            " [nan]\n",
            " [nan]\n",
            " [nan]\n",
            " [nan]\n",
            " [nan]\n",
            " [nan]\n",
            " [nan]\n",
            " [nan]\n",
            " [nan]\n",
            " [nan]\n",
            " [nan]\n",
            " [nan]\n",
            " [nan]\n",
            " [nan]\n",
            " [nan]\n",
            " [nan]]\n"
          ]
        },
        {
          "output_type": "display_data",
          "data": {
            "text/plain": [
              "Canvas(toolbar=Toolbar(toolitems=[('Home', 'Reset original view', 'home', 'home'), ('Back', 'Back to previous …"
            ],
            "image/png": "[encoded data removed]",
            "text/html": [
              "\n",
              "            <div style=\"display: inline-block;\">\n",
              "                <div class=\"jupyter-widgets widget-label\" style=\"text-align: center;\">\n",
              "                    Figure 1\n",
              "                </div>\n",
              "                <img src='data:image/png;base64,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' width=501.0/>\n",
              "            </div>\n",
              "        "
            ],
            "application/vnd.jupyter.widget-view+json": {
              "version_major": 2,
              "version_minor": 0,
              "model_id": "864937a0270c49778d26520f779522de"
            }
          },
          "metadata": {
            "application/vnd.jupyter.widget-view+json": {
              "colab": {
                "custom_widget_manager": {
                  "url": "https://ssl.gstatic.com/colaboratory-static/widgets/colab-cdn-widget-manager/b3e629b1971e1542/manager.min.js"
                }
              }
            }
          }
        }
      ]
    },
    {
      "cell_type": "code",
      "source": [
        "print(data2train[:,2])\n"
      ],
      "metadata": {
        "colab": {
          "base_uri": "https://localhost:8080/"
        },
        "id": "kzpvxdVYl-r6",
        "outputId": "aa208138-706b-4667-a09a-057fc7a7522f"
      },
      "execution_count": 267,
      "outputs": [
        {
          "output_type": "stream",
          "name": "stdout",
          "text": [
            "[255.   0. 253.]\n"
          ]
        }
      ]
    },
    {
      "cell_type": "code",
      "source": [
        "intput = np.array( [[0,\t0],\n",
        "[0,\t1\t],\n",
        "[1,\t0\t],\n",
        "[1,\t1\t]])\n",
        "\n",
        "expoutput = np.array([1,0,0,0]).reshape(4,1)"
      ],
      "metadata": {
        "id": "ZfNUSgvWPIjH"
      },
      "execution_count": null,
      "outputs": []
    },
    {
      "cell_type": "code",
      "source": [
        "t = Tensor(intput)\n",
        "print(t.numpy())"
      ],
      "metadata": {
        "id": "XCZcPhDweiCZ",
        "outputId": "16d23c50-5b0c-4806-c616-98845a5ff5b9",
        "colab": {
          "base_uri": "https://localhost:8080/"
        }
      },
      "execution_count": null,
      "outputs": [
        {
          "output_type": "stream",
          "name": "stdout",
          "text": [
            "[0. 1. 0. 1.]\n"
          ]
        }
      ]
    },
    {
      "cell_type": "code",
      "source": [
        "! GRAPH=1"
      ],
      "metadata": {
        "id": "e5zSVQSlKKnQ"
      },
      "execution_count": null,
      "outputs": []
    },
    {
      "cell_type": "markdown",
      "source": [],
      "metadata": {
        "id": "J63u3pK-Mgtw"
      }
    },
    {
      "cell_type": "markdown",
      "source": [],
      "metadata": {
        "id": "pt70Xi-_-50W"
      }
    },
    {
      "cell_type": "markdown",
      "source": [],
      "metadata": {
        "id": "RsgBG_FHBsmf"
      }
    },
    {
      "cell_type": "markdown",
      "source": [],
      "metadata": {
        "id": "Uwvam9P7_RYm"
      }
    },
    {
      "cell_type": "markdown",
      "source": [
        "!GPU=1 CUDA=1 python3 examples/mnist_gan.py\n",
        "21\n",
        "image = np.array(images_real[1]).reshape(28,28);\n",
        "\n",
        "for a in range(28):\n",
        "  print(int(28*((a)/28)))\n",
        "\n"
      ],
      "metadata": {
        "id": "ONW8tV5_8-8G"
      }
    },
    {
      "cell_type": "markdown",
      "metadata": {
        "id": "KDBmdYmGCmbx"
      },
      "source": [
        "# New Section"
      ]
    }
  ],
  "metadata": {
    "colab": {
      "provenance": [],
      "authorship_tag": "ABX9TyM2qFe97yqHKTI0ldKQ55Jl",
      "include_colab_link": true
    },
    "kernelspec": {
      "display_name": "Python 3",
      "name": "python3"
    },
    "language_info": {
      "name": "python"
    },
    "widgets": {
      "application/vnd.jupyter.widget-state+json": {
        "0cabfa281cf347d1bc25d7d3266a2dda": {
          "model_module": "@jupyter-widgets/controls",
          "model_name": "IntSliderModel",
          "model_module_version": "1.5.0",
          "state": {
            "_dom_classes": [],
            "_model_module": "@jupyter-widgets/controls",
            "_model_module_version": "1.5.0",
            "_model_name": "IntSliderModel",
            "_view_count": null,
            "_view_module": "@jupyter-widgets/controls",
            "_view_module_version": "1.5.0",
            "_view_name": "IntSliderView",
            "continuous_update": true,
            "description": "",
            "description_tooltip": null,
            "disabled": false,
            "layout": "IPY_MODEL_693f4e3c038747b2a1457ca0712cd2eb",
            "max": 100,
            "min": 0,
            "orientation": "horizontal",
            "readout": true,
            "readout_format": "d",
            "step": 1,
            "style": "IPY_MODEL_09f87f4cfaab4c2a819631a047a4ce21",
            "value": 19
          }
        },
        "693f4e3c038747b2a1457ca0712cd2eb": {
          "model_module": "@jupyter-widgets/base",
          "model_name": "LayoutModel",
          "model_module_version": "1.2.0",
          "state": {
            "_model_module": "@jupyter-widgets/base",
            "_model_module_version": "1.2.0",
            "_model_name": "LayoutModel",
            "_view_count": null,
            "_view_module": "@jupyter-widgets/base",
            "_view_module_version": "1.2.0",
            "_view_name": "LayoutView",
            "align_content": null,
            "align_items": null,
            "align_self": null,
            "border": null,
            "bottom": null,
            "display": null,
            "flex": null,
            "flex_flow": null,
            "grid_area": null,
            "grid_auto_columns": null,
            "grid_auto_flow": null,
            "grid_auto_rows": null,
            "grid_column": null,
            "grid_gap": null,
            "grid_row": null,
            "grid_template_areas": null,
            "grid_template_columns": null,
            "grid_template_rows": null,
            "height": null,
            "justify_content": null,
            "justify_items": null,
            "left": null,
            "margin": null,
            "max_height": null,
            "max_width": null,
            "min_height": null,
            "min_width": null,
            "object_fit": null,
            "object_position": null,
            "order": null,
            "overflow": null,
            "overflow_x": null,
            "overflow_y": null,
            "padding": null,
            "right": null,
            "top": null,
            "visibility": null,
            "width": null
          }
        },
        "09f87f4cfaab4c2a819631a047a4ce21": {
          "model_module": "@jupyter-widgets/controls",
          "model_name": "SliderStyleModel",
          "model_module_version": "1.5.0",
          "state": {
            "_model_module": "@jupyter-widgets/controls",
            "_model_module_version": "1.5.0",
            "_model_name": "SliderStyleModel",
            "_view_count": null,
            "_view_module": "@jupyter-widgets/base",
            "_view_module_version": "1.2.0",
            "_view_name": "StyleView",
            "description_width": "",
            "handle_color": null
          }
        },
        "7c144671b0944198ac415130b1134c11": {
          "model_module": "@jupyter-widgets/base",
          "model_name": "LayoutModel",
          "model_module_version": "1.2.0",
          "state": {
            "_model_module": "@jupyter-widgets/base",
            "_model_module_version": "1.2.0",
            "_model_name": "LayoutModel",
            "_view_count": null,
            "_view_module": "@jupyter-widgets/base",
            "_view_module_version": "1.2.0",
            "_view_name": "LayoutView",
            "align_content": null,
            "align_items": null,
            "align_self": null,
            "border": null,
            "bottom": null,
            "display": null,
            "flex": null,
            "flex_flow": null,
            "grid_area": null,
            "grid_auto_columns": null,
            "grid_auto_flow": null,
            "grid_auto_rows": null,
            "grid_column": null,
            "grid_gap": null,
            "grid_row": null,
            "grid_template_areas": null,
            "grid_template_columns": null,
            "grid_template_rows": null,
            "height": null,
            "justify_content": null,
            "justify_items": null,
            "left": null,
            "margin": null,
            "max_height": null,
            "max_width": null,
            "min_height": null,
            "min_width": null,
            "object_fit": null,
            "object_position": null,
            "order": null,
            "overflow": null,
            "overflow_x": null,
            "overflow_y": null,
            "padding": null,
            "right": null,
            "top": null,
            "visibility": null,
            "width": null
          }
        },
        "e6a0d7bcfa4b455f9f4653975e055154": {
          "model_module": "@jupyter-widgets/output",
          "model_name": "OutputModel",
          "model_module_version": "1.0.0",
          "state": {
            "_dom_classes": [],
            "_model_module": "@jupyter-widgets/output",
            "_model_module_version": "1.0.0",
            "_model_name": "OutputModel",
            "_view_count": null,
            "_view_module": "@jupyter-widgets/output",
            "_view_module_version": "1.0.0",
            "_view_name": "OutputView",
            "layout": "IPY_MODEL_7c144671b0944198ac415130b1134c11",
            "msg_id": "",
            "outputs": []
          }
        },
        "750472eefbce41d29a738a37974a651e": {
          "model_module": "@jupyter-widgets/base",
          "model_name": "LayoutModel",
          "model_module_version": "1.2.0",
          "state": {
            "_model_module": "@jupyter-widgets/base",
            "_model_module_version": "1.2.0",
            "_model_name": "LayoutModel",
            "_view_count": null,
            "_view_module": "@jupyter-widgets/base",
            "_view_module_version": "1.2.0",
            "_view_name": "LayoutView",
            "align_content": null,
            "align_items": null,
            "align_self": null,
            "border": null,
            "bottom": null,
            "display": null,
            "flex": null,
            "flex_flow": null,
            "grid_area": null,
            "grid_auto_columns": null,
            "grid_auto_flow": null,
            "grid_auto_rows": null,
            "grid_column": null,
            "grid_gap": null,
            "grid_row": null,
            "grid_template_areas": null,
            "grid_template_columns": null,
            "grid_template_rows": null,
            "height": null,
            "justify_content": null,
            "justify_items": null,
            "left": null,
            "margin": null,
            "max_height": null,
            "max_width": null,
            "min_height": null,
            "min_width": null,
            "object_fit": null,
            "object_position": null,
            "order": null,
            "overflow": null,
            "overflow_x": null,
            "overflow_y": null,
            "padding": null,
            "right": null,
            "top": null,
            "visibility": null,
            "width": null
          }
        },
        "e79f8780dcbd44ea86cfdb83906a6299": {
          "model_module": "@jupyter-widgets/base",
          "model_name": "LayoutModel",
          "model_module_version": "1.2.0",
          "state": {
            "_model_module": "@jupyter-widgets/base",
            "_model_module_version": "1.2.0",
            "_model_name": "LayoutModel",
            "_view_count": null,
            "_view_module": "@jupyter-widgets/base",
            "_view_module_version": "1.2.0",
            "_view_name": "LayoutView",
            "align_content": null,
            "align_items": null,
            "align_self": null,
            "border": null,
            "bottom": null,
            "display": null,
            "flex": null,
            "flex_flow": null,
            "grid_area": null,
            "grid_auto_columns": null,
            "grid_auto_flow": null,
            "grid_auto_rows": null,
            "grid_column": null,
            "grid_gap": null,
            "grid_row": null,
            "grid_template_areas": null,
            "grid_template_columns": null,
            "grid_template_rows": null,
            "height": null,
            "justify_content": null,
            "justify_items": null,
            "left": null,
            "margin": null,
            "max_height": null,
            "max_width": null,
            "min_height": null,
            "min_width": null,
            "object_fit": null,
            "object_position": null,
            "order": null,
            "overflow": null,
            "overflow_x": null,
            "overflow_y": null,
            "padding": null,
            "right": null,
            "top": null,
            "visibility": null,
            "width": null
          }
        },
        "4c2545c971604cf78147921bc156cfc0": {
          "model_module": "jupyter-matplotlib",
          "model_name": "ToolbarModel",
          "model_module_version": "^0.11",
          "state": {
            "_current_action": "pan",
            "_dom_classes": [],
            "_model_module": "jupyter-matplotlib",
            "_model_module_version": "^0.11",
            "_model_name": "ToolbarModel",
            "_view_count": null,
            "_view_module": "jupyter-matplotlib",
            "_view_module_version": "^0.11",
            "_view_name": "ToolbarView",
            "button_style": "",
            "collapsed": true,
            "layout": "IPY_MODEL_e79f8780dcbd44ea86cfdb83906a6299",
            "orientation": "vertical",
            "toolitems": [
              [
                "Home",
                "Reset original view",
                "home",
                "home"
              ],
              [
                "Back",
                "Back to previous view",
                "arrow-left",
                "back"
              ],
              [
                "Forward",
                "Forward to next view",
                "arrow-right",
                "forward"
              ],
              [
                "Pan",
                "Left button pans, Right button zooms\nx/y fixes axis, CTRL fixes aspect",
                "arrows",
                "pan"
              ],
              [
                "Zoom",
                "Zoom to rectangle\nx/y fixes axis",
                "square-o",
                "zoom"
              ],
              [
                "Download",
                "Download plot",
                "floppy-o",
                "save_figure"
              ]
            ]
          }
        },
        "864937a0270c49778d26520f779522de": {
          "model_module": "jupyter-matplotlib",
          "model_name": "MPLCanvasModel",
          "model_module_version": "^0.11",
          "state": {
            "_cursor": "default",
            "_data_url": "data:image/png;base64,iVBORw0KGgoAAAANSUhEUgAAAoAAAAHgCAYAAAA10dzkAAAAOXRFWHRTb2Z0d2FyZQBNYXRwbG90bGliIHZlcnNpb24zLjcuMSwgaHR0cHM6Ly9tYXRwbG90bGliLm9yZy/bCgiHAAAACXBIWXMAAA9hAAAPYQGoP6dpAAAel0lEQVR4nO3cf4zX9X3A8dcBdydt777sQO7HOChg1U2EZYpXZsvouHDQjIrigtYl2BibusMMr1ZHo1Kdy2Xuj5puzP6zydyKpaaK0200DsuxZkAjDSE2k8iFDgwcThbu4Bgn4z77g/SSG6B+r/f9fuTej0fySbjv9/Pi++qn3+Azn/veVWRZlgUAAMkYl/cCAACUlwAEAEiMAAQASIwABABIjAAEAEiMAAQASIwABABIjAAEAEiMAAQASIwABABIjAAEAEiMAAQASIwABABIjAAEAEiMAAQASIwABABIjAAEAEiMAAQASIwABABIjAAEAEiMAAQASIwABABIjAAEAEiMAAQASIwABABIjAAEAEiMAAQASIwABABIjAAEAEiMAAQASIwABABIjAAEAEiMAAQASIwABABIjAAEAEiMAAQASIwABABIjAAEAEiMAAQASIwABABIjAAEAEiMAAQASIwABABIjAAEAEiMAAQASIwABABIjAAEAEiMAAQASIwABABIjAAEAEiMAAQASIwABABIjAAEAEiMAAQASIwABABIjAAEAEjMhLwX4PI0ODgYR44ciZqamqioqMh7HQCKlGVZnDx5MpqammLcOPeDUiMAGZEjR45Ec3Nz3msA8Cs6fPhwTJs2Le81KDPJz4jU1NTkvQIAo8C/52kSgInbsGFDfPrTn44rrrgiWlpa4qc//elHmvNtX4Cxwb/naRKACdu8eXN0dHTE+vXr42c/+1nMmzcv2tra4t133817NQCghCqyLMvyXoJ8tLS0xPz58+Ov/uqvIuL8D3Y0NzfH/fffH3/yJ3/ygbN9fX1RKBTKsSYAJdTb2xu1tbV5r0GZuQOYqPfffz/27NkTra2tQ4+NGzcuWltbY+fOnRecPzAwEH19fcMOAODyJAAT9d5778W5c+eivr5+2OP19fXR09NzwfmdnZ1RKBSGDj8BDACXLwHIR7Ju3bro7e0dOg4fPpz3SgDACPk9gImaMmVKjB8/Po4dOzbs8WPHjkVDQ8MF51dXV0d1dXW51gMASsgdwERVVVXFDTfcENu2bRt6bHBwMLZt2xYLFizIcTMAoNTcAUxYR0dHrF69Om688ca46aab4umnn47+/v74yle+kvdqAEAJCcCErVq1Kv7rv/4rHnvssejp6Ynf+q3fiq1bt17wgyEAwNji9wAyIn4PIMDY4PcApslnAAEAEiMAAQASIwABABIjAAEAEiMAAQASIwABABIjAAEAEiMAAQASIwABABIjAAEAEiMAAQASIwABABIjAAEAEiMAAQASIwABABIjAAEAEiMAAQASIwABABIjAAEAEiMAAQASIwABABIjAAEAEiMAAQASIwABABIjAAEAEiMAAQASMyHvBYCx4cEHHyx6ZuLEiSN6rblz5xY9c/vtt4/otYr1zDPPFD2zc+fOEb3W3//9349oDsAdQACAxAhAAIDECEAAgMQIQACAxAhAAIDECEAAgMQIQACAxAhAAIDECEAAgMQIQACAxAhAAIDECEAAgMRUZFmW5b0El5++vr4oFAp5r0GJbN68ueiZ22+/vQSbpKG7u3tEc62trUXPHDp0aESvxdjV29sbtbW1ea9BmbkDCACQGAEIAJAYAQgAkBgBCACQGAEIAJAYAQgAkBgBCACQGAEIAJAYAQgAkBgBCACQGAEIAJAYAQgAkJgJeS8AlNbmzZuLnrn99ttLsMnoeeutt4qe+dGPflT0zKxZs4qeWb58edEzs2fPLnomIuKuu+4qeqazs3NErwWMLe4AAgAkRgACACRGACbqW9/6VlRUVAw7rr322rzXAgDKwGcAE3bdddfFv/7rvw59PWGCtwMApMB/8RM2YcKEaGhoyHsNAKDMfAs4YW+//XY0NTXFrFmz4q677opDhw5d8tyBgYHo6+sbdgAAlycBmKiWlpbYuHFjbN26NZ555pk4ePBgfP7zn4+TJ09e9PzOzs4oFApDR3Nzc5k3BgBGiwBM1LJly+IP/uAPYu7cudHW1hb//M//HCdOnIgf/OAHFz1/3bp10dvbO3QcPny4zBsDAKPFZwCJiIhJkybF1VdfHQcOHLjo89XV1VFdXV3mrQCAUnAHkIiIOHXqVHR3d0djY2PeqwAAJSYAE/Xggw9GV1dX/OIXv4h///d/j1tvvTXGjx8fd955Z96rAQAl5lvAiXrnnXfizjvvjOPHj8eVV14Zn/vc52LXrl1x5ZVX5r0aAFBiAjBR3//+9/NegSLdeOONI5q79dZbR3mTi/v5z39e9MyXvvSlEb3We++9V/TMqVOnip6pqqoqembXrl1Fz8ybN6/omYiIyZMnj2gOwLeAAQASIwABABIjAAEAEiMAAQASIwABABIjAAEAEiMAAQASIwABABIjAAEAEiMAAQASIwABABIjAAEAEjMh7wWAj6axsXFEcxUVFUXP/PznPy96pq2treiZo0ePFj1TTl//+teLnvnN3/zNEmxycf/0T/9UttcCxhZ3AAEAEiMAAQASIwABABIjAAEAEiMAAQASIwABABIjAAEAEiMAAQASIwABABIjAAEAEiMAAQASIwABABIjAAEAEjMh7wWAj+aVV14Z0dxVV11V9MzJkyeLnvnv//7vomc+7u64446iZyorK0uwCcDocgcQACAxAhAAIDECEAAgMQIQACAxAhAAIDECEAAgMQIQACAxAhAAIDECEAAgMQIQACAxAhAAIDECEAAgMRPyXgAorf/8z//Me4WPhW984xtFz1x99dUl2ORCu3fvLuscgDuAAACJEYAAAIkRgAAAiRGAAACJEYAAAIkRgAAAiRGAAACJEYAAAIkRgAAAiRGAAACJEYAAAIkRgAAAiZmQ9wIAxfr93//9omeeeOKJomeqqqqKnnn33XeLnlm3bl3RMxERp0+fHtEcgDuAAACJEYAAAIkRgGPQjh07Yvny5dHU1BQVFRWxZcuWYc9nWRaPPfZYNDY2xsSJE6O1tTXefvvtfJYFAMpOAI5B/f39MW/evNiwYcNFn3/qqafiO9/5Tnz3u9+N3bt3xyc/+cloa2uLM2fOlHlTACAPfghkDFq2bFksW7bsos9lWRZPP/10PPLII3HLLbdERMRzzz0X9fX1sWXLlrjjjjvKuSoAkAN3ABNz8ODB6OnpidbW1qHHCoVCtLS0xM6dOy85NzAwEH19fcMOAODyJAAT09PTExER9fX1wx6vr68feu5iOjs7o1AoDB3Nzc0l3RMAKB0ByEeybt266O3tHToOHz6c90oAwAgJwMQ0NDRERMSxY8eGPX7s2LGh5y6muro6amtrhx0AwOVJACZm5syZ0dDQENu2bRt6rK+vL3bv3h0LFizIcTMAoFz8FPAYdOrUqThw4MDQ1wcPHoy9e/dGXV1dTJ8+PdauXRtPPvlkfOYzn4mZM2fGo48+Gk1NTbFixYr8lgYAykYAjkFvvPFGfOELXxj6uqOjIyIiVq9eHRs3boyHHnoo+vv746tf/WqcOHEiPve5z8XWrVvjiiuuyGtlAKCMBOAYtGjRosiy7JLPV1RUxBNPPBFPPPFEGbeC0XPjjTcWPVNVVVWCTS60efPmome6urpKsAnApfkMIABAYgQgAEBiBCAAQGIEIABAYgQgAEBiBCAAQGIEIABAYgQgAEBiBCAAQGIEIABAYgQgAEBiBCAAQGIEIABAYibkvQCQri1btoxobsmSJaO7yCU899xzRc888sgjJdgEYHS5AwgAkBgBCACQGAEIAJAYAQgAkBgBCACQGAEIAJAYAQgAkBgBCACQGAEIAJAYAQgAkBgBCACQGAEIAJCYCXkvAIwNjY2NRc/8zu/8zoheq7q6uuiZ9957r+iZJ598suiZU6dOFT0DUG7uAAIAJEYAAgAkRgACACRGAAIAJEYAAgAkRgACACRGAAIAJEYAAgAkRgACACRGAAIAJEYAAgAkRgACACRmQt4LAGPDD3/4w6JnJk+eXIJNLu4f/uEfip7p7u4uwSYA+XMHEAAgMQIQACAxAhAAIDECEAAgMQIQACAxAhAAIDECEAAgMQIQACAxAhAAIDECEAAgMQIQACAxAhAAIDET8l4A+Pj50pe+VPTMb//2b5dgk4vbvn170TPr168f/UUALlPuAAIAJEYAAgAkRgCOQTt27Ijly5dHU1NTVFRUxJYtW4Y9f/fdd0dFRcWwY+nSpfksCwCUnQAcg/r7+2PevHmxYcOGS56zdOnSOHr06NDx/PPPl3FDACBPfghkDFq2bFksW7bsA8+prq6OhoaGMm0EAHycuAOYqO3bt8fUqVPjmmuuifvuuy+OHz/+gecPDAxEX1/fsAMAuDwJwAQtXbo0nnvuudi2bVv8+Z//eXR1dcWyZcvi3Llzl5zp7OyMQqEwdDQ3N5dxYwBgNPkWcILuuOOOoT9ff/31MXfu3Jg9e3Zs3749Fi9efNGZdevWRUdHx9DXfX19IhAALlPuABKzZs2KKVOmxIEDBy55TnV1ddTW1g47AIDLkwAk3nnnnTh+/Hg0NjbmvQoAUAa+BTwGnTp1atjdvIMHD8bevXujrq4u6urq4vHHH4+VK1dGQ0NDdHd3x0MPPRRXXXVVtLW15bg1AFAuAnAMeuONN+ILX/jC0Ne//Oze6tWr45lnnol9+/bF3/3d38WJEyeiqakplixZEn/6p38a1dXVea0MAJSRAByDFi1aFFmWXfL5H/3oR2XchrxNnjy56JlvfvObRc9UVlYWPTNSe/fuLXrm1KlTo78IwGXKZwABABIjAAEAEiMAAQASIwABABIjAAEAEiMAAQASIwABABIjAAEAEiMAAQASIwABABIjAAEAEiMAAQASIwABABIzIe8FgNL6+te/XvTM/PnzS7DJhbZs2TKiufXr14/uIgCJcQcQACAxAhAAIDECEAAgMQIQACAxAhAAIDECEAAgMQIQACAxAhAAIDECEAAgMQIQACAxAhAAIDECEAAgMRVZlmV5L8Hlp6+vLwqFQt5r8BGcOXOm6JnKysoSbHKhadOmjWju6NGjo7wJpKu3tzdqa2vzXoMycwcQACAxAhAAIDECEAAgMQIQACAxAhAAIDECEAAgMQIQACAxAhAAIDECEAAgMQIQACAxAhAAIDECEAAgMRPyXgBIV11d3Yjmzp49O8qb5Ku3t3dEcyO5DpWVlUXPFAqFomdGYtKkSSOa6+joGN1FRtG5c+dGNPfwww8XPXP69OkRvRZpcgcQACAxAhAAIDECEAAgMQIQACAxAhAAIDECEAAgMQIQACAxAhAAIDECEAAgMQIQACAxAhAAIDECEAAgMRPyXgBI1759+/Je4WPhhRdeGNHc0aNHi56pr68vembVqlVFz/Cr6enpKXrmz/7sz0qwCWOVO4AAAIkRgAAAiRGAY1BnZ2fMnz8/ampqYurUqbFixYrYv3//sHPOnDkT7e3tMXny5PjUpz4VK1eujGPHjuW0MQBQTgJwDOrq6or29vbYtWtXvPbaa3H27NlYsmRJ9Pf3D53zwAMPxCuvvBIvvPBCdHV1xZEjR+K2227LcWsAoFz8EMgYtHXr1mFfb9y4MaZOnRp79uyJhQsXRm9vb/zN3/xNbNq0KX7v934vIiKeffbZ+I3f+I3YtWtXfPazn81jbQCgTNwBTEBvb29ERNTV1UVExJ49e+Ls2bPR2to6dM61114b06dPj507d1707xgYGIi+vr5hBwBweRKAY9zg4GCsXbs2br755pgzZ05EnP/1AlVVVTFp0qRh59bX11/yVw90dnZGoVAYOpqbm0u9OgBQIgJwjGtvb48333wzvv/97/9Kf8+6deuit7d36Dh8+PAobQgAlJvPAI5ha9asiVdffTV27NgR06ZNG3q8oaEh3n///Thx4sSwu4DHjh2LhoaGi/5d1dXVUV1dXeqVAYAycAdwDMqyLNasWRMvvfRSvP766zFz5sxhz99www1RWVkZ27ZtG3ps//79cejQoViwYEG51wUAyswdwDGovb09Nm3aFC+//HLU1NQMfa6vUCjExIkTo1AoxD333BMdHR1RV1cXtbW1cf/998eCBQv8BDAAJEAAjkHPPPNMREQsWrRo2OPPPvts3H333RER8e1vfzvGjRsXK1eujIGBgWhra4u//uu/LvOmAEAeKrIsy/JegstPX19fFAqFvNfgI3jxxReLnrnllltKsAkp+d///d+iZwYHB0uwycX94z/+Y9Ezb7zxRgk2ubh/+7d/K3pm165dI3qt3t7eqK2tHdEsly+fAQQASIwABABIjAAEAEiMAAQASIwABABIjAAEAEiMAAQASIwABABIjAAEAEiMAAQASIwABABIjAAEAEiMAAQASExFlmVZ3ktw+enr64tCoZD3GpTIQw89VPRMZWVlCTYZPdddd13RM6tWrSrBJqPnb//2b4ue+cUvfjH6i1zED3/4w6Jn3nrrrRJswofp7e2N2travNegzNwBBABIjAAEAEiMAAQASIwABABIjAAEAEiMAAQASIwABABIjAAEAEiMAAQASIwABABIjAAEAEiMAAQASExFlmVZ3ktw+enr64tCoZD3GgD8inp7e6O2tjbvNSgzdwABABIjAAEAEiMAAQASIwABABIjAAEAEiMAAQASIwABABIjAAEAEiMAAQASIwABABIjAAEAEiMAAQASIwABABIjAAEAEiMAAQASIwABABIjAAEAEiMAAQASIwABABIjAAEAEiMAAQASIwABABIjAAEAEiMAAQASIwABABIjAAEAEiMAAQASIwABABIjAMegzs7OmD9/ftTU1MTUqVNjxYoVsX///mHnLFq0KCoqKoYdX/va13LaGAAoJwE4BnV1dUV7e3vs2rUrXnvttTh79mwsWbIk+vv7h5137733xtGjR4eOp556KqeNAYBympD3Aoy+rVu3Dvt648aNMXXq1NizZ08sXLhw6PFPfOIT0dDQUO71AICcuQOYgN7e3oiIqKurG/b49773vZgyZUrMmTMn1q1bF6dPn77k3zEwMBB9fX3DDgDg8uQO4Bg3ODgYa9eujZtvvjnmzJkz9PiXv/zlmDFjRjQ1NcW+ffvi4Ycfjv3798eLL7540b+ns7MzHn/88XKtDQCUUEWWZVneS1A69913X/zLv/xL/OQnP4lp06Zd8rzXX389Fi9eHAcOHIjZs2df8PzAwEAMDAwMfd3X1xfNzc0l2RmA8unt7Y3a2tq816DM3AEcw9asWROvvvpq7Nix4wPjLyKipaUlIuKSAVhdXR3V1dUl2RMAKC8BOAZlWRb3339/vPTSS7F9+/aYOXPmh87s3bs3IiIaGxtLvB0AkDcBOAa1t7fHpk2b4uWXX46ampro6emJiIhCoRATJ06M7u7u2LRpU3zxi1+MyZMnx759++KBBx6IhQsXxty5c3PeHgAoNZ8BHIMqKiou+vizzz4bd999dxw+fDj+8A//MN58883o7++P5ubmuPXWW+ORRx75yJ8D6evri0KhMJprA5ADnwFMkwBkRAQgwNggANPk9wACACRGAAIAJEYAAgAkRgACACRGAAIAJEYAAgAkRgACACRGAAIAJEYAAgAkRgACACRGAAIAJEYAAgAkRgACACRGAAIAJEYAAgAkRgACACRGAAIAJEYAAgAkRgACACRGAAIAJEYAAgAkRgACACRGAAIAJEYAAgAkRgACACRGADIiWZblvQIAo8C/52kSgIzIyZMn814BgFHg3/M0VWTSnxEYHByMI0eORE1NTVRUVAx7rq+vL5qbm+Pw4cNRW1ub04b5cx3Ocx3Ocx3Ocx3O+zhchyzL4uTJk9HU1BTjxrkflJoJeS/A5WncuHExbdq0DzyntrY26X/gf8l1OM91OM91OM91OC/v61AoFHJ7bfIl+QEAEiMAAQASIwAZddXV1bF+/fqorq7Oe5VcuQ7nuQ7nuQ7nuQ7nuQ7kzQ+BAAAkxh1AAIDECEAAgMQIQACAxAhAAIDECEBG1YYNG+LTn/50XHHFFdHS0hI//elP816prL71rW9FRUXFsOPaa6/Ne62y2LFjRyxfvjyampqioqIitmzZMuz5LMvisccei8bGxpg4cWK0trbG22+/nc+yJfRh1+Huu+++4D2ydOnSfJYtkc7Ozpg/f37U1NTE1KlTY8WKFbF///5h55w5cyba29tj8uTJ8alPfSpWrlwZx44dy2nj0vgo12HRokUXvB++9rWv5bQxKRGAjJrNmzdHR0dHrF+/Pn72s5/FvHnzoq2tLd599928Vyur6667Lo4ePTp0/OQnP8l7pbLo7++PefPmxYYNGy76/FNPPRXf+c534rvf/W7s3r07PvnJT0ZbW1ucOXOmzJuW1oddh4iIpUuXDnuPPP/882XcsPS6urqivb09du3aFa+99lqcPXs2lixZEv39/UPnPPDAA/HKK6/ECy+8EF1dXXHkyJG47bbbctx69H2U6xARce+99w57Pzz11FM5bUxSMhglN910U9be3j709blz57Kmpqass7Mzx63Ka/369dm8efPyXiN3EZG99NJLQ18PDg5mDQ0N2V/8xV8MPXbixImsuro6e/7553PYsDz+/3XIsixbvXp1dsstt+SyT17efffdLCKyrq6uLMvO/39fWVmZvfDCC0Pn/Md//EcWEdnOnTvzWrPk/v91yLIs+93f/d3sj//4j/NbimS5A8ioeP/992PPnj3R2to69Ni4ceOitbU1du7cmeNm5ff2229HU1NTzJo1K+666644dOhQ3ivl7uDBg9HT0zPs/VEoFKKlpSW590dExPbt22Pq1KlxzTXXxH333RfHjx/Pe6WS6u3tjYiIurq6iIjYs2dPnD17dtj74dprr43p06eP6ffD/78Ov/S9730vpkyZEnPmzIl169bF6dOn81iPxEzIewHGhvfeey/OnTsX9fX1wx6vr6+Pt956K6etyq+lpSU2btwY11xzTRw9ejQef/zx+PznPx9vvvlm1NTU5L1ebnp6eiIiLvr++OVzqVi6dGncdtttMXPmzOju7o5vfvObsWzZsti5c2eMHz8+7/VG3eDgYKxduzZuvvnmmDNnTkScfz9UVVXFpEmThp07lt8PF7sOERFf/vKXY8aMGdHU1BT79u2Lhx9+OPbv3x8vvvhijtuSAgEIo2jZsmVDf547d260tLTEjBkz4gc/+EHcc889OW7Gx8Udd9wx9Ofrr78+5s6dG7Nnz47t27fH4sWLc9ysNNrb2+PNN99M5rOwl3Kp6/DVr3516M/XX399NDY2xuLFi6O7uztmz55d7jVJiG8BMyqmTJkS48ePv+Cn+I4dOxYNDQ05bZW/SZMmxdVXXx0HDhzIe5Vc/fI94P1xoVmzZsWUKVPG5HtkzZo18eqrr8aPf/zjmDZt2tDjDQ0N8f7778eJEyeGnT9W3w+Xug4X09LSEhExJt8PfLwIQEZFVVVV3HDDDbFt27ahxwYHB2Pbtm2xYMGCHDfL16lTp6K7uzsaGxvzXiVXM2fOjIaGhmHvj76+vti9e3fS74+IiHfeeSeOHz8+pt4jWZbFmjVr4qWXXorXX389Zs6cOez5G264ISorK4e9H/bv3x+HDh0aU++HD7sOF7N3796IiDH1fuDjybeAGTUdHR2xevXquPHGG+Omm26Kp59+Ovr7++MrX/lK3quVzYMPPhjLly+PGTNmxJEjR2L9+vUxfvz4uPPOO/NereROnTo17K7FwYMHY+/evVFXVxfTp0+PtWvXxpNPPhmf+cxnYubMmfHoo49GU1NTrFixIr+lS+CDrkNdXV08/vjjsXLlymhoaIju7u546KGH4qqrroq2trYctx5d7e3tsWnTpnj55ZejpqZm6HN9hUIhJk6cGIVCIe65557o6OiIurq6qK2tjfvvvz8WLFgQn/3sZ3PefvR82HXo7u6OTZs2xRe/+MWYPHly7Nu3Lx544IFYuHBhzJ07N+ftGfPy/jFkxpa//Mu/zKZPn55VVVVlN910U7Zr1668VyqrVatWZY2NjVlVVVX267/+69mqVauyAwcO5L1WWfz4xz/OIuKCY/Xq1VmWnf9VMI8++mhWX1+fVVdXZ4sXL87279+f79Il8EHX4fTp09mSJUuyK6+8MqusrMxmzJiR3XvvvVlPT0/ea4+qi/3vj4js2WefHTrnf/7nf7I/+qM/yn7t134t+8QnPpHdeuut2dGjR/NbugQ+7DocOnQoW7hwYVZXV5dVV1dnV111VfaNb3wj6+3tzXdxklCRZVlWzuAEACBfPgMIAJAYAQgAkBgBCACQGAEIAJAYAQgAkBgBCACQGAEIAJAYAQgAkBgBCACQGAEIAJAYAQgAkBgBCACQGAEIAJAYAQgAkBgBCACQGAEIAJAYAQgAkBgBCACQGAEIAJAYAQgAkBgBCACQGAEIAJAYAQgAkBgBCACQGAEIAJAYAQgAkBgBCACQGAEIAJAYAQgAkBgBCACQGAEIAJCY/wOfXNlT5il5kgAAAABJRU5ErkJggg==",
            "_dom_classes": [],
            "_figure_label": "Figure 1",
            "_image_mode": "diff",
            "_message": "",
            "_model_module": "jupyter-matplotlib",
            "_model_module_version": "^0.11",
            "_model_name": "MPLCanvasModel",
            "_rubberband_height": 0,
            "_rubberband_width": 0,
            "_rubberband_x": 0,
            "_rubberband_y": 0,
            "_size": [
              501,
              426
            ],
            "_view_count": null,
            "_view_module": "jupyter-matplotlib",
            "_view_module_version": "^0.11",
            "_view_name": "MPLCanvasView",
            "capture_scroll": false,
            "footer_visible": true,
            "header_visible": true,
            "layout": "IPY_MODEL_750472eefbce41d29a738a37974a651e",
            "pan_zoom_throttle": 33,
            "resizable": true,
            "toolbar": "IPY_MODEL_4c2545c971604cf78147921bc156cfc0",
            "toolbar_position": "left",
            "toolbar_visible": "fade-in-fade-out"
          }
        }
      }
    }
  },
  "nbformat": 4,
  "nbformat_minor": 0
}