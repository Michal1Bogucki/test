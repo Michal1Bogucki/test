{
  "cells": [
    {
      "cell_type": "markdown",
      "metadata": {
        "id": "view-in-github",
        "colab_type": "text"
      },
      "source": [
        "<a href=\"https://colab.research.google.com/github/Michal1Bogucki/test/blob/master/Untitled0.ipynb\" target=\"_parent\"><img src=\"https://colab.research.google.com/assets/colab-badge.svg\" alt=\"Open In Colab\"/></a>"
      ]
    },
    {
      "cell_type": "code",
      "execution_count": null,
      "metadata": {
        "id": "I1fNAryjUy_a"
      },
      "outputs": [],
      "source": [
        "!sudo DEBIAN_FRONTEND=noninteractive apt-get install keyboard-configuration\n",
        "!sudo apt update\n",
        "!sudo apt purge *nvidia* -y\n",
        "!sudo apt install nvidia-driver-530 -y"
      ]
    },
    {
      "cell_type": "code",
      "source": [
        "!clinfo"
      ],
      "metadata": {
        "id": "X9XDvQ_Gc2cS"
      },
      "execution_count": null,
      "outputs": []
    },
    {
      "cell_type": "code",
      "execution_count": 1,
      "metadata": {
        "colab": {
          "base_uri": "https://localhost:8080/"
        },
        "id": "fkkEAAp4Bn8i",
        "outputId": "82779d2a-5750-48d9-d2ae-8f1226bb0ed5"
      },
      "outputs": [
        {
          "output_type": "stream",
          "name": "stdout",
          "text": [
            "\u001b[33mhint: Using 'master' as the name for the initial branch. This default branch name\u001b[m\n",
            "\u001b[33mhint: is subject to change. To configure the initial branch name to use in all\u001b[m\n",
            "\u001b[33mhint: of your new repositories, which will suppress this warning, call:\u001b[m\n",
            "\u001b[33mhint: \u001b[m\n",
            "\u001b[33mhint: \tgit config --global init.defaultBranch <name>\u001b[m\n",
            "\u001b[33mhint: \u001b[m\n",
            "\u001b[33mhint: Names commonly chosen instead of 'master' are 'main', 'trunk' and\u001b[m\n",
            "\u001b[33mhint: 'development'. The just-created branch can be renamed via this command:\u001b[m\n",
            "\u001b[33mhint: \u001b[m\n",
            "\u001b[33mhint: \tgit branch -m <name>\u001b[m\n",
            "Initialized empty Git repository in /content/.git/\n",
            "remote: Enumerating objects: 16081, done.\u001b[K\n",
            "remote: Counting objects: 100% (2404/2404), done.\u001b[K\n",
            "remote: Compressing objects: 100% (399/399), done.\u001b[K\n",
            "remote: Total 16081 (delta 2200), reused 2035 (delta 2001), pack-reused 13677\u001b[K\n",
            "Receiving objects: 100% (16081/16081), 18.91 MiB | 28.47 MiB/s, done.\n",
            "Resolving deltas: 100% (11419/11419), done.\n",
            "From https://github.com/geohot/tinygrad\n",
            " * [new branch]      cleanup_mlperf -> origin/cleanup_mlperf\n",
            " * [new branch]      dcgan          -> origin/dcgan\n",
            " * [new branch]      fast_triton    -> origin/fast_triton\n",
            " * [new branch]      master         -> origin/master\n",
            " * [new branch]      metalopt       -> origin/metalopt\n",
            " * [new branch]      more_uops_test -> origin/more_uops_test\n",
            " * [new branch]      nevergrad      -> origin/nevergrad\n",
            " * [new branch]      new_triton     -> origin/new_triton\n",
            " * [new branch]      run_commavq    -> origin/run_commavq\n",
            " * [new branch]      simple_bitcast -> origin/simple_bitcast\n",
            " * [new branch]      tensor_cores   -> origin/tensor_cores\n",
            " * [new branch]      uopsif         -> origin/uopsif\n",
            " * [new tag]         v0.4.0         -> v0.4.0\n",
            " * [new tag]         v0.5.0         -> v0.5.0\n",
            " * [new tag]         v0.6.0         -> v0.6.0\n",
            "Branch 'master' set up to track remote branch 'master' from 'origin'.\n",
            "Already on 'master'\n"
          ]
        }
      ],
      "source": [
        "\n",
        "!git init\n",
        "!git remote add origin https://github.com/geohot/tinygrad.git\n",
        "!git fetch origin\n",
        "!git checkout -b master --track origin/master\n",
        "!git reset origin/master\n"
      ]
    },
    {
      "cell_type": "code",
      "execution_count": 2,
      "metadata": {
        "colab": {
          "base_uri": "https://localhost:8080/"
        },
        "id": "6k8extjLPnNq",
        "outputId": "5cf790d9-0b7e-4bfc-dd04-3dc19a2b3708"
      },
      "outputs": [
        {
          "output_type": "stream",
          "name": "stdout",
          "text": [
            "Obtaining file:///content\n",
            "  Preparing metadata (setup.py) ... \u001b[?25l\u001b[?25hdone\n",
            "Requirement already satisfied: numpy in /usr/local/lib/python3.10/dist-packages (from tinygrad==0.6.0) (1.23.5)\n",
            "Requirement already satisfied: requests in /usr/local/lib/python3.10/dist-packages (from tinygrad==0.6.0) (2.31.0)\n",
            "Requirement already satisfied: pillow in /usr/local/lib/python3.10/dist-packages (from tinygrad==0.6.0) (9.4.0)\n",
            "Requirement already satisfied: tqdm in /usr/local/lib/python3.10/dist-packages (from tinygrad==0.6.0) (4.66.0)\n",
            "Requirement already satisfied: networkx in /usr/local/lib/python3.10/dist-packages (from tinygrad==0.6.0) (3.1)\n",
            "Collecting pyopencl (from tinygrad==0.6.0)\n",
            "  Downloading pyopencl-2023.1.1-cp310-cp310-manylinux_2_17_x86_64.manylinux2014_x86_64.whl (919 kB)\n",
            "\u001b[2K     \u001b[90m━━━━━━━━━━━━━━━━━━━━━━━━━━━━━━━━━━━━━━━\u001b[0m \u001b[32m919.2/919.2 kB\u001b[0m \u001b[31m5.5 MB/s\u001b[0m eta \u001b[36m0:00:00\u001b[0m\n",
            "\u001b[?25hRequirement already satisfied: PyYAML in /usr/local/lib/python3.10/dist-packages (from tinygrad==0.6.0) (6.0.1)\n",
            "Collecting pytools>=2021.2.7 (from pyopencl->tinygrad==0.6.0)\n",
            "  Downloading pytools-2023.1.1-py2.py3-none-any.whl (70 kB)\n",
            "\u001b[2K     \u001b[90m━━━━━━━━━━━━━━━━━━━━━━━━━━━━━━━━━━━━━━━━\u001b[0m \u001b[32m70.6/70.6 kB\u001b[0m \u001b[31m6.7 MB/s\u001b[0m eta \u001b[36m0:00:00\u001b[0m\n",
            "\u001b[?25hRequirement already satisfied: platformdirs>=2.2.0 in /usr/local/lib/python3.10/dist-packages (from pyopencl->tinygrad==0.6.0) (3.10.0)\n",
            "Requirement already satisfied: charset-normalizer<4,>=2 in /usr/local/lib/python3.10/dist-packages (from requests->tinygrad==0.6.0) (3.2.0)\n",
            "Requirement already satisfied: idna<4,>=2.5 in /usr/local/lib/python3.10/dist-packages (from requests->tinygrad==0.6.0) (3.4)\n",
            "Requirement already satisfied: urllib3<3,>=1.21.1 in /usr/local/lib/python3.10/dist-packages (from requests->tinygrad==0.6.0) (2.0.4)\n",
            "Requirement already satisfied: certifi>=2017.4.17 in /usr/local/lib/python3.10/dist-packages (from requests->tinygrad==0.6.0) (2023.7.22)\n",
            "Requirement already satisfied: typing-extensions>=4.0 in /usr/local/lib/python3.10/dist-packages (from pytools>=2021.2.7->pyopencl->tinygrad==0.6.0) (4.7.1)\n",
            "Installing collected packages: pytools, pyopencl, tinygrad\n",
            "  Running setup.py develop for tinygrad\n",
            "Successfully installed pyopencl-2023.1.1 pytools-2023.1.1 tinygrad-0.6.0\n"
          ]
        }
      ],
      "source": [
        "%pip install -e ."
      ]
    },
    {
      "cell_type": "code",
      "execution_count": 3,
      "metadata": {
        "colab": {
          "base_uri": "https://localhost:8080/"
        },
        "id": "zuCR9hdTPf0_",
        "outputId": "471b45f2-8473-4fb5-e72a-ac4874afe5fb"
      },
      "outputs": [
        {
          "output_type": "stream",
          "name": "stdout",
          "text": [
            "Collecting pycuda\n",
            "  Downloading pycuda-2022.2.2.tar.gz (1.7 MB)\n",
            "\u001b[2K     \u001b[90m━━━━━━━━━━━━━━━━━━━━━━━━━━━━━━━━━━━━━━━━\u001b[0m \u001b[32m1.7/1.7 MB\u001b[0m \u001b[31m10.9 MB/s\u001b[0m eta \u001b[36m0:00:00\u001b[0m\n",
            "\u001b[?25h  Installing build dependencies ... \u001b[?25l\u001b[?25hdone\n",
            "  Getting requirements to build wheel ... \u001b[?25l\u001b[?25hdone\n",
            "  Preparing metadata (pyproject.toml) ... \u001b[?25l\u001b[?25hdone\n",
            "Requirement already satisfied: pytools>=2011.2 in /usr/local/lib/python3.10/dist-packages (from pycuda) (2023.1.1)\n",
            "Requirement already satisfied: appdirs>=1.4.0 in /usr/local/lib/python3.10/dist-packages (from pycuda) (1.4.4)\n",
            "Collecting mako (from pycuda)\n",
            "  Downloading Mako-1.2.4-py3-none-any.whl (78 kB)\n",
            "\u001b[2K     \u001b[90m━━━━━━━━━━━━━━━━━━━━━━━━━━━━━━━━━━━━━━━━\u001b[0m \u001b[32m78.7/78.7 kB\u001b[0m \u001b[31m7.6 MB/s\u001b[0m eta \u001b[36m0:00:00\u001b[0m\n",
            "\u001b[?25hRequirement already satisfied: platformdirs>=2.2.0 in /usr/local/lib/python3.10/dist-packages (from pytools>=2011.2->pycuda) (3.10.0)\n",
            "Requirement already satisfied: typing-extensions>=4.0 in /usr/local/lib/python3.10/dist-packages (from pytools>=2011.2->pycuda) (4.7.1)\n",
            "Requirement already satisfied: MarkupSafe>=0.9.2 in /usr/local/lib/python3.10/dist-packages (from mako->pycuda) (2.1.3)\n",
            "Building wheels for collected packages: pycuda\n",
            "  Building wheel for pycuda (pyproject.toml) ... \u001b[?25l\u001b[?25hcanceled\n",
            "\u001b[31mERROR: Operation cancelled by user\u001b[0m\u001b[31m\n",
            "\u001b[0mTraceback (most recent call last):\n",
            "  File \"/usr/local/lib/python3.10/dist-packages/pip/_internal/cli/base_command.py\", line 169, in exc_logging_wrapper\n",
            "    status = run_func(*args)\n",
            "  File \"/usr/local/lib/python3.10/dist-packages/pip/_internal/cli/req_command.py\", line 242, in wrapper\n",
            "    return func(self, options, args)\n",
            "  File \"/usr/local/lib/python3.10/dist-packages/pip/_internal/commands/install.py\", line 417, in run\n",
            "    _, build_failures = build(\n",
            "  File \"/usr/local/lib/python3.10/dist-packages/pip/_internal/wheel_builder.py\", line 320, in build\n",
            "    wheel_file = _build_one(\n",
            "  File \"/usr/local/lib/python3.10/dist-packages/pip/_internal/wheel_builder.py\", line 194, in _build_one\n",
            "    wheel_path = _build_one_inside_env(\n",
            "  File \"/usr/local/lib/python3.10/dist-packages/pip/_internal/wheel_builder.py\", line 234, in _build_one_inside_env\n",
            "    wheel_path = build_wheel_pep517(\n",
            "  File \"/usr/local/lib/python3.10/dist-packages/pip/_internal/operations/build/wheel.py\", line 30, in build_wheel_pep517\n",
            "    wheel_name = backend.build_wheel(\n",
            "  File \"/usr/local/lib/python3.10/dist-packages/pip/_internal/utils/misc.py\", line 665, in build_wheel\n",
            "    return super().build_wheel(\n",
            "  File \"/usr/local/lib/python3.10/dist-packages/pip/_vendor/pyproject_hooks/_impl.py\", line 209, in build_wheel\n",
            "    return self._call_hook('build_wheel', {\n",
            "  File \"/usr/local/lib/python3.10/dist-packages/pip/_vendor/pyproject_hooks/_impl.py\", line 311, in _call_hook\n",
            "    self._subprocess_runner(\n",
            "  File \"/usr/local/lib/python3.10/dist-packages/pip/_internal/utils/subprocess.py\", line 252, in runner\n",
            "    call_subprocess(\n",
            "  File \"/usr/local/lib/python3.10/dist-packages/pip/_internal/utils/subprocess.py\", line 166, in call_subprocess\n",
            "    line: str = proc.stdout.readline()\n",
            "KeyboardInterrupt\n",
            "\n",
            "During handling of the above exception, another exception occurred:\n",
            "\n",
            "Traceback (most recent call last):\n",
            "  File \"/usr/local/bin/pip3\", line 8, in <module>\n",
            "    sys.exit(main())\n",
            "  File \"/usr/local/lib/python3.10/dist-packages/pip/_internal/cli/main.py\", line 79, in main\n",
            "    return command.main(cmd_args)\n",
            "  File \"/usr/local/lib/python3.10/dist-packages/pip/_internal/cli/base_command.py\", line 101, in main\n",
            "    return self._main(args)\n",
            "  File \"/usr/local/lib/python3.10/dist-packages/pip/_internal/cli/base_command.py\", line 223, in _main\n",
            "    return run(options, args)\n",
            "  File \"/usr/local/lib/python3.10/dist-packages/pip/_internal/cli/base_command.py\", line 207, in exc_logging_wrapper\n",
            "    logger.debug(\"Exception information:\", exc_info=True)\n",
            "  File \"/usr/lib/python3.10/logging/__init__.py\", line 1465, in debug\n",
            "    self._log(DEBUG, msg, args, **kwargs)\n",
            "  File \"/usr/lib/python3.10/logging/__init__.py\", line 1624, in _log\n",
            "    self.handle(record)\n",
            "  File \"/usr/lib/python3.10/logging/__init__.py\", line 1634, in handle\n",
            "    self.callHandlers(record)\n",
            "  File \"/usr/lib/python3.10/logging/__init__.py\", line 1696, in callHandlers\n",
            "    hdlr.handle(record)\n",
            "  File \"/usr/lib/python3.10/logging/__init__.py\", line 968, in handle\n",
            "    self.emit(record)\n",
            "  File \"/usr/lib/python3.10/logging/handlers.py\", line 75, in emit\n",
            "    logging.FileHandler.emit(self, record)\n",
            "  File \"/usr/lib/python3.10/logging/__init__.py\", line 1218, in emit\n",
            "    StreamHandler.emit(self, record)\n",
            "  File \"/usr/lib/python3.10/logging/__init__.py\", line 1100, in emit\n",
            "    msg = self.format(record)\n",
            "  File \"/usr/lib/python3.10/logging/__init__.py\", line 943, in format\n",
            "    return fmt.format(record)\n",
            "  File \"/usr/local/lib/python3.10/dist-packages/pip/_internal/utils/logging.py\", line 112, in format\n",
            "    formatted = super().format(record)\n",
            "  File \"/usr/lib/python3.10/logging/__init__.py\", line 686, in format\n",
            "    record.exc_text = self.formatException(record.exc_info)\n",
            "  File \"/usr/lib/python3.10/logging/__init__.py\", line 636, in formatException\n",
            "    traceback.print_exception(ei[0], ei[1], tb, None, sio)\n",
            "  File \"/usr/lib/python3.10/traceback.py\", line 119, in print_exception\n",
            "    te = TracebackException(type(value), value, tb, limit=limit, compact=True)\n",
            "  File \"/usr/lib/python3.10/traceback.py\", line 502, in __init__\n",
            "    self.stack = StackSummary.extract(\n",
            "  File \"/usr/lib/python3.10/traceback.py\", line 383, in extract\n",
            "    f.line\n",
            "  File \"/usr/lib/python3.10/traceback.py\", line 306, in line\n",
            "    self._line = linecache.getline(self.filename, self.lineno)\n",
            "  File \"/usr/lib/python3.10/linecache.py\", line 30, in getline\n",
            "    lines = getlines(filename, module_globals)\n",
            "  File \"/usr/lib/python3.10/linecache.py\", line 46, in getlines\n",
            "    return updatecache(filename, module_globals)\n",
            "  File \"/usr/lib/python3.10/linecache.py\", line 136, in updatecache\n",
            "    with tokenize.open(fullname) as fp:\n",
            "  File \"/usr/lib/python3.10/tokenize.py\", line 396, in open\n",
            "    encoding, lines = detect_encoding(buffer.readline)\n",
            "  File \"/usr/lib/python3.10/tokenize.py\", line 365, in detect_encoding\n",
            "    first = read_or_stop()\n",
            "  File \"/usr/lib/python3.10/tokenize.py\", line 323, in read_or_stop\n",
            "    return readline()\n",
            "KeyboardInterrupt\n",
            "^C\n"
          ]
        }
      ],
      "source": [
        "%pip install pycuda"
      ]
    },
    {
      "cell_type": "code",
      "source": [
        "%pip install ipympl"
      ],
      "metadata": {
        "colab": {
          "base_uri": "https://localhost:8080/"
        },
        "id": "LzPl_BAb_75f",
        "outputId": "1b34d36a-8faa-4e03-dedf-9c499cc2e46f"
      },
      "execution_count": 4,
      "outputs": [
        {
          "output_type": "stream",
          "name": "stdout",
          "text": [
            "Collecting ipympl\n",
            "  Downloading ipympl-0.9.3-py2.py3-none-any.whl (511 kB)\n",
            "\u001b[?25l     \u001b[90m━━━━━━━━━━━━━━━━━━━━━━━━━━━━━━━━━━━━━━━━\u001b[0m \u001b[32m0.0/511.6 kB\u001b[0m \u001b[31m?\u001b[0m eta \u001b[36m-:--:--\u001b[0m\r\u001b[2K     \u001b[91m━━━━━━━\u001b[0m\u001b[90m╺\u001b[0m\u001b[90m━━━━━━━━━━━━━━━━━━━━━━━━━━━━━━━━\u001b[0m \u001b[32m92.2/511.6 kB\u001b[0m \u001b[31m2.5 MB/s\u001b[0m eta \u001b[36m0:00:01\u001b[0m\r\u001b[2K     \u001b[91m━━━━━━━━━━━━━━━━━━━━━━━━━━━━━━━━━━━━━━\u001b[0m\u001b[90m╺\u001b[0m \u001b[32m501.8/511.6 kB\u001b[0m \u001b[31m7.4 MB/s\u001b[0m eta \u001b[36m0:00:01\u001b[0m\r\u001b[2K     \u001b[90m━━━━━━━━━━━━━━━━━━━━━━━━━━━━━━━━━━━━━━━\u001b[0m \u001b[32m511.6/511.6 kB\u001b[0m \u001b[31m6.3 MB/s\u001b[0m eta \u001b[36m0:00:00\u001b[0m\n",
            "\u001b[?25hRequirement already satisfied: ipython<9 in /usr/local/lib/python3.10/dist-packages (from ipympl) (7.34.0)\n",
            "Requirement already satisfied: numpy in /usr/local/lib/python3.10/dist-packages (from ipympl) (1.23.5)\n",
            "Requirement already satisfied: ipython-genutils in /usr/local/lib/python3.10/dist-packages (from ipympl) (0.2.0)\n",
            "Requirement already satisfied: pillow in /usr/local/lib/python3.10/dist-packages (from ipympl) (9.4.0)\n",
            "Requirement already satisfied: traitlets<6 in /usr/local/lib/python3.10/dist-packages (from ipympl) (5.7.1)\n",
            "Requirement already satisfied: ipywidgets<9,>=7.6.0 in /usr/local/lib/python3.10/dist-packages (from ipympl) (7.7.1)\n",
            "Requirement already satisfied: matplotlib<4,>=3.4.0 in /usr/local/lib/python3.10/dist-packages (from ipympl) (3.7.1)\n",
            "Requirement already satisfied: setuptools>=18.5 in /usr/local/lib/python3.10/dist-packages (from ipython<9->ipympl) (67.7.2)\n",
            "Collecting jedi>=0.16 (from ipython<9->ipympl)\n",
            "  Downloading jedi-0.19.0-py2.py3-none-any.whl (1.6 MB)\n",
            "\u001b[2K     \u001b[90m━━━━━━━━━━━━━━━━━━━━━━━━━━━━━━━━━━━━━━━━\u001b[0m \u001b[32m1.6/1.6 MB\u001b[0m \u001b[31m14.3 MB/s\u001b[0m eta \u001b[36m0:00:00\u001b[0m\n",
            "\u001b[?25hRequirement already satisfied: decorator in /usr/local/lib/python3.10/dist-packages (from ipython<9->ipympl) (4.4.2)\n",
            "Requirement already satisfied: pickleshare in /usr/local/lib/python3.10/dist-packages (from ipython<9->ipympl) (0.7.5)\n",
            "Requirement already satisfied: prompt-toolkit!=3.0.0,!=3.0.1,<3.1.0,>=2.0.0 in /usr/local/lib/python3.10/dist-packages (from ipython<9->ipympl) (3.0.39)\n",
            "Requirement already satisfied: pygments in /usr/local/lib/python3.10/dist-packages (from ipython<9->ipympl) (2.16.1)\n",
            "Requirement already satisfied: backcall in /usr/local/lib/python3.10/dist-packages (from ipython<9->ipympl) (0.2.0)\n",
            "Requirement already satisfied: matplotlib-inline in /usr/local/lib/python3.10/dist-packages (from ipython<9->ipympl) (0.1.6)\n",
            "Requirement already satisfied: pexpect>4.3 in /usr/local/lib/python3.10/dist-packages (from ipython<9->ipympl) (4.8.0)\n",
            "Requirement already satisfied: ipykernel>=4.5.1 in /usr/local/lib/python3.10/dist-packages (from ipywidgets<9,>=7.6.0->ipympl) (5.5.6)\n",
            "Requirement already satisfied: widgetsnbextension~=3.6.0 in /usr/local/lib/python3.10/dist-packages (from ipywidgets<9,>=7.6.0->ipympl) (3.6.5)\n",
            "Requirement already satisfied: jupyterlab-widgets>=1.0.0 in /usr/local/lib/python3.10/dist-packages (from ipywidgets<9,>=7.6.0->ipympl) (3.0.8)\n",
            "Requirement already satisfied: contourpy>=1.0.1 in /usr/local/lib/python3.10/dist-packages (from matplotlib<4,>=3.4.0->ipympl) (1.1.0)\n",
            "Requirement already satisfied: cycler>=0.10 in /usr/local/lib/python3.10/dist-packages (from matplotlib<4,>=3.4.0->ipympl) (0.11.0)\n",
            "Requirement already satisfied: fonttools>=4.22.0 in /usr/local/lib/python3.10/dist-packages (from matplotlib<4,>=3.4.0->ipympl) (4.42.0)\n",
            "Requirement already satisfied: kiwisolver>=1.0.1 in /usr/local/lib/python3.10/dist-packages (from matplotlib<4,>=3.4.0->ipympl) (1.4.4)\n",
            "Requirement already satisfied: packaging>=20.0 in /usr/local/lib/python3.10/dist-packages (from matplotlib<4,>=3.4.0->ipympl) (23.1)\n",
            "Requirement already satisfied: pyparsing>=2.3.1 in /usr/local/lib/python3.10/dist-packages (from matplotlib<4,>=3.4.0->ipympl) (3.1.1)\n",
            "Requirement already satisfied: python-dateutil>=2.7 in /usr/local/lib/python3.10/dist-packages (from matplotlib<4,>=3.4.0->ipympl) (2.8.2)\n",
            "Requirement already satisfied: jupyter-client in /usr/local/lib/python3.10/dist-packages (from ipykernel>=4.5.1->ipywidgets<9,>=7.6.0->ipympl) (6.1.12)\n",
            "Requirement already satisfied: tornado>=4.2 in /usr/local/lib/python3.10/dist-packages (from ipykernel>=4.5.1->ipywidgets<9,>=7.6.0->ipympl) (6.3.1)\n",
            "Requirement already satisfied: parso<0.9.0,>=0.8.3 in /usr/local/lib/python3.10/dist-packages (from jedi>=0.16->ipython<9->ipympl) (0.8.3)\n",
            "Requirement already satisfied: ptyprocess>=0.5 in /usr/local/lib/python3.10/dist-packages (from pexpect>4.3->ipython<9->ipympl) (0.7.0)\n",
            "Requirement already satisfied: wcwidth in /usr/local/lib/python3.10/dist-packages (from prompt-toolkit!=3.0.0,!=3.0.1,<3.1.0,>=2.0.0->ipython<9->ipympl) (0.2.6)\n",
            "Requirement already satisfied: six>=1.5 in /usr/local/lib/python3.10/dist-packages (from python-dateutil>=2.7->matplotlib<4,>=3.4.0->ipympl) (1.16.0)\n",
            "Requirement already satisfied: notebook>=4.4.1 in /usr/local/lib/python3.10/dist-packages (from widgetsnbextension~=3.6.0->ipywidgets<9,>=7.6.0->ipympl) (6.4.8)\n",
            "Requirement already satisfied: jinja2 in /usr/local/lib/python3.10/dist-packages (from notebook>=4.4.1->widgetsnbextension~=3.6.0->ipywidgets<9,>=7.6.0->ipympl) (3.1.2)\n",
            "Requirement already satisfied: pyzmq>=17 in /usr/local/lib/python3.10/dist-packages (from notebook>=4.4.1->widgetsnbextension~=3.6.0->ipywidgets<9,>=7.6.0->ipympl) (23.2.1)\n",
            "Requirement already satisfied: argon2-cffi in /usr/local/lib/python3.10/dist-packages (from notebook>=4.4.1->widgetsnbextension~=3.6.0->ipywidgets<9,>=7.6.0->ipympl) (21.3.0)\n",
            "Requirement already satisfied: jupyter-core>=4.6.1 in /usr/local/lib/python3.10/dist-packages (from notebook>=4.4.1->widgetsnbextension~=3.6.0->ipywidgets<9,>=7.6.0->ipympl) (5.3.1)\n",
            "Requirement already satisfied: nbformat in /usr/local/lib/python3.10/dist-packages (from notebook>=4.4.1->widgetsnbextension~=3.6.0->ipywidgets<9,>=7.6.0->ipympl) (5.9.2)\n",
            "Requirement already satisfied: nbconvert in /usr/local/lib/python3.10/dist-packages (from notebook>=4.4.1->widgetsnbextension~=3.6.0->ipywidgets<9,>=7.6.0->ipympl) (6.5.4)\n",
            "Requirement already satisfied: nest-asyncio>=1.5 in /usr/local/lib/python3.10/dist-packages (from notebook>=4.4.1->widgetsnbextension~=3.6.0->ipywidgets<9,>=7.6.0->ipympl) (1.5.7)\n",
            "Requirement already satisfied: Send2Trash>=1.8.0 in /usr/local/lib/python3.10/dist-packages (from notebook>=4.4.1->widgetsnbextension~=3.6.0->ipywidgets<9,>=7.6.0->ipympl) (1.8.2)\n",
            "Requirement already satisfied: terminado>=0.8.3 in /usr/local/lib/python3.10/dist-packages (from notebook>=4.4.1->widgetsnbextension~=3.6.0->ipywidgets<9,>=7.6.0->ipympl) (0.17.1)\n",
            "Requirement already satisfied: prometheus-client in /usr/local/lib/python3.10/dist-packages (from notebook>=4.4.1->widgetsnbextension~=3.6.0->ipywidgets<9,>=7.6.0->ipympl) (0.17.1)\n",
            "Requirement already satisfied: platformdirs>=2.5 in /usr/local/lib/python3.10/dist-packages (from jupyter-core>=4.6.1->notebook>=4.4.1->widgetsnbextension~=3.6.0->ipywidgets<9,>=7.6.0->ipympl) (3.10.0)\n",
            "Requirement already satisfied: argon2-cffi-bindings in /usr/local/lib/python3.10/dist-packages (from argon2-cffi->notebook>=4.4.1->widgetsnbextension~=3.6.0->ipywidgets<9,>=7.6.0->ipympl) (21.2.0)\n",
            "Requirement already satisfied: MarkupSafe>=2.0 in /usr/local/lib/python3.10/dist-packages (from jinja2->notebook>=4.4.1->widgetsnbextension~=3.6.0->ipywidgets<9,>=7.6.0->ipympl) (2.1.3)\n",
            "Requirement already satisfied: lxml in /usr/local/lib/python3.10/dist-packages (from nbconvert->notebook>=4.4.1->widgetsnbextension~=3.6.0->ipywidgets<9,>=7.6.0->ipympl) (4.9.3)\n",
            "Requirement already satisfied: beautifulsoup4 in /usr/local/lib/python3.10/dist-packages (from nbconvert->notebook>=4.4.1->widgetsnbextension~=3.6.0->ipywidgets<9,>=7.6.0->ipympl) (4.11.2)\n",
            "Requirement already satisfied: bleach in /usr/local/lib/python3.10/dist-packages (from nbconvert->notebook>=4.4.1->widgetsnbextension~=3.6.0->ipywidgets<9,>=7.6.0->ipympl) (6.0.0)\n",
            "Requirement already satisfied: defusedxml in /usr/local/lib/python3.10/dist-packages (from nbconvert->notebook>=4.4.1->widgetsnbextension~=3.6.0->ipywidgets<9,>=7.6.0->ipympl) (0.7.1)\n",
            "Requirement already satisfied: entrypoints>=0.2.2 in /usr/local/lib/python3.10/dist-packages (from nbconvert->notebook>=4.4.1->widgetsnbextension~=3.6.0->ipywidgets<9,>=7.6.0->ipympl) (0.4)\n",
            "Requirement already satisfied: jupyterlab-pygments in /usr/local/lib/python3.10/dist-packages (from nbconvert->notebook>=4.4.1->widgetsnbextension~=3.6.0->ipywidgets<9,>=7.6.0->ipympl) (0.2.2)\n",
            "Requirement already satisfied: mistune<2,>=0.8.1 in /usr/local/lib/python3.10/dist-packages (from nbconvert->notebook>=4.4.1->widgetsnbextension~=3.6.0->ipywidgets<9,>=7.6.0->ipympl) (0.8.4)\n",
            "Requirement already satisfied: nbclient>=0.5.0 in /usr/local/lib/python3.10/dist-packages (from nbconvert->notebook>=4.4.1->widgetsnbextension~=3.6.0->ipywidgets<9,>=7.6.0->ipympl) (0.8.0)\n",
            "Requirement already satisfied: pandocfilters>=1.4.1 in /usr/local/lib/python3.10/dist-packages (from nbconvert->notebook>=4.4.1->widgetsnbextension~=3.6.0->ipywidgets<9,>=7.6.0->ipympl) (1.5.0)\n",
            "Requirement already satisfied: tinycss2 in /usr/local/lib/python3.10/dist-packages (from nbconvert->notebook>=4.4.1->widgetsnbextension~=3.6.0->ipywidgets<9,>=7.6.0->ipympl) (1.2.1)\n",
            "Requirement already satisfied: fastjsonschema in /usr/local/lib/python3.10/dist-packages (from nbformat->notebook>=4.4.1->widgetsnbextension~=3.6.0->ipywidgets<9,>=7.6.0->ipympl) (2.18.0)\n",
            "Requirement already satisfied: jsonschema>=2.6 in /usr/local/lib/python3.10/dist-packages (from nbformat->notebook>=4.4.1->widgetsnbextension~=3.6.0->ipywidgets<9,>=7.6.0->ipympl) (4.19.0)\n",
            "Requirement already satisfied: attrs>=22.2.0 in /usr/local/lib/python3.10/dist-packages (from jsonschema>=2.6->nbformat->notebook>=4.4.1->widgetsnbextension~=3.6.0->ipywidgets<9,>=7.6.0->ipympl) (23.1.0)\n",
            "Requirement already satisfied: jsonschema-specifications>=2023.03.6 in /usr/local/lib/python3.10/dist-packages (from jsonschema>=2.6->nbformat->notebook>=4.4.1->widgetsnbextension~=3.6.0->ipywidgets<9,>=7.6.0->ipympl) (2023.7.1)\n",
            "Requirement already satisfied: referencing>=0.28.4 in /usr/local/lib/python3.10/dist-packages (from jsonschema>=2.6->nbformat->notebook>=4.4.1->widgetsnbextension~=3.6.0->ipywidgets<9,>=7.6.0->ipympl) (0.30.2)\n",
            "Requirement already satisfied: rpds-py>=0.7.1 in /usr/local/lib/python3.10/dist-packages (from jsonschema>=2.6->nbformat->notebook>=4.4.1->widgetsnbextension~=3.6.0->ipywidgets<9,>=7.6.0->ipympl) (0.9.2)\n",
            "Requirement already satisfied: cffi>=1.0.1 in /usr/local/lib/python3.10/dist-packages (from argon2-cffi-bindings->argon2-cffi->notebook>=4.4.1->widgetsnbextension~=3.6.0->ipywidgets<9,>=7.6.0->ipympl) (1.15.1)\n",
            "Requirement already satisfied: soupsieve>1.2 in /usr/local/lib/python3.10/dist-packages (from beautifulsoup4->nbconvert->notebook>=4.4.1->widgetsnbextension~=3.6.0->ipywidgets<9,>=7.6.0->ipympl) (2.4.1)\n",
            "Requirement already satisfied: webencodings in /usr/local/lib/python3.10/dist-packages (from bleach->nbconvert->notebook>=4.4.1->widgetsnbextension~=3.6.0->ipywidgets<9,>=7.6.0->ipympl) (0.5.1)\n",
            "Requirement already satisfied: pycparser in /usr/local/lib/python3.10/dist-packages (from cffi>=1.0.1->argon2-cffi-bindings->argon2-cffi->notebook>=4.4.1->widgetsnbextension~=3.6.0->ipywidgets<9,>=7.6.0->ipympl) (2.21)\n",
            "Installing collected packages: jedi, ipympl\n",
            "Successfully installed ipympl-0.9.3 jedi-0.19.0\n"
          ]
        }
      ]
    },
    {
      "cell_type": "code",
      "execution_count": 5,
      "metadata": {
        "id": "DLjaYXF7TQVA",
        "colab": {
          "base_uri": "https://localhost:8080/",
          "height": 597,
          "referenced_widgets": [
            "8f34fda7695444b69f4bc6f255e29dd0",
            "99a9a9459e8f47ddae7972acf81fce4e",
            "071fef02138f401ba5a11268080d09d2",
            "8cc726c121884a5f87ac0e1b4038e3e1",
            "374cf778873c4d2fb196ab01399774d4",
            "1f25001924e4466fbf88dc81e986835c",
            "34816d3b29504ee7af3fc5aea4613b89",
            "cb2281785cdb4e59879389332f5d260c",
            "1588652c4856447fb8cfc9719ffafd48"
          ]
        },
        "outputId": "cc3c3912-4661-46db-d6f8-01efde9a206f"
      },
      "outputs": [
        {
          "output_type": "display_data",
          "data": {
            "text/plain": [
              "IntSlider(value=0)"
            ],
            "application/vnd.jupyter.widget-view+json": {
              "version_major": 2,
              "version_minor": 0,
              "model_id": "8f34fda7695444b69f4bc6f255e29dd0"
            }
          },
          "metadata": {
            "application/vnd.jupyter.widget-view+json": {
              "colab": {
                "custom_widget_manager": {
                  "url": "https://ssl.gstatic.com/colaboratory-static/widgets/colab-cdn-widget-manager/b3e629b1971e1542/manager.min.js"
                }
              }
            }
          }
        },
        {
          "output_type": "display_data",
          "data": {
            "text/plain": [
              "Output()"
            ],
            "application/vnd.jupyter.widget-view+json": {
              "version_major": 2,
              "version_minor": 0,
              "model_id": "8cc726c121884a5f87ac0e1b4038e3e1"
            }
          },
          "metadata": {
            "application/vnd.jupyter.widget-view+json": {
              "colab": {
                "custom_widget_manager": {
                  "url": "https://ssl.gstatic.com/colaboratory-static/widgets/colab-cdn-widget-manager/b3e629b1971e1542/manager.min.js"
                }
              }
            }
          }
        },
        {
          "output_type": "display_data",
          "data": {
            "text/plain": [
              "Canvas(toolbar=Toolbar(toolitems=[('Home', 'Reset original view', 'home', 'home'), ('Back', 'Back to previous …"
            ],
            "image/png": "[encoded data removed]",
            "text/html": [
              "\n",
              "            <div style=\"display: inline-block;\">\n",
              "                <div class=\"jupyter-widgets widget-label\" style=\"text-align: center;\">\n",
              "                    Figure\n",
              "                </div>\n",
              "                <img src='data:image/png;base64,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' width=640.0/>\n",
              "            </div>\n",
              "        "
            ],
            "application/vnd.jupyter.widget-view+json": {
              "version_major": 2,
              "version_minor": 0,
              "model_id": "1588652c4856447fb8cfc9719ffafd48"
            }
          },
          "metadata": {
            "application/vnd.jupyter.widget-view+json": {
              "colab": {
                "custom_widget_manager": {
                  "url": "https://ssl.gstatic.com/colaboratory-static/widgets/colab-cdn-widget-manager/b3e629b1971e1542/manager.min.js"
                }
              }
            }
          }
        }
      ],
      "source": [
        "%matplotlib widget\n",
        "import ipywidgets as widgets\n",
        "from IPython.display import display\n",
        "from google.colab import output\n",
        "output.enable_custom_widget_manager()\n",
        "from extra.datasets import fetch_mnist\n",
        "from matplotlib import pyplot as plt\n",
        "import numpy as np\n",
        "\n",
        "\n",
        "int_range = widgets.IntSlider()\n",
        "output2 = widgets.Output()\n",
        "\n",
        "display(int_range, output2)\n",
        "\n",
        "plt.clf()\n",
        "images_real = fetch_mnist()[2]\n",
        "\n",
        "fig=plt.imshow(np.array(images_real[1]).reshape(28,28), interpolation='none', cmap='gray')\n",
        "plt.show()\n",
        "\n",
        "def on_value_change(change):\n",
        "    with output2:\n",
        "        fig.set_data(np.array(images_real[change['new']]).reshape(28,28))\n",
        "\n",
        "\n",
        "int_range.observe(on_value_change, names='value')\n",
        "\n",
        "\n",
        "\n"
      ]
    },
    {
      "cell_type": "code",
      "source": [
        "\n",
        "from tinygrad.tensor import Tensor\n",
        "from tinygrad.nn import Linear\n",
        "image = np.array(images_real[21]).reshape(28,28);\n",
        "\n",
        "class NorNet:\n",
        "  def __init__(self):\n",
        "    self.l1 = Linear(2,1,bias=True)\n",
        "    #self.l2 = Linear(2,1,bias=False)\n",
        "\n",
        "  def __call__(self, x):\n",
        "    x = self.l1(x)\n",
        "    #x = x.leakyrelu()\n",
        "    #x = self.l2(x)\n",
        "    #x = x.leakyrelu()\n",
        "    return  x\n",
        "\n",
        "\n",
        "net = NorNet()\n",
        "\n",
        "\n"
      ],
      "metadata": {
        "id": "0GmPvsRARAES"
      },
      "execution_count": 177,
      "outputs": []
    },
    {
      "cell_type": "markdown",
      "source": [
        "0\t0\t| 1\n",
        "\n",
        "0\t1\t| 0\n",
        "\n",
        "1\t0\t| 0\n",
        "\n",
        "1\t1 |\t0"
      ],
      "metadata": {
        "id": "B7L7sDnvII85"
      }
    },
    {
      "cell_type": "code",
      "source": [
        "Tensor.training = True\n",
        "\n",
        "from IPython.display import clear_output\n",
        "from extra.training import sparse_categorical_crossentropy\n",
        "from tinygrad.nn.optim import SGD\n",
        "\n",
        "#opt = SGD([net.l1.weight,net.l2.weight], lr=3e-4)\n",
        "opt = SGD([net.l1.weight], lr=3e-4)\n",
        "intput = np.array( [[0,\t0],\n",
        "[0,\t1\t],\n",
        "[1,\t0\t],\n",
        "[1,\t1\t]])\n",
        "\n",
        "\n",
        "\n",
        "\n",
        "expoutput = np.array([1,0,0,0]).transpose()\n",
        "\n",
        "\n",
        "\n",
        "def mean_squared_error(y_true, y_pred):\n",
        "    x= y_true.sub(Tensor(-y_pred.astype(np.float32))).mean()\n",
        "    return x\n",
        "\n",
        "\n",
        "for step in range(10000):\n",
        "\n",
        "  out = net(Tensor(intput,requires_grad=False))\n",
        "  #out = Tensor(np.array([1,0,0,0]).transpose())\n",
        "  loss= mean_squared_error(out,expoutput)\n",
        "\n",
        "  opt.zero_grad()\n",
        "  loss.backward()\n",
        "  opt.step()\n",
        "\n",
        "  if step % 100 == 0:\n",
        "    clear_output(wait=True)\n",
        "    print(out.numpy())\n",
        "    print(net.l1.weight.numpy())\n",
        "    print(f\"Step {step+1} | Loss: {loss.numpy()} | Accuracy: {acc}\")\n",
        "\n",
        "\n"
      ],
      "metadata": {
        "id": "w-Cv98V-HnmQ",
        "outputId": "7a23c33f-81b0-4598-d3da-8e3317a2b276",
        "colab": {
          "base_uri": "https://localhost:8080/"
        }
      },
      "execution_count": 178,
      "outputs": [
        {
          "output_type": "stream",
          "name": "stdout",
          "text": [
            "[[ 0.15417218]\n",
            " [-0.79733926]\n",
            " [-1.9471264 ]\n",
            " [-2.8986378 ]]\n",
            "[[-2.1012986  -0.95151144]]\n",
            "Step 9901 | Loss: -1.1222327947616577 | Accuracy: 0.84375\n"
          ]
        }
      ]
    },
    {
      "cell_type": "code",
      "source": [
        "print(out[0].numpy())"
      ],
      "metadata": {
        "id": "BPUew8fQfN46",
        "outputId": "c99c03e4-e36d-4b13-8c36-734f87878bea",
        "colab": {
          "base_uri": "https://localhost:8080/"
        }
      },
      "execution_count": 168,
      "outputs": [
        {
          "output_type": "stream",
          "name": "stdout",
          "text": [
            "[0.]\n"
          ]
        }
      ]
    },
    {
      "cell_type": "code",
      "source": [
        "t = Tensor([0,1,0,1], requires_grad=False)\n",
        "print(t.numpy())"
      ],
      "metadata": {
        "id": "XCZcPhDweiCZ",
        "outputId": "16d23c50-5b0c-4806-c616-98845a5ff5b9",
        "colab": {
          "base_uri": "https://localhost:8080/"
        }
      },
      "execution_count": 135,
      "outputs": [
        {
          "output_type": "stream",
          "name": "stdout",
          "text": [
            "[0. 1. 0. 1.]\n"
          ]
        }
      ]
    },
    {
      "cell_type": "code",
      "source": [
        "! GRAPH=1"
      ],
      "metadata": {
        "id": "e5zSVQSlKKnQ"
      },
      "execution_count": 151,
      "outputs": []
    },
    {
      "cell_type": "markdown",
      "source": [],
      "metadata": {
        "id": "J63u3pK-Mgtw"
      }
    },
    {
      "cell_type": "markdown",
      "source": [],
      "metadata": {
        "id": "pt70Xi-_-50W"
      }
    },
    {
      "cell_type": "markdown",
      "source": [],
      "metadata": {
        "id": "RsgBG_FHBsmf"
      }
    },
    {
      "cell_type": "markdown",
      "source": [],
      "metadata": {
        "id": "Uwvam9P7_RYm"
      }
    },
    {
      "cell_type": "markdown",
      "source": [
        "!GPU=1 CUDA=1 python3 examples/mnist_gan.py\n",
        "21\n",
        "image = np.array(images_real[1]).reshape(28,28);\n",
        "\n",
        "for a in range(28):\n",
        "  print(int(28*((a)/28)))\n",
        "\n"
      ],
      "metadata": {
        "id": "ONW8tV5_8-8G"
      }
    },
    {
      "cell_type": "markdown",
      "metadata": {
        "id": "KDBmdYmGCmbx"
      },
      "source": [
        "# New Section"
      ]
    }
  ],
  "metadata": {
    "accelerator": "GPU",
    "colab": {
      "provenance": [],
      "authorship_tag": "ABX9TyPBdZv6v9RuVX5bQbU4GeIs",
      "include_colab_link": true
    },
    "kernelspec": {
      "display_name": "Python 3",
      "name": "python3"
    },
    "language_info": {
      "name": "python"
    },
    "widgets": {
      "application/vnd.jupyter.widget-state+json": {
        "8f34fda7695444b69f4bc6f255e29dd0": {
          "model_module": "@jupyter-widgets/controls",
          "model_name": "IntSliderModel",
          "model_module_version": "1.5.0",
          "state": {
            "_dom_classes": [],
            "_model_module": "@jupyter-widgets/controls",
            "_model_module_version": "1.5.0",
            "_model_name": "IntSliderModel",
            "_view_count": null,
            "_view_module": "@jupyter-widgets/controls",
            "_view_module_version": "1.5.0",
            "_view_name": "IntSliderView",
            "continuous_update": true,
            "description": "",
            "description_tooltip": null,
            "disabled": false,
            "layout": "IPY_MODEL_99a9a9459e8f47ddae7972acf81fce4e",
            "max": 100,
            "min": 0,
            "orientation": "horizontal",
            "readout": true,
            "readout_format": "d",
            "step": 1,
            "style": "IPY_MODEL_071fef02138f401ba5a11268080d09d2",
            "value": 21
          }
        },
        "99a9a9459e8f47ddae7972acf81fce4e": {
          "model_module": "@jupyter-widgets/base",
          "model_name": "LayoutModel",
          "model_module_version": "1.2.0",
          "state": {
            "_model_module": "@jupyter-widgets/base",
            "_model_module_version": "1.2.0",
            "_model_name": "LayoutModel",
            "_view_count": null,
            "_view_module": "@jupyter-widgets/base",
            "_view_module_version": "1.2.0",
            "_view_name": "LayoutView",
            "align_content": null,
            "align_items": null,
            "align_self": null,
            "border": null,
            "bottom": null,
            "display": null,
            "flex": null,
            "flex_flow": null,
            "grid_area": null,
            "grid_auto_columns": null,
            "grid_auto_flow": null,
            "grid_auto_rows": null,
            "grid_column": null,
            "grid_gap": null,
            "grid_row": null,
            "grid_template_areas": null,
            "grid_template_columns": null,
            "grid_template_rows": null,
            "height": null,
            "justify_content": null,
            "justify_items": null,
            "left": null,
            "margin": null,
            "max_height": null,
            "max_width": null,
            "min_height": null,
            "min_width": null,
            "object_fit": null,
            "object_position": null,
            "order": null,
            "overflow": null,
            "overflow_x": null,
            "overflow_y": null,
            "padding": null,
            "right": null,
            "top": null,
            "visibility": null,
            "width": null
          }
        },
        "071fef02138f401ba5a11268080d09d2": {
          "model_module": "@jupyter-widgets/controls",
          "model_name": "SliderStyleModel",
          "model_module_version": "1.5.0",
          "state": {
            "_model_module": "@jupyter-widgets/controls",
            "_model_module_version": "1.5.0",
            "_model_name": "SliderStyleModel",
            "_view_count": null,
            "_view_module": "@jupyter-widgets/base",
            "_view_module_version": "1.2.0",
            "_view_name": "StyleView",
            "description_width": "",
            "handle_color": null
          }
        },
        "8cc726c121884a5f87ac0e1b4038e3e1": {
          "model_module": "@jupyter-widgets/output",
          "model_name": "OutputModel",
          "model_module_version": "1.0.0",
          "state": {
            "_dom_classes": [],
            "_model_module": "@jupyter-widgets/output",
            "_model_module_version": "1.0.0",
            "_model_name": "OutputModel",
            "_view_count": null,
            "_view_module": "@jupyter-widgets/output",
            "_view_module_version": "1.0.0",
            "_view_name": "OutputView",
            "layout": "IPY_MODEL_374cf778873c4d2fb196ab01399774d4",
            "msg_id": "",
            "outputs": []
          }
        },
        "374cf778873c4d2fb196ab01399774d4": {
          "model_module": "@jupyter-widgets/base",
          "model_name": "LayoutModel",
          "model_module_version": "1.2.0",
          "state": {
            "_model_module": "@jupyter-widgets/base",
            "_model_module_version": "1.2.0",
            "_model_name": "LayoutModel",
            "_view_count": null,
            "_view_module": "@jupyter-widgets/base",
            "_view_module_version": "1.2.0",
            "_view_name": "LayoutView",
            "align_content": null,
            "align_items": null,
            "align_self": null,
            "border": null,
            "bottom": null,
            "display": null,
            "flex": null,
            "flex_flow": null,
            "grid_area": null,
            "grid_auto_columns": null,
            "grid_auto_flow": null,
            "grid_auto_rows": null,
            "grid_column": null,
            "grid_gap": null,
            "grid_row": null,
            "grid_template_areas": null,
            "grid_template_columns": null,
            "grid_template_rows": null,
            "height": null,
            "justify_content": null,
            "justify_items": null,
            "left": null,
            "margin": null,
            "max_height": null,
            "max_width": null,
            "min_height": null,
            "min_width": null,
            "object_fit": null,
            "object_position": null,
            "order": null,
            "overflow": null,
            "overflow_x": null,
            "overflow_y": null,
            "padding": null,
            "right": null,
            "top": null,
            "visibility": null,
            "width": null
          }
        },
        "1f25001924e4466fbf88dc81e986835c": {
          "model_module": "@jupyter-widgets/base",
          "model_name": "LayoutModel",
          "model_module_version": "1.2.0",
          "state": {
            "_model_module": "@jupyter-widgets/base",
            "_model_module_version": "1.2.0",
            "_model_name": "LayoutModel",
            "_view_count": null,
            "_view_module": "@jupyter-widgets/base",
            "_view_module_version": "1.2.0",
            "_view_name": "LayoutView",
            "align_content": null,
            "align_items": null,
            "align_self": null,
            "border": null,
            "bottom": null,
            "display": null,
            "flex": null,
            "flex_flow": null,
            "grid_area": null,
            "grid_auto_columns": null,
            "grid_auto_flow": null,
            "grid_auto_rows": null,
            "grid_column": null,
            "grid_gap": null,
            "grid_row": null,
            "grid_template_areas": null,
            "grid_template_columns": null,
            "grid_template_rows": null,
            "height": null,
            "justify_content": null,
            "justify_items": null,
            "left": null,
            "margin": null,
            "max_height": null,
            "max_width": null,
            "min_height": null,
            "min_width": null,
            "object_fit": null,
            "object_position": null,
            "order": null,
            "overflow": null,
            "overflow_x": null,
            "overflow_y": null,
            "padding": null,
            "right": null,
            "top": null,
            "visibility": null,
            "width": null
          }
        },
        "34816d3b29504ee7af3fc5aea4613b89": {
          "model_module": "@jupyter-widgets/base",
          "model_name": "LayoutModel",
          "model_module_version": "1.2.0",
          "state": {
            "_model_module": "@jupyter-widgets/base",
            "_model_module_version": "1.2.0",
            "_model_name": "LayoutModel",
            "_view_count": null,
            "_view_module": "@jupyter-widgets/base",
            "_view_module_version": "1.2.0",
            "_view_name": "LayoutView",
            "align_content": null,
            "align_items": null,
            "align_self": null,
            "border": null,
            "bottom": null,
            "display": null,
            "flex": null,
            "flex_flow": null,
            "grid_area": null,
            "grid_auto_columns": null,
            "grid_auto_flow": null,
            "grid_auto_rows": null,
            "grid_column": null,
            "grid_gap": null,
            "grid_row": null,
            "grid_template_areas": null,
            "grid_template_columns": null,
            "grid_template_rows": null,
            "height": null,
            "justify_content": null,
            "justify_items": null,
            "left": null,
            "margin": null,
            "max_height": null,
            "max_width": null,
            "min_height": null,
            "min_width": null,
            "object_fit": null,
            "object_position": null,
            "order": null,
            "overflow": null,
            "overflow_x": null,
            "overflow_y": null,
            "padding": null,
            "right": null,
            "top": null,
            "visibility": null,
            "width": null
          }
        },
        "cb2281785cdb4e59879389332f5d260c": {
          "model_module": "jupyter-matplotlib",
          "model_name": "ToolbarModel",
          "model_module_version": "^0.11",
          "state": {
            "_current_action": "",
            "_dom_classes": [],
            "_model_module": "jupyter-matplotlib",
            "_model_module_version": "^0.11",
            "_model_name": "ToolbarModel",
            "_view_count": null,
            "_view_module": "jupyter-matplotlib",
            "_view_module_version": "^0.11",
            "_view_name": "ToolbarView",
            "button_style": "",
            "collapsed": true,
            "layout": "IPY_MODEL_34816d3b29504ee7af3fc5aea4613b89",
            "orientation": "vertical",
            "toolitems": [
              [
                "Home",
                "Reset original view",
                "home",
                "home"
              ],
              [
                "Back",
                "Back to previous view",
                "arrow-left",
                "back"
              ],
              [
                "Forward",
                "Forward to next view",
                "arrow-right",
                "forward"
              ],
              [
                "Pan",
                "Left button pans, Right button zooms\nx/y fixes axis, CTRL fixes aspect",
                "arrows",
                "pan"
              ],
              [
                "Zoom",
                "Zoom to rectangle\nx/y fixes axis",
                "square-o",
                "zoom"
              ],
              [
                "Download",
                "Download plot",
                "floppy-o",
                "save_figure"
              ]
            ]
          }
        },
        "1588652c4856447fb8cfc9719ffafd48": {
          "model_module": "jupyter-matplotlib",
          "model_name": "MPLCanvasModel",
          "model_module_version": "^0.11",
          "state": {
            "_cursor": "default",
            "_data_url": "data:image/png;base64,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",
            "_dom_classes": [],
            "_figure_label": "Figure 1",
            "_image_mode": "diff",
            "_message": "",
            "_model_module": "jupyter-matplotlib",
            "_model_module_version": "^0.11",
            "_model_name": "MPLCanvasModel",
            "_rubberband_height": 0,
            "_rubberband_width": 0,
            "_rubberband_x": 0,
            "_rubberband_y": 0,
            "_size": [
              604,
              476
            ],
            "_view_count": null,
            "_view_module": "jupyter-matplotlib",
            "_view_module_version": "^0.11",
            "_view_name": "MPLCanvasView",
            "capture_scroll": false,
            "footer_visible": true,
            "header_visible": true,
            "layout": "IPY_MODEL_1f25001924e4466fbf88dc81e986835c",
            "pan_zoom_throttle": 33,
            "resizable": true,
            "toolbar": "IPY_MODEL_cb2281785cdb4e59879389332f5d260c",
            "toolbar_position": "left",
            "toolbar_visible": "fade-in-fade-out"
          }
        }
      }
    }
  },
  "nbformat": 4,
  "nbformat_minor": 0
}