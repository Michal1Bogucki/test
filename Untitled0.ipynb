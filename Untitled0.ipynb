{
  "cells": [
    {
      "cell_type": "markdown",
      "metadata": {
        "id": "view-in-github",
        "colab_type": "text"
      },
      "source": [
        "<a href=\"https://colab.research.google.com/github/Michal1Bogucki/test/blob/master/Untitled0.ipynb\" target=\"_parent\"><img src=\"https://colab.research.google.com/assets/colab-badge.svg\" alt=\"Open In Colab\"/></a>"
      ]
    },
    {
      "cell_type": "code",
      "execution_count": null,
      "metadata": {
        "id": "I1fNAryjUy_a"
      },
      "outputs": [],
      "source": [
        "!sudo DEBIAN_FRONTEND=noninteractive apt-get install keyboard-configuration\n",
        "!sudo apt update\n",
        "!sudo apt purge *nvidia* -y\n",
        "!sudo apt install nvidia-driver-530 -y"
      ]
    },
    {
      "cell_type": "code",
      "source": [
        "!clinfo"
      ],
      "metadata": {
        "id": "X9XDvQ_Gc2cS"
      },
      "execution_count": null,
      "outputs": []
    },
    {
      "cell_type": "code",
      "execution_count": 1,
      "metadata": {
        "colab": {
          "base_uri": "https://localhost:8080/"
        },
        "id": "fkkEAAp4Bn8i",
        "outputId": "9488bc4c-d0ea-4f3b-c90a-d3295daa7ef6"
      },
      "outputs": [
        {
          "output_type": "stream",
          "name": "stdout",
          "text": [
            "\u001b[33mhint: Using 'master' as the name for the initial branch. This default branch name\u001b[m\n",
            "\u001b[33mhint: is subject to change. To configure the initial branch name to use in all\u001b[m\n",
            "\u001b[33mhint: of your new repositories, which will suppress this warning, call:\u001b[m\n",
            "\u001b[33mhint: \u001b[m\n",
            "\u001b[33mhint: \tgit config --global init.defaultBranch <name>\u001b[m\n",
            "\u001b[33mhint: \u001b[m\n",
            "\u001b[33mhint: Names commonly chosen instead of 'master' are 'main', 'trunk' and\u001b[m\n",
            "\u001b[33mhint: 'development'. The just-created branch can be renamed via this command:\u001b[m\n",
            "\u001b[33mhint: \u001b[m\n",
            "\u001b[33mhint: \tgit branch -m <name>\u001b[m\n",
            "Initialized empty Git repository in /content/.git/\n",
            "remote: Enumerating objects: 16144, done.\u001b[K\n",
            "remote: Counting objects: 100% (20/20), done.\u001b[K\n",
            "remote: Compressing objects: 100% (19/19), done.\u001b[K\n",
            "remote: Total 16144 (delta 4), reused 9 (delta 1), pack-reused 16124\u001b[K\n",
            "Receiving objects: 100% (16144/16144), 18.88 MiB | 19.57 MiB/s, done.\n",
            "Resolving deltas: 100% (11447/11447), done.\n",
            "From https://github.com/geohot/tinygrad\n",
            " * [new branch]      cleanup_mlperf -> origin/cleanup_mlperf\n",
            " * [new branch]      dcgan          -> origin/dcgan\n",
            " * [new branch]      fast_triton    -> origin/fast_triton\n",
            " * [new branch]      master         -> origin/master\n",
            " * [new branch]      metalopt       -> origin/metalopt\n",
            " * [new branch]      nevergrad      -> origin/nevergrad\n",
            " * [new branch]      new_triton     -> origin/new_triton\n",
            " * [new branch]      run_commavq    -> origin/run_commavq\n",
            " * [new branch]      simple_bitcast -> origin/simple_bitcast\n",
            " * [new branch]      tensor_cores   -> origin/tensor_cores\n",
            " * [new branch]      uopsif         -> origin/uopsif\n",
            " * [new tag]         v0.4.0         -> v0.4.0\n",
            " * [new tag]         v0.5.0         -> v0.5.0\n",
            " * [new tag]         v0.6.0         -> v0.6.0\n",
            "Branch 'master' set up to track remote branch 'master' from 'origin'.\n",
            "Already on 'master'\n"
          ]
        }
      ],
      "source": [
        "\n",
        "!git init\n",
        "!git remote add origin https://github.com/geohot/tinygrad.git\n",
        "!git fetch origin\n",
        "!git checkout -b master --track origin/master\n",
        "!git reset origin/master\n"
      ]
    },
    {
      "cell_type": "code",
      "execution_count": 2,
      "metadata": {
        "colab": {
          "base_uri": "https://localhost:8080/"
        },
        "id": "6k8extjLPnNq",
        "outputId": "a161d135-43d1-4cd9-ced9-55370829871f"
      },
      "outputs": [
        {
          "output_type": "stream",
          "name": "stdout",
          "text": [
            "Obtaining file:///content\n",
            "  Preparing metadata (setup.py) ... \u001b[?25l\u001b[?25hdone\n",
            "Requirement already satisfied: numpy in /usr/local/lib/python3.10/dist-packages (from tinygrad==0.6.0) (1.23.5)\n",
            "Requirement already satisfied: requests in /usr/local/lib/python3.10/dist-packages (from tinygrad==0.6.0) (2.31.0)\n",
            "Requirement already satisfied: pillow in /usr/local/lib/python3.10/dist-packages (from tinygrad==0.6.0) (9.4.0)\n",
            "Requirement already satisfied: tqdm in /usr/local/lib/python3.10/dist-packages (from tinygrad==0.6.0) (4.66.1)\n",
            "Requirement already satisfied: networkx in /usr/local/lib/python3.10/dist-packages (from tinygrad==0.6.0) (3.1)\n",
            "Collecting pyopencl (from tinygrad==0.6.0)\n",
            "  Downloading pyopencl-2023.1.2-cp310-cp310-manylinux_2_17_x86_64.manylinux2014_x86_64.whl (941 kB)\n",
            "\u001b[2K     \u001b[90m━━━━━━━━━━━━━━━━━━━━━━━━━━━━━━━━━━━━━━\u001b[0m \u001b[32m941.9/941.9 kB\u001b[0m \u001b[31m10.7 MB/s\u001b[0m eta \u001b[36m0:00:00\u001b[0m\n",
            "\u001b[?25hRequirement already satisfied: PyYAML in /usr/local/lib/python3.10/dist-packages (from tinygrad==0.6.0) (6.0.1)\n",
            "Collecting pytools>=2021.2.7 (from pyopencl->tinygrad==0.6.0)\n",
            "  Downloading pytools-2023.1.1-py2.py3-none-any.whl (70 kB)\n",
            "\u001b[2K     \u001b[90m━━━━━━━━━━━━━━━━━━━━━━━━━━━━━━━━━━━━━━━━\u001b[0m \u001b[32m70.6/70.6 kB\u001b[0m \u001b[31m8.9 MB/s\u001b[0m eta \u001b[36m0:00:00\u001b[0m\n",
            "\u001b[?25hRequirement already satisfied: platformdirs>=2.2.0 in /usr/local/lib/python3.10/dist-packages (from pyopencl->tinygrad==0.6.0) (3.10.0)\n",
            "Requirement already satisfied: charset-normalizer<4,>=2 in /usr/local/lib/python3.10/dist-packages (from requests->tinygrad==0.6.0) (3.2.0)\n",
            "Requirement already satisfied: idna<4,>=2.5 in /usr/local/lib/python3.10/dist-packages (from requests->tinygrad==0.6.0) (3.4)\n",
            "Requirement already satisfied: urllib3<3,>=1.21.1 in /usr/local/lib/python3.10/dist-packages (from requests->tinygrad==0.6.0) (2.0.4)\n",
            "Requirement already satisfied: certifi>=2017.4.17 in /usr/local/lib/python3.10/dist-packages (from requests->tinygrad==0.6.0) (2023.7.22)\n",
            "Requirement already satisfied: typing-extensions>=4.0 in /usr/local/lib/python3.10/dist-packages (from pytools>=2021.2.7->pyopencl->tinygrad==0.6.0) (4.7.1)\n",
            "Installing collected packages: pytools, pyopencl, tinygrad\n",
            "  Running setup.py develop for tinygrad\n",
            "Successfully installed pyopencl-2023.1.2 pytools-2023.1.1 tinygrad-0.6.0\n"
          ]
        }
      ],
      "source": [
        "%pip install -e ."
      ]
    },
    {
      "cell_type": "code",
      "execution_count": null,
      "metadata": {
        "id": "zuCR9hdTPf0_"
      },
      "outputs": [],
      "source": [
        "%pip install pycuda"
      ]
    },
    {
      "cell_type": "code",
      "source": [
        "%pip install ipympl"
      ],
      "metadata": {
        "id": "LzPl_BAb_75f"
      },
      "execution_count": null,
      "outputs": []
    },
    {
      "cell_type": "code",
      "execution_count": 4,
      "metadata": {
        "id": "DLjaYXF7TQVA",
        "colab": {
          "base_uri": "https://localhost:8080/",
          "height": 601,
          "referenced_widgets": [
            "c584930045a1408cb1b2c3c7cf976dd9",
            "2acb55b1eaed41b5a6164cc106913ad4",
            "1eda8435842a494eb415860d46a34f6c",
            "313b3a553f0d4e458e0c75fcb112feed",
            "26e53aa989c44597b19b3b1e775a5a5e",
            "8bec2d67b70a41bc98df07a73e50dafe",
            "8aa7966c9dbf4befae3dba8450655c87",
            "fe52504b259e407da6894724dc02523e",
            "9372d48cedd34633be575a461d68224d"
          ]
        },
        "outputId": "8f7c6374-7a6b-4d77-dd1f-9340dcea07a3"
      },
      "outputs": [
        {
          "output_type": "display_data",
          "data": {
            "text/plain": [
              "IntSlider(value=0)"
            ],
            "application/vnd.jupyter.widget-view+json": {
              "version_major": 2,
              "version_minor": 0,
              "model_id": "c584930045a1408cb1b2c3c7cf976dd9"
            }
          },
          "metadata": {
            "application/vnd.jupyter.widget-view+json": {
              "colab": {
                "custom_widget_manager": {
                  "url": "https://ssl.gstatic.com/colaboratory-static/widgets/colab-cdn-widget-manager/b3e629b1971e1542/manager.min.js"
                }
              }
            }
          }
        },
        {
          "output_type": "display_data",
          "data": {
            "text/plain": [
              "Output()"
            ],
            "application/vnd.jupyter.widget-view+json": {
              "version_major": 2,
              "version_minor": 0,
              "model_id": "313b3a553f0d4e458e0c75fcb112feed"
            }
          },
          "metadata": {
            "application/vnd.jupyter.widget-view+json": {
              "colab": {
                "custom_widget_manager": {
                  "url": "https://ssl.gstatic.com/colaboratory-static/widgets/colab-cdn-widget-manager/b3e629b1971e1542/manager.min.js"
                }
              }
            }
          }
        },
        {
          "output_type": "display_data",
          "data": {
            "text/plain": [
              "Canvas(toolbar=Toolbar(toolitems=[('Home', 'Reset original view', 'home', 'home'), ('Back', 'Back to previous …"
            ],
            "image/png": "[encoded data removed]",
            "text/html": [
              "\n",
              "            <div style=\"display: inline-block;\">\n",
              "                <div class=\"jupyter-widgets widget-label\" style=\"text-align: center;\">\n",
              "                    Figure\n",
              "                </div>\n",
              "                <img src='data:image/png;base64,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' width=640.0/>\n",
              "            </div>\n",
              "        "
            ],
            "application/vnd.jupyter.widget-view+json": {
              "version_major": 2,
              "version_minor": 0,
              "model_id": "9372d48cedd34633be575a461d68224d"
            }
          },
          "metadata": {
            "application/vnd.jupyter.widget-view+json": {
              "colab": {
                "custom_widget_manager": {
                  "url": "https://ssl.gstatic.com/colaboratory-static/widgets/colab-cdn-widget-manager/b3e629b1971e1542/manager.min.js"
                }
              }
            }
          }
        }
      ],
      "source": [
        "%matplotlib widget\n",
        "import ipywidgets as widgets\n",
        "from IPython.display import display\n",
        "from google.colab import output\n",
        "output.enable_custom_widget_manager()\n",
        "from extra.datasets import fetch_mnist\n",
        "from matplotlib import pyplot as plt\n",
        "import numpy as np\n",
        "\n",
        "\n",
        "int_range = widgets.IntSlider()\n",
        "output2 = widgets.Output()\n",
        "\n",
        "display(int_range, output2)\n",
        "\n",
        "plt.clf()\n",
        "images_real = fetch_mnist()[2]\n",
        "\n",
        "fig=plt.imshow(np.array(images_real[1]).reshape(28,28), interpolation='none', cmap='gray')\n",
        "plt.show()\n",
        "\n",
        "def on_value_change(change):\n",
        "    with output2:\n",
        "        fig.set_data(np.array(images_real[change['new']]).reshape(28,28))\n",
        "\n",
        "\n",
        "int_range.observe(on_value_change, names='value')\n",
        "\n",
        "\n",
        "\n"
      ]
    },
    {
      "cell_type": "code",
      "source": [
        "\n",
        "from tinygrad.tensor import Tensor\n",
        "from tinygrad.nn import Linear\n",
        "image = np.array(images_real[21]).reshape(28,28);\n",
        "\n",
        "class NorNet:\n",
        "  def __init__(self):\n",
        "    self.l1 = Linear(2,2,bias=True)\n",
        "    self.l2 = Linear(2,1,bias=True)\n",
        "\n",
        "  def __call__(self, x):\n",
        "    x = self.l1(x)\n",
        "    x = x.leakyrelu()\n",
        "    x = self.l2(x)\n",
        "    x = x.leakyrelu()\n",
        "    return  x\n",
        "\n",
        "\n",
        "net = NorNet()\n",
        "\n",
        "\n"
      ],
      "metadata": {
        "id": "0GmPvsRARAES"
      },
      "execution_count": 69,
      "outputs": []
    },
    {
      "cell_type": "markdown",
      "source": [
        "0\t0\t| 1\n",
        "\n",
        "0\t1\t| 0\n",
        "\n",
        "1\t0\t| 0\n",
        "\n",
        "1\t1 |\t0\n",
        "\n",
        "\n",
        "intput = np.array([1,2,3,4]).reshape(4,1)\n",
        "\n",
        "expoutput =np.array([2,3,4,5]).reshape(4,1)\n"
      ],
      "metadata": {
        "id": "B7L7sDnvII85"
      }
    },
    {
      "cell_type": "code",
      "source": [
        "intput = np.array( [[0,\t0],\n",
        "[0,\t1\t],\n",
        "[1,\t0\t],\n",
        "[1,\t1\t]])\n",
        "\n",
        "expoutput = np.array([1,0,0,0]).reshape(4,1)"
      ],
      "metadata": {
        "id": "ZfNUSgvWPIjH"
      },
      "execution_count": 66,
      "outputs": []
    },
    {
      "cell_type": "code",
      "source": [
        "Tensor.training = True\n",
        "\n",
        "from IPython.display import clear_output\n",
        "from extra.training import sparse_categorical_crossentropy\n",
        "from tinygrad.nn.optim import SGD\n",
        "\n",
        "opt = SGD([net.l1.weight,net.l1.bias,net.l2.weight,net.l2.bias], lr=3e-4)\n",
        "\n",
        "\n",
        "\n",
        "\n",
        "def mean_squared_error(y_true, y_pred):\n",
        "    x= y_true.sub(Tensor(y_pred.astype(np.float32))).pow(2).mean()\n",
        "    return x\n",
        "\n",
        "\n",
        "for step in range(100000):\n",
        "\n",
        "  out = net(Tensor(intput,requires_grad=False))\n",
        "  #out = Tensor(np.array([1,0,0,0]).transpose())\n",
        "  loss= mean_squared_error(out,expoutput)\n",
        "\n",
        "  opt.zero_grad()\n",
        "  loss.backward()\n",
        "  opt.step()\n",
        "\n",
        "  if step % 100 == 0:\n",
        "    clear_output(wait=True)\n",
        "    print(out.numpy())\n",
        "    print(net.l1.weight.numpy())\n",
        "    print(net.l1.bias.numpy())\n",
        "    print(f\"Step {step+1} | Loss: {loss.numpy()} \")\n",
        "\n",
        "\n"
      ],
      "metadata": {
        "id": "w-Cv98V-HnmQ",
        "outputId": "4f17c51b-d5e8-4e0b-c207-46e2cf37ba0d",
        "colab": {
          "base_uri": "https://localhost:8080/"
        }
      },
      "execution_count": 70,
      "outputs": [
        {
          "output_type": "stream",
          "name": "stdout",
          "text": [
            "[[ 9.98079419e-01]\n",
            " [ 3.44270747e-03]\n",
            " [ 1.18083786e-04]\n",
            " [-2.02241284e-03]]\n",
            "[[ 0.9208081  -0.43554038]\n",
            " [-0.5492335  -0.8786332 ]]\n",
            "[-3.2043687e-08  8.7863261e-01]\n",
            "Step 99901 | Loss: 4.911240466753952e-06 \n"
          ]
        }
      ]
    },
    {
      "cell_type": "code",
      "source": [
        "print(mean_squared_error(Tensor(intput),np.array([1,4,3,4]).reshape(4,1)).numpy())\n"
      ],
      "metadata": {
        "id": "BPUew8fQfN46",
        "outputId": "06200519-885a-46d0-8917-c1d95ad688e7",
        "colab": {
          "base_uri": "https://localhost:8080/"
        }
      },
      "execution_count": 55,
      "outputs": [
        {
          "output_type": "stream",
          "name": "stdout",
          "text": [
            "[[0.]\n",
            " [4.]\n",
            " [0.]\n",
            " [0.]]\n"
          ]
        }
      ]
    },
    {
      "cell_type": "code",
      "source": [
        "t = Tensor(intput)\n",
        "print(t.numpy())"
      ],
      "metadata": {
        "id": "XCZcPhDweiCZ",
        "outputId": "16d23c50-5b0c-4806-c616-98845a5ff5b9",
        "colab": {
          "base_uri": "https://localhost:8080/"
        }
      },
      "execution_count": null,
      "outputs": [
        {
          "output_type": "stream",
          "name": "stdout",
          "text": [
            "[0. 1. 0. 1.]\n"
          ]
        }
      ]
    },
    {
      "cell_type": "code",
      "source": [
        "! GRAPH=1"
      ],
      "metadata": {
        "id": "e5zSVQSlKKnQ"
      },
      "execution_count": null,
      "outputs": []
    },
    {
      "cell_type": "markdown",
      "source": [],
      "metadata": {
        "id": "J63u3pK-Mgtw"
      }
    },
    {
      "cell_type": "markdown",
      "source": [],
      "metadata": {
        "id": "pt70Xi-_-50W"
      }
    },
    {
      "cell_type": "markdown",
      "source": [],
      "metadata": {
        "id": "RsgBG_FHBsmf"
      }
    },
    {
      "cell_type": "markdown",
      "source": [],
      "metadata": {
        "id": "Uwvam9P7_RYm"
      }
    },
    {
      "cell_type": "markdown",
      "source": [
        "!GPU=1 CUDA=1 python3 examples/mnist_gan.py\n",
        "21\n",
        "image = np.array(images_real[1]).reshape(28,28);\n",
        "\n",
        "for a in range(28):\n",
        "  print(int(28*((a)/28)))\n",
        "\n"
      ],
      "metadata": {
        "id": "ONW8tV5_8-8G"
      }
    },
    {
      "cell_type": "markdown",
      "metadata": {
        "id": "KDBmdYmGCmbx"
      },
      "source": [
        "# New Section"
      ]
    }
  ],
  "metadata": {
    "colab": {
      "provenance": [],
      "authorship_tag": "ABX9TyOvtsOw6Rvg2ER12SFeyeNw",
      "include_colab_link": true
    },
    "kernelspec": {
      "display_name": "Python 3",
      "name": "python3"
    },
    "language_info": {
      "name": "python"
    },
    "widgets": {
      "application/vnd.jupyter.widget-state+json": {
        "c584930045a1408cb1b2c3c7cf976dd9": {
          "model_module": "@jupyter-widgets/controls",
          "model_name": "IntSliderModel",
          "model_module_version": "1.5.0",
          "state": {
            "_dom_classes": [],
            "_model_module": "@jupyter-widgets/controls",
            "_model_module_version": "1.5.0",
            "_model_name": "IntSliderModel",
            "_view_count": null,
            "_view_module": "@jupyter-widgets/controls",
            "_view_module_version": "1.5.0",
            "_view_name": "IntSliderView",
            "continuous_update": true,
            "description": "",
            "description_tooltip": null,
            "disabled": false,
            "layout": "IPY_MODEL_2acb55b1eaed41b5a6164cc106913ad4",
            "max": 100,
            "min": 0,
            "orientation": "horizontal",
            "readout": true,
            "readout_format": "d",
            "step": 1,
            "style": "IPY_MODEL_1eda8435842a494eb415860d46a34f6c",
            "value": 0
          }
        },
        "2acb55b1eaed41b5a6164cc106913ad4": {
          "model_module": "@jupyter-widgets/base",
          "model_name": "LayoutModel",
          "model_module_version": "1.2.0",
          "state": {
            "_model_module": "@jupyter-widgets/base",
            "_model_module_version": "1.2.0",
            "_model_name": "LayoutModel",
            "_view_count": null,
            "_view_module": "@jupyter-widgets/base",
            "_view_module_version": "1.2.0",
            "_view_name": "LayoutView",
            "align_content": null,
            "align_items": null,
            "align_self": null,
            "border": null,
            "bottom": null,
            "display": null,
            "flex": null,
            "flex_flow": null,
            "grid_area": null,
            "grid_auto_columns": null,
            "grid_auto_flow": null,
            "grid_auto_rows": null,
            "grid_column": null,
            "grid_gap": null,
            "grid_row": null,
            "grid_template_areas": null,
            "grid_template_columns": null,
            "grid_template_rows": null,
            "height": null,
            "justify_content": null,
            "justify_items": null,
            "left": null,
            "margin": null,
            "max_height": null,
            "max_width": null,
            "min_height": null,
            "min_width": null,
            "object_fit": null,
            "object_position": null,
            "order": null,
            "overflow": null,
            "overflow_x": null,
            "overflow_y": null,
            "padding": null,
            "right": null,
            "top": null,
            "visibility": null,
            "width": null
          }
        },
        "1eda8435842a494eb415860d46a34f6c": {
          "model_module": "@jupyter-widgets/controls",
          "model_name": "SliderStyleModel",
          "model_module_version": "1.5.0",
          "state": {
            "_model_module": "@jupyter-widgets/controls",
            "_model_module_version": "1.5.0",
            "_model_name": "SliderStyleModel",
            "_view_count": null,
            "_view_module": "@jupyter-widgets/base",
            "_view_module_version": "1.2.0",
            "_view_name": "StyleView",
            "description_width": "",
            "handle_color": null
          }
        },
        "313b3a553f0d4e458e0c75fcb112feed": {
          "model_module": "@jupyter-widgets/output",
          "model_name": "OutputModel",
          "model_module_version": "1.0.0",
          "state": {
            "_dom_classes": [],
            "_model_module": "@jupyter-widgets/output",
            "_model_module_version": "1.0.0",
            "_model_name": "OutputModel",
            "_view_count": null,
            "_view_module": "@jupyter-widgets/output",
            "_view_module_version": "1.0.0",
            "_view_name": "OutputView",
            "layout": "IPY_MODEL_26e53aa989c44597b19b3b1e775a5a5e",
            "msg_id": "",
            "outputs": []
          }
        },
        "26e53aa989c44597b19b3b1e775a5a5e": {
          "model_module": "@jupyter-widgets/base",
          "model_name": "LayoutModel",
          "model_module_version": "1.2.0",
          "state": {
            "_model_module": "@jupyter-widgets/base",
            "_model_module_version": "1.2.0",
            "_model_name": "LayoutModel",
            "_view_count": null,
            "_view_module": "@jupyter-widgets/base",
            "_view_module_version": "1.2.0",
            "_view_name": "LayoutView",
            "align_content": null,
            "align_items": null,
            "align_self": null,
            "border": null,
            "bottom": null,
            "display": null,
            "flex": null,
            "flex_flow": null,
            "grid_area": null,
            "grid_auto_columns": null,
            "grid_auto_flow": null,
            "grid_auto_rows": null,
            "grid_column": null,
            "grid_gap": null,
            "grid_row": null,
            "grid_template_areas": null,
            "grid_template_columns": null,
            "grid_template_rows": null,
            "height": null,
            "justify_content": null,
            "justify_items": null,
            "left": null,
            "margin": null,
            "max_height": null,
            "max_width": null,
            "min_height": null,
            "min_width": null,
            "object_fit": null,
            "object_position": null,
            "order": null,
            "overflow": null,
            "overflow_x": null,
            "overflow_y": null,
            "padding": null,
            "right": null,
            "top": null,
            "visibility": null,
            "width": null
          }
        },
        "8bec2d67b70a41bc98df07a73e50dafe": {
          "model_module": "@jupyter-widgets/base",
          "model_name": "LayoutModel",
          "model_module_version": "1.2.0",
          "state": {
            "_model_module": "@jupyter-widgets/base",
            "_model_module_version": "1.2.0",
            "_model_name": "LayoutModel",
            "_view_count": null,
            "_view_module": "@jupyter-widgets/base",
            "_view_module_version": "1.2.0",
            "_view_name": "LayoutView",
            "align_content": null,
            "align_items": null,
            "align_self": null,
            "border": null,
            "bottom": null,
            "display": null,
            "flex": null,
            "flex_flow": null,
            "grid_area": null,
            "grid_auto_columns": null,
            "grid_auto_flow": null,
            "grid_auto_rows": null,
            "grid_column": null,
            "grid_gap": null,
            "grid_row": null,
            "grid_template_areas": null,
            "grid_template_columns": null,
            "grid_template_rows": null,
            "height": null,
            "justify_content": null,
            "justify_items": null,
            "left": null,
            "margin": null,
            "max_height": null,
            "max_width": null,
            "min_height": null,
            "min_width": null,
            "object_fit": null,
            "object_position": null,
            "order": null,
            "overflow": null,
            "overflow_x": null,
            "overflow_y": null,
            "padding": null,
            "right": null,
            "top": null,
            "visibility": null,
            "width": null
          }
        },
        "8aa7966c9dbf4befae3dba8450655c87": {
          "model_module": "@jupyter-widgets/base",
          "model_name": "LayoutModel",
          "model_module_version": "1.2.0",
          "state": {
            "_model_module": "@jupyter-widgets/base",
            "_model_module_version": "1.2.0",
            "_model_name": "LayoutModel",
            "_view_count": null,
            "_view_module": "@jupyter-widgets/base",
            "_view_module_version": "1.2.0",
            "_view_name": "LayoutView",
            "align_content": null,
            "align_items": null,
            "align_self": null,
            "border": null,
            "bottom": null,
            "display": null,
            "flex": null,
            "flex_flow": null,
            "grid_area": null,
            "grid_auto_columns": null,
            "grid_auto_flow": null,
            "grid_auto_rows": null,
            "grid_column": null,
            "grid_gap": null,
            "grid_row": null,
            "grid_template_areas": null,
            "grid_template_columns": null,
            "grid_template_rows": null,
            "height": null,
            "justify_content": null,
            "justify_items": null,
            "left": null,
            "margin": null,
            "max_height": null,
            "max_width": null,
            "min_height": null,
            "min_width": null,
            "object_fit": null,
            "object_position": null,
            "order": null,
            "overflow": null,
            "overflow_x": null,
            "overflow_y": null,
            "padding": null,
            "right": null,
            "top": null,
            "visibility": null,
            "width": null
          }
        },
        "fe52504b259e407da6894724dc02523e": {
          "model_module": "jupyter-matplotlib",
          "model_name": "ToolbarModel",
          "model_module_version": "^0.11",
          "state": {
            "_current_action": "",
            "_dom_classes": [],
            "_model_module": "jupyter-matplotlib",
            "_model_module_version": "^0.11",
            "_model_name": "ToolbarModel",
            "_view_count": null,
            "_view_module": "jupyter-matplotlib",
            "_view_module_version": "^0.11",
            "_view_name": "ToolbarView",
            "button_style": "",
            "collapsed": true,
            "layout": "IPY_MODEL_8aa7966c9dbf4befae3dba8450655c87",
            "orientation": "vertical",
            "toolitems": [
              [
                "Home",
                "Reset original view",
                "home",
                "home"
              ],
              [
                "Back",
                "Back to previous view",
                "arrow-left",
                "back"
              ],
              [
                "Forward",
                "Forward to next view",
                "arrow-right",
                "forward"
              ],
              [
                "Pan",
                "Left button pans, Right button zooms\nx/y fixes axis, CTRL fixes aspect",
                "arrows",
                "pan"
              ],
              [
                "Zoom",
                "Zoom to rectangle\nx/y fixes axis",
                "square-o",
                "zoom"
              ],
              [
                "Download",
                "Download plot",
                "floppy-o",
                "save_figure"
              ]
            ]
          }
        },
        "9372d48cedd34633be575a461d68224d": {
          "model_module": "jupyter-matplotlib",
          "model_name": "MPLCanvasModel",
          "model_module_version": "^0.11",
          "state": {
            "_cursor": "pointer",
            "_data_url": "data:image/png;base64,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",
            "_dom_classes": [],
            "_figure_label": "Figure 1",
            "_image_mode": "diff",
            "_message": "x=14.03 y=25.60\n[0.0]",
            "_model_module": "jupyter-matplotlib",
            "_model_module_version": "^0.11",
            "_model_name": "MPLCanvasModel",
            "_rubberband_height": 0,
            "_rubberband_width": 0,
            "_rubberband_x": 0,
            "_rubberband_y": 0,
            "_size": [
              640,
              480
            ],
            "_view_count": null,
            "_view_module": "jupyter-matplotlib",
            "_view_module_version": "^0.11",
            "_view_name": "MPLCanvasView",
            "capture_scroll": false,
            "footer_visible": true,
            "header_visible": true,
            "layout": "IPY_MODEL_8bec2d67b70a41bc98df07a73e50dafe",
            "pan_zoom_throttle": 33,
            "resizable": true,
            "toolbar": "IPY_MODEL_fe52504b259e407da6894724dc02523e",
            "toolbar_position": "left",
            "toolbar_visible": "fade-in-fade-out"
          }
        }
      }
    }
  },
  "nbformat": 4,
  "nbformat_minor": 0
}